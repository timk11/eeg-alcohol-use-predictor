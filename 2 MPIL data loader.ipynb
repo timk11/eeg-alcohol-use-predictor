{
 "cells": [
  {
   "cell_type": "markdown",
   "metadata": {},
   "source": [
    "> This notebook loads raw data from the MPIL dataset, which are then converted into spectral power densities and compiled as a separate DataFrame and CSV file for each of the two testing conditions (eyes open and eyes closed). The set of subject data is then dowloaded and saved as is."
   ]
  },
  {
   "cell_type": "code",
   "execution_count": 1,
   "metadata": {},
   "outputs": [],
   "source": [
    "import numpy as np\n",
    "import pandas as pd\n",
    "import mne\n",
    "from mne.time_frequency import psd_welch\n",
    "from scipy.integrate import simps\n",
    "import wget\n",
    "import os"
   ]
  },
  {
   "cell_type": "code",
   "execution_count": 2,
   "metadata": {},
   "outputs": [
    {
     "data": {
      "text/html": [
       "<div>\n",
       "<style scoped>\n",
       "    .dataframe tbody tr th:only-of-type {\n",
       "        vertical-align: middle;\n",
       "    }\n",
       "\n",
       "    .dataframe tbody tr th {\n",
       "        vertical-align: top;\n",
       "    }\n",
       "\n",
       "    .dataframe thead th {\n",
       "        text-align: right;\n",
       "    }\n",
       "</style>\n",
       "<table border=\"1\" class=\"dataframe\">\n",
       "  <thead>\n",
       "    <tr style=\"text-align: right;\">\n",
       "      <th></th>\n",
       "      <th>Fp1a delta</th>\n",
       "      <th>Fp1a theta</th>\n",
       "      <th>Fp1a alpha</th>\n",
       "      <th>Fp1a beta</th>\n",
       "      <th>Fp1a gamma</th>\n",
       "      <th>Fp2a delta</th>\n",
       "      <th>Fp2a theta</th>\n",
       "      <th>Fp2a alpha</th>\n",
       "      <th>Fp2a beta</th>\n",
       "      <th>Fp2a gamma</th>\n",
       "      <th>...</th>\n",
       "      <th>P3/P4 delta</th>\n",
       "      <th>P3/P4 theta</th>\n",
       "      <th>P3/P4 alpha</th>\n",
       "      <th>P3/P4 beta</th>\n",
       "      <th>P3/P4 gamma</th>\n",
       "      <th>O1/O2 delta</th>\n",
       "      <th>O1/O2 theta</th>\n",
       "      <th>O1/O2 alpha</th>\n",
       "      <th>O1/O2 beta</th>\n",
       "      <th>O1/O2 gamma</th>\n",
       "    </tr>\n",
       "  </thead>\n",
       "  <tbody>\n",
       "  </tbody>\n",
       "</table>\n",
       "<p>0 rows × 150 columns</p>\n",
       "</div>"
      ],
      "text/plain": [
       "Empty DataFrame\n",
       "Columns: [Fp1a delta, Fp1a theta, Fp1a alpha, Fp1a beta, Fp1a gamma, Fp2a delta, Fp2a theta, Fp2a alpha, Fp2a beta, Fp2a gamma, F3a delta, F3a theta, F3a alpha, F3a beta, F3a gamma, F4a delta, F4a theta, F4a alpha, F4a beta, F4a gamma, F7a delta, F7a theta, F7a alpha, F7a beta, F7a gamma, F8a delta, F8a theta, F8a alpha, F8a beta, F8a gamma, C3a delta, C3a theta, C3a alpha, C3a beta, C3a gamma, C4a delta, C4a theta, C4a alpha, C4a beta, C4a gamma, P3a delta, P3a theta, P3a alpha, P3a beta, P3a gamma, P4a delta, P4a theta, P4a alpha, P4a beta, P4a gamma, O1a delta, O1a theta, O1a alpha, O1a beta, O1a gamma, O2a delta, O2a theta, O2a alpha, O2a beta, O2a gamma, Fp1r delta, Fp1r theta, Fp1r alpha, Fp1r beta, Fp1r gamma, Fp2r delta, Fp2r theta, Fp2r alpha, Fp2r beta, Fp2r gamma, F3r delta, F3r theta, F3r alpha, F3r beta, F3r gamma, F4r delta, F4r theta, F4r alpha, F4r beta, F4r gamma, F7r delta, F7r theta, F7r alpha, F7r beta, F7r gamma, F8r delta, F8r theta, F8r alpha, F8r beta, F8r gamma, C3r delta, C3r theta, C3r alpha, C3r beta, C3r gamma, C4r delta, C4r theta, C4r alpha, C4r beta, C4r gamma, ...]\n",
       "Index: []\n",
       "\n",
       "[0 rows x 150 columns]"
      ]
     },
     "metadata": {},
     "output_type": "display_data"
    }
   ],
   "source": [
    "band_dict = {\"delta\": [1.5, 4], \"theta\": [4, 7], \"alpha\": [7, 12], \"beta\": [12, 30], \"gamma\": [30, 45]}\n",
    "channels = ['Fp1', 'Fp2', 'F3', 'F4', 'F7', 'F8', 'C3', 'C4', 'P3', 'P4', 'O1', 'O2']\n",
    "pairs = [('Fp1', 'Fp2'), ('F3', 'F4'), ('F7', 'F8'), ('C3', 'C4'), ('P3', 'P4'), ('O1', 'O2')]\n",
    "idces = ['Fp1', 'Fp2', 'F3', 'F4', 'F7', 'F8', 'C3', 'C4', 'P3', 'P4', 'O1', 'O2', 'Fp1/Fp2', 'F3/F4', 'F7/F8', 'C3/C4', 'P3/P4', 'O1/O2']\n",
    "subjects = []\n",
    "idces1 = list()\n",
    "for channel in channels:\n",
    "    for band in band_dict.keys():\n",
    "        idces1.append(channel + \"a \" + band)\n",
    "for channel in channels:\n",
    "    for band in band_dict.keys():\n",
    "        idces1.append(channel + \"r \" + band)\n",
    "for channel in idces[12:]:\n",
    "    for band in band_dict.keys():\n",
    "        idces1.append(channel + \" \" + band)\n",
    "df1ec = pd.DataFrame(index=subjects, columns=idces1)\n",
    "df1eo = pd.DataFrame(index=subjects, columns=idces1)\n",
    "display(df1ec)"
   ]
  },
  {
   "cell_type": "code",
   "execution_count": 3,
   "metadata": {},
   "outputs": [
    {
     "name": "stdout",
     "output_type": "stream",
     "text": [
      "100% [..........................................................................] 1198784 / 1198784Reading sub-010002_EC.fdt\n"
     ]
    },
    {
     "name": "stderr",
     "output_type": "stream",
     "text": [
      "<ipython-input-3-eddedfb9c70e>:8: RuntimeWarning: Limited 1 annotation(s) that were expanding outside the data range.\n",
      "  raw = mne.io.read_raw_eeglab('sub-0' + str(10000 + i) + j + '.set')\n",
      "<ipython-input-3-eddedfb9c70e>:8: RuntimeWarning: The data contains 'boundary' events, indicating data discontinuities. Be cautious of filtering and epoching around these events.\n",
      "  raw = mne.io.read_raw_eeglab('sub-0' + str(10000 + i) + j + '.set')\n"
     ]
    },
    {
     "name": "stdout",
     "output_type": "stream",
     "text": [
      "100% [..........................................................................] 1186864 / 1186864Reading sub-010002_EO.fdt\n"
     ]
    },
    {
     "name": "stderr",
     "output_type": "stream",
     "text": [
      "<ipython-input-3-eddedfb9c70e>:8: RuntimeWarning: Limited 1 annotation(s) that were expanding outside the data range.\n",
      "  raw = mne.io.read_raw_eeglab('sub-0' + str(10000 + i) + j + '.set')\n",
      "<ipython-input-3-eddedfb9c70e>:8: RuntimeWarning: The data contains 'boundary' events, indicating data discontinuities. Be cautious of filtering and epoching around these events.\n",
      "  raw = mne.io.read_raw_eeglab('sub-0' + str(10000 + i) + j + '.set')\n"
     ]
    },
    {
     "name": "stdout",
     "output_type": "stream",
     "text": [
      "100% [..........................................................................] 1201152 / 1201152Reading sub-010003_EC.fdt\n"
     ]
    },
    {
     "name": "stderr",
     "output_type": "stream",
     "text": [
      "<ipython-input-3-eddedfb9c70e>:8: RuntimeWarning: Limited 1 annotation(s) that were expanding outside the data range.\n",
      "  raw = mne.io.read_raw_eeglab('sub-0' + str(10000 + i) + j + '.set')\n",
      "<ipython-input-3-eddedfb9c70e>:8: RuntimeWarning: The data contains 'boundary' events, indicating data discontinuities. Be cautious of filtering and epoching around these events.\n",
      "  raw = mne.io.read_raw_eeglab('sub-0' + str(10000 + i) + j + '.set')\n"
     ]
    },
    {
     "name": "stdout",
     "output_type": "stream",
     "text": [
      "100% [............................................................................] 723368 / 723368Reading sub-010003_EO.fdt\n"
     ]
    },
    {
     "name": "stderr",
     "output_type": "stream",
     "text": [
      "<ipython-input-3-eddedfb9c70e>:8: RuntimeWarning: Limited 1 annotation(s) that were expanding outside the data range.\n",
      "  raw = mne.io.read_raw_eeglab('sub-0' + str(10000 + i) + j + '.set')\n",
      "<ipython-input-3-eddedfb9c70e>:8: RuntimeWarning: The data contains 'boundary' events, indicating data discontinuities. Be cautious of filtering and epoching around these events.\n",
      "  raw = mne.io.read_raw_eeglab('sub-0' + str(10000 + i) + j + '.set')\n"
     ]
    },
    {
     "name": "stdout",
     "output_type": "stream",
     "text": [
      "100% [..........................................................................] 1198440 / 1198440Reading sub-010004_EC.fdt\n"
     ]
    },
    {
     "name": "stderr",
     "output_type": "stream",
     "text": [
      "<ipython-input-3-eddedfb9c70e>:8: RuntimeWarning: Limited 1 annotation(s) that were expanding outside the data range.\n",
      "  raw = mne.io.read_raw_eeglab('sub-0' + str(10000 + i) + j + '.set')\n",
      "<ipython-input-3-eddedfb9c70e>:8: RuntimeWarning: The data contains 'boundary' events, indicating data discontinuities. Be cautious of filtering and epoching around these events.\n",
      "  raw = mne.io.read_raw_eeglab('sub-0' + str(10000 + i) + j + '.set')\n"
     ]
    },
    {
     "name": "stdout",
     "output_type": "stream",
     "text": [
      "100% [..........................................................................] 1200344 / 1200344Reading sub-010004_EO.fdt\n"
     ]
    },
    {
     "name": "stderr",
     "output_type": "stream",
     "text": [
      "<ipython-input-3-eddedfb9c70e>:8: RuntimeWarning: Limited 1 annotation(s) that were expanding outside the data range.\n",
      "  raw = mne.io.read_raw_eeglab('sub-0' + str(10000 + i) + j + '.set')\n",
      "<ipython-input-3-eddedfb9c70e>:8: RuntimeWarning: The data contains 'boundary' events, indicating data discontinuities. Be cautious of filtering and epoching around these events.\n",
      "  raw = mne.io.read_raw_eeglab('sub-0' + str(10000 + i) + j + '.set')\n"
     ]
    },
    {
     "name": "stdout",
     "output_type": "stream",
     "text": [
      "100% [............................................................................] 722224 / 722224Reading sub-010005_EC.fdt\n"
     ]
    },
    {
     "name": "stderr",
     "output_type": "stream",
     "text": [
      "<ipython-input-3-eddedfb9c70e>:8: RuntimeWarning: Limited 1 annotation(s) that were expanding outside the data range.\n",
      "  raw = mne.io.read_raw_eeglab('sub-0' + str(10000 + i) + j + '.set')\n",
      "<ipython-input-3-eddedfb9c70e>:8: RuntimeWarning: The data contains 'boundary' events, indicating data discontinuities. Be cautious of filtering and epoching around these events.\n",
      "  raw = mne.io.read_raw_eeglab('sub-0' + str(10000 + i) + j + '.set')\n"
     ]
    },
    {
     "name": "stdout",
     "output_type": "stream",
     "text": [
      "100% [..........................................................................] 1201184 / 1201184Reading sub-010005_EO.fdt\n"
     ]
    },
    {
     "name": "stderr",
     "output_type": "stream",
     "text": [
      "<ipython-input-3-eddedfb9c70e>:8: RuntimeWarning: Limited 1 annotation(s) that were expanding outside the data range.\n",
      "  raw = mne.io.read_raw_eeglab('sub-0' + str(10000 + i) + j + '.set')\n",
      "<ipython-input-3-eddedfb9c70e>:8: RuntimeWarning: The data contains 'boundary' events, indicating data discontinuities. Be cautious of filtering and epoching around these events.\n",
      "  raw = mne.io.read_raw_eeglab('sub-0' + str(10000 + i) + j + '.set')\n"
     ]
    },
    {
     "name": "stdout",
     "output_type": "stream",
     "text": [
      "100% [..........................................................................] 1165528 / 1165528Reading sub-010006_EC.fdt\n"
     ]
    },
    {
     "name": "stderr",
     "output_type": "stream",
     "text": [
      "<ipython-input-3-eddedfb9c70e>:8: RuntimeWarning: Limited 1 annotation(s) that were expanding outside the data range.\n",
      "  raw = mne.io.read_raw_eeglab('sub-0' + str(10000 + i) + j + '.set')\n",
      "<ipython-input-3-eddedfb9c70e>:8: RuntimeWarning: The data contains 'boundary' events, indicating data discontinuities. Be cautious of filtering and epoching around these events.\n",
      "  raw = mne.io.read_raw_eeglab('sub-0' + str(10000 + i) + j + '.set')\n"
     ]
    },
    {
     "name": "stdout",
     "output_type": "stream",
     "text": [
      "100% [..........................................................................] 1116000 / 1116000Reading sub-010006_EO.fdt\n"
     ]
    },
    {
     "name": "stderr",
     "output_type": "stream",
     "text": [
      "<ipython-input-3-eddedfb9c70e>:8: RuntimeWarning: Limited 1 annotation(s) that were expanding outside the data range.\n",
      "  raw = mne.io.read_raw_eeglab('sub-0' + str(10000 + i) + j + '.set')\n",
      "<ipython-input-3-eddedfb9c70e>:8: RuntimeWarning: The data contains 'boundary' events, indicating data discontinuities. Be cautious of filtering and epoching around these events.\n",
      "  raw = mne.io.read_raw_eeglab('sub-0' + str(10000 + i) + j + '.set')\n"
     ]
    },
    {
     "name": "stdout",
     "output_type": "stream",
     "text": [
      "100% [..........................................................................] 1199368 / 1199368Reading sub-010007_EC.fdt\n"
     ]
    },
    {
     "name": "stderr",
     "output_type": "stream",
     "text": [
      "<ipython-input-3-eddedfb9c70e>:8: RuntimeWarning: Limited 1 annotation(s) that were expanding outside the data range.\n",
      "  raw = mne.io.read_raw_eeglab('sub-0' + str(10000 + i) + j + '.set')\n",
      "<ipython-input-3-eddedfb9c70e>:8: RuntimeWarning: The data contains 'boundary' events, indicating data discontinuities. Be cautious of filtering and epoching around these events.\n",
      "  raw = mne.io.read_raw_eeglab('sub-0' + str(10000 + i) + j + '.set')\n"
     ]
    },
    {
     "name": "stdout",
     "output_type": "stream",
     "text": [
      "100% [..........................................................................] 1189288 / 1189288Reading sub-010007_EO.fdt\n"
     ]
    },
    {
     "name": "stderr",
     "output_type": "stream",
     "text": [
      "<ipython-input-3-eddedfb9c70e>:8: RuntimeWarning: Limited 1 annotation(s) that were expanding outside the data range.\n",
      "  raw = mne.io.read_raw_eeglab('sub-0' + str(10000 + i) + j + '.set')\n",
      "<ipython-input-3-eddedfb9c70e>:8: RuntimeWarning: The data contains 'boundary' events, indicating data discontinuities. Be cautious of filtering and epoching around these events.\n",
      "  raw = mne.io.read_raw_eeglab('sub-0' + str(10000 + i) + j + '.set')\n"
     ]
    },
    {
     "name": "stdout",
     "output_type": "stream",
     "text": [
      "100% [..........................................................................] 1193784 / 1193784Reading sub-010010_EC.fdt\n"
     ]
    },
    {
     "name": "stderr",
     "output_type": "stream",
     "text": [
      "<ipython-input-3-eddedfb9c70e>:8: RuntimeWarning: Limited 1 annotation(s) that were expanding outside the data range.\n",
      "  raw = mne.io.read_raw_eeglab('sub-0' + str(10000 + i) + j + '.set')\n",
      "<ipython-input-3-eddedfb9c70e>:8: RuntimeWarning: The data contains 'boundary' events, indicating data discontinuities. Be cautious of filtering and epoching around these events.\n",
      "  raw = mne.io.read_raw_eeglab('sub-0' + str(10000 + i) + j + '.set')\n"
     ]
    },
    {
     "name": "stdout",
     "output_type": "stream",
     "text": [
      "100% [..........................................................................] 1158344 / 1158344Reading sub-010010_EO.fdt\n"
     ]
    },
    {
     "name": "stderr",
     "output_type": "stream",
     "text": [
      "<ipython-input-3-eddedfb9c70e>:8: RuntimeWarning: Limited 1 annotation(s) that were expanding outside the data range.\n",
      "  raw = mne.io.read_raw_eeglab('sub-0' + str(10000 + i) + j + '.set')\n",
      "<ipython-input-3-eddedfb9c70e>:8: RuntimeWarning: The data contains 'boundary' events, indicating data discontinuities. Be cautious of filtering and epoching around these events.\n",
      "  raw = mne.io.read_raw_eeglab('sub-0' + str(10000 + i) + j + '.set')\n"
     ]
    },
    {
     "name": "stdout",
     "output_type": "stream",
     "text": [
      "100% [............................................................................] 726456 / 726456Reading sub-010012_EC.fdt\n"
     ]
    },
    {
     "name": "stderr",
     "output_type": "stream",
     "text": [
      "<ipython-input-3-eddedfb9c70e>:8: RuntimeWarning: Limited 1 annotation(s) that were expanding outside the data range.\n",
      "  raw = mne.io.read_raw_eeglab('sub-0' + str(10000 + i) + j + '.set')\n",
      "<ipython-input-3-eddedfb9c70e>:8: RuntimeWarning: The data contains 'boundary' events, indicating data discontinuities. Be cautious of filtering and epoching around these events.\n",
      "  raw = mne.io.read_raw_eeglab('sub-0' + str(10000 + i) + j + '.set')\n"
     ]
    },
    {
     "name": "stdout",
     "output_type": "stream",
     "text": [
      "100% [..........................................................................] 1191872 / 1191872Reading sub-010012_EO.fdt\n"
     ]
    },
    {
     "name": "stderr",
     "output_type": "stream",
     "text": [
      "<ipython-input-3-eddedfb9c70e>:8: RuntimeWarning: Limited 1 annotation(s) that were expanding outside the data range.\n",
      "  raw = mne.io.read_raw_eeglab('sub-0' + str(10000 + i) + j + '.set')\n",
      "<ipython-input-3-eddedfb9c70e>:8: RuntimeWarning: The data contains 'boundary' events, indicating data discontinuities. Be cautious of filtering and epoching around these events.\n",
      "  raw = mne.io.read_raw_eeglab('sub-0' + str(10000 + i) + j + '.set')\n"
     ]
    },
    {
     "name": "stdout",
     "output_type": "stream",
     "text": [
      "100% [..........................................................................] 1190472 / 1190472Reading sub-010016_EC.fdt\n"
     ]
    },
    {
     "name": "stderr",
     "output_type": "stream",
     "text": [
      "<ipython-input-3-eddedfb9c70e>:8: RuntimeWarning: Limited 1 annotation(s) that were expanding outside the data range.\n",
      "  raw = mne.io.read_raw_eeglab('sub-0' + str(10000 + i) + j + '.set')\n",
      "<ipython-input-3-eddedfb9c70e>:8: RuntimeWarning: The data contains 'boundary' events, indicating data discontinuities. Be cautious of filtering and epoching around these events.\n",
      "  raw = mne.io.read_raw_eeglab('sub-0' + str(10000 + i) + j + '.set')\n"
     ]
    },
    {
     "name": "stdout",
     "output_type": "stream",
     "text": [
      "100% [..........................................................................] 1194112 / 1194112Reading sub-010016_EO.fdt\n"
     ]
    },
    {
     "name": "stderr",
     "output_type": "stream",
     "text": [
      "<ipython-input-3-eddedfb9c70e>:8: RuntimeWarning: Limited 1 annotation(s) that were expanding outside the data range.\n",
      "  raw = mne.io.read_raw_eeglab('sub-0' + str(10000 + i) + j + '.set')\n",
      "<ipython-input-3-eddedfb9c70e>:8: RuntimeWarning: The data contains 'boundary' events, indicating data discontinuities. Be cautious of filtering and epoching around these events.\n",
      "  raw = mne.io.read_raw_eeglab('sub-0' + str(10000 + i) + j + '.set')\n"
     ]
    },
    {
     "name": "stdout",
     "output_type": "stream",
     "text": [
      "100% [..........................................................................] 1195392 / 1195392Reading sub-010017_EC.fdt\n"
     ]
    },
    {
     "name": "stderr",
     "output_type": "stream",
     "text": [
      "<ipython-input-3-eddedfb9c70e>:8: RuntimeWarning: Limited 1 annotation(s) that were expanding outside the data range.\n",
      "  raw = mne.io.read_raw_eeglab('sub-0' + str(10000 + i) + j + '.set')\n",
      "<ipython-input-3-eddedfb9c70e>:8: RuntimeWarning: The data contains 'boundary' events, indicating data discontinuities. Be cautious of filtering and epoching around these events.\n",
      "  raw = mne.io.read_raw_eeglab('sub-0' + str(10000 + i) + j + '.set')\n"
     ]
    },
    {
     "name": "stdout",
     "output_type": "stream",
     "text": [
      "100% [..........................................................................] 1192624 / 1192624Reading sub-010017_EO.fdt\n"
     ]
    },
    {
     "name": "stderr",
     "output_type": "stream",
     "text": [
      "<ipython-input-3-eddedfb9c70e>:8: RuntimeWarning: Limited 1 annotation(s) that were expanding outside the data range.\n",
      "  raw = mne.io.read_raw_eeglab('sub-0' + str(10000 + i) + j + '.set')\n",
      "<ipython-input-3-eddedfb9c70e>:8: RuntimeWarning: The data contains 'boundary' events, indicating data discontinuities. Be cautious of filtering and epoching around these events.\n",
      "  raw = mne.io.read_raw_eeglab('sub-0' + str(10000 + i) + j + '.set')\n"
     ]
    },
    {
     "name": "stdout",
     "output_type": "stream",
     "text": [
      "100% [............................................................................] 724024 / 724024Reading sub-010019_EC.fdt\n"
     ]
    },
    {
     "name": "stderr",
     "output_type": "stream",
     "text": [
      "<ipython-input-3-eddedfb9c70e>:8: RuntimeWarning: Limited 1 annotation(s) that were expanding outside the data range.\n",
      "  raw = mne.io.read_raw_eeglab('sub-0' + str(10000 + i) + j + '.set')\n",
      "<ipython-input-3-eddedfb9c70e>:8: RuntimeWarning: The data contains 'boundary' events, indicating data discontinuities. Be cautious of filtering and epoching around these events.\n",
      "  raw = mne.io.read_raw_eeglab('sub-0' + str(10000 + i) + j + '.set')\n"
     ]
    },
    {
     "name": "stdout",
     "output_type": "stream",
     "text": [
      "100% [..........................................................................] 1192744 / 1192744Reading sub-010019_EO.fdt\n"
     ]
    },
    {
     "name": "stderr",
     "output_type": "stream",
     "text": [
      "<ipython-input-3-eddedfb9c70e>:8: RuntimeWarning: Limited 1 annotation(s) that were expanding outside the data range.\n",
      "  raw = mne.io.read_raw_eeglab('sub-0' + str(10000 + i) + j + '.set')\n",
      "<ipython-input-3-eddedfb9c70e>:8: RuntimeWarning: The data contains 'boundary' events, indicating data discontinuities. Be cautious of filtering and epoching around these events.\n",
      "  raw = mne.io.read_raw_eeglab('sub-0' + str(10000 + i) + j + '.set')\n"
     ]
    },
    {
     "name": "stdout",
     "output_type": "stream",
     "text": [
      "100% [..........................................................................] 1092520 / 1092520Reading sub-010020_EC.fdt\n"
     ]
    },
    {
     "name": "stderr",
     "output_type": "stream",
     "text": [
      "<ipython-input-3-eddedfb9c70e>:8: RuntimeWarning: Limited 1 annotation(s) that were expanding outside the data range.\n",
      "  raw = mne.io.read_raw_eeglab('sub-0' + str(10000 + i) + j + '.set')\n",
      "<ipython-input-3-eddedfb9c70e>:8: RuntimeWarning: The data contains 'boundary' events, indicating data discontinuities. Be cautious of filtering and epoching around these events.\n",
      "  raw = mne.io.read_raw_eeglab('sub-0' + str(10000 + i) + j + '.set')\n"
     ]
    },
    {
     "name": "stdout",
     "output_type": "stream",
     "text": [
      "100% [..........................................................................] 1065752 / 1065752Reading sub-010020_EO.fdt\n"
     ]
    },
    {
     "name": "stderr",
     "output_type": "stream",
     "text": [
      "<ipython-input-3-eddedfb9c70e>:8: RuntimeWarning: Limited 1 annotation(s) that were expanding outside the data range.\n",
      "  raw = mne.io.read_raw_eeglab('sub-0' + str(10000 + i) + j + '.set')\n",
      "<ipython-input-3-eddedfb9c70e>:8: RuntimeWarning: The data contains 'boundary' events, indicating data discontinuities. Be cautious of filtering and epoching around these events.\n",
      "  raw = mne.io.read_raw_eeglab('sub-0' + str(10000 + i) + j + '.set')\n"
     ]
    },
    {
     "name": "stdout",
     "output_type": "stream",
     "text": [
      "100% [..........................................................................] 1157672 / 1157672Reading sub-010021_EC.fdt\n"
     ]
    },
    {
     "name": "stderr",
     "output_type": "stream",
     "text": [
      "<ipython-input-3-eddedfb9c70e>:8: RuntimeWarning: Limited 1 annotation(s) that were expanding outside the data range.\n",
      "  raw = mne.io.read_raw_eeglab('sub-0' + str(10000 + i) + j + '.set')\n",
      "<ipython-input-3-eddedfb9c70e>:8: RuntimeWarning: The data contains 'boundary' events, indicating data discontinuities. Be cautious of filtering and epoching around these events.\n",
      "  raw = mne.io.read_raw_eeglab('sub-0' + str(10000 + i) + j + '.set')\n"
     ]
    },
    {
     "name": "stdout",
     "output_type": "stream",
     "text": [
      "100% [..........................................................................] 1156456 / 1156456Reading sub-010021_EO.fdt\n"
     ]
    },
    {
     "name": "stderr",
     "output_type": "stream",
     "text": [
      "<ipython-input-3-eddedfb9c70e>:8: RuntimeWarning: Limited 1 annotation(s) that were expanding outside the data range.\n",
      "  raw = mne.io.read_raw_eeglab('sub-0' + str(10000 + i) + j + '.set')\n",
      "<ipython-input-3-eddedfb9c70e>:8: RuntimeWarning: The data contains 'boundary' events, indicating data discontinuities. Be cautious of filtering and epoching around these events.\n",
      "  raw = mne.io.read_raw_eeglab('sub-0' + str(10000 + i) + j + '.set')\n"
     ]
    },
    {
     "name": "stdout",
     "output_type": "stream",
     "text": [
      "100% [..........................................................................] 1197072 / 1197072Reading sub-010022_EC.fdt\n"
     ]
    },
    {
     "name": "stderr",
     "output_type": "stream",
     "text": [
      "<ipython-input-3-eddedfb9c70e>:8: RuntimeWarning: Limited 1 annotation(s) that were expanding outside the data range.\n",
      "  raw = mne.io.read_raw_eeglab('sub-0' + str(10000 + i) + j + '.set')\n",
      "<ipython-input-3-eddedfb9c70e>:8: RuntimeWarning: The data contains 'boundary' events, indicating data discontinuities. Be cautious of filtering and epoching around these events.\n",
      "  raw = mne.io.read_raw_eeglab('sub-0' + str(10000 + i) + j + '.set')\n"
     ]
    },
    {
     "name": "stdout",
     "output_type": "stream",
     "text": [
      "100% [..........................................................................] 1188504 / 1188504Reading sub-010022_EO.fdt\n"
     ]
    },
    {
     "name": "stderr",
     "output_type": "stream",
     "text": [
      "<ipython-input-3-eddedfb9c70e>:8: RuntimeWarning: Limited 1 annotation(s) that were expanding outside the data range.\n",
      "  raw = mne.io.read_raw_eeglab('sub-0' + str(10000 + i) + j + '.set')\n",
      "<ipython-input-3-eddedfb9c70e>:8: RuntimeWarning: The data contains 'boundary' events, indicating data discontinuities. Be cautious of filtering and epoching around these events.\n",
      "  raw = mne.io.read_raw_eeglab('sub-0' + str(10000 + i) + j + '.set')\n"
     ]
    },
    {
     "name": "stdout",
     "output_type": "stream",
     "text": [
      "100% [............................................................................] 720904 / 720904Reading sub-010023_EC.fdt\n"
     ]
    },
    {
     "name": "stderr",
     "output_type": "stream",
     "text": [
      "<ipython-input-3-eddedfb9c70e>:8: RuntimeWarning: Limited 1 annotation(s) that were expanding outside the data range.\n",
      "  raw = mne.io.read_raw_eeglab('sub-0' + str(10000 + i) + j + '.set')\n",
      "<ipython-input-3-eddedfb9c70e>:8: RuntimeWarning: The data contains 'boundary' events, indicating data discontinuities. Be cautious of filtering and epoching around these events.\n",
      "  raw = mne.io.read_raw_eeglab('sub-0' + str(10000 + i) + j + '.set')\n"
     ]
    },
    {
     "name": "stdout",
     "output_type": "stream",
     "text": [
      "100% [..........................................................................] 1075688 / 1075688Reading sub-010023_EO.fdt\n"
     ]
    },
    {
     "name": "stderr",
     "output_type": "stream",
     "text": [
      "<ipython-input-3-eddedfb9c70e>:8: RuntimeWarning: Limited 1 annotation(s) that were expanding outside the data range.\n",
      "  raw = mne.io.read_raw_eeglab('sub-0' + str(10000 + i) + j + '.set')\n",
      "<ipython-input-3-eddedfb9c70e>:8: RuntimeWarning: The data contains 'boundary' events, indicating data discontinuities. Be cautious of filtering and epoching around these events.\n",
      "  raw = mne.io.read_raw_eeglab('sub-0' + str(10000 + i) + j + '.set')\n"
     ]
    },
    {
     "name": "stdout",
     "output_type": "stream",
     "text": [
      "100% [..........................................................................] 1177664 / 1177664Reading sub-010024_EC.fdt\n"
     ]
    },
    {
     "name": "stderr",
     "output_type": "stream",
     "text": [
      "<ipython-input-3-eddedfb9c70e>:8: RuntimeWarning: Limited 1 annotation(s) that were expanding outside the data range.\n",
      "  raw = mne.io.read_raw_eeglab('sub-0' + str(10000 + i) + j + '.set')\n",
      "<ipython-input-3-eddedfb9c70e>:8: RuntimeWarning: The data contains 'boundary' events, indicating data discontinuities. Be cautious of filtering and epoching around these events.\n",
      "  raw = mne.io.read_raw_eeglab('sub-0' + str(10000 + i) + j + '.set')\n"
     ]
    },
    {
     "name": "stdout",
     "output_type": "stream",
     "text": [
      "100% [..........................................................................] 1186016 / 1186016Reading sub-010024_EO.fdt\n"
     ]
    },
    {
     "name": "stderr",
     "output_type": "stream",
     "text": [
      "<ipython-input-3-eddedfb9c70e>:8: RuntimeWarning: Limited 1 annotation(s) that were expanding outside the data range.\n",
      "  raw = mne.io.read_raw_eeglab('sub-0' + str(10000 + i) + j + '.set')\n",
      "<ipython-input-3-eddedfb9c70e>:8: RuntimeWarning: The data contains 'boundary' events, indicating data discontinuities. Be cautious of filtering and epoching around these events.\n",
      "  raw = mne.io.read_raw_eeglab('sub-0' + str(10000 + i) + j + '.set')\n"
     ]
    },
    {
     "name": "stdout",
     "output_type": "stream",
     "text": [
      "100% [..........................................................................] 1156328 / 1156328Reading sub-010026_EC.fdt\n"
     ]
    },
    {
     "name": "stderr",
     "output_type": "stream",
     "text": [
      "<ipython-input-3-eddedfb9c70e>:8: RuntimeWarning: Limited 1 annotation(s) that were expanding outside the data range.\n",
      "  raw = mne.io.read_raw_eeglab('sub-0' + str(10000 + i) + j + '.set')\n",
      "<ipython-input-3-eddedfb9c70e>:8: RuntimeWarning: The data contains 'boundary' events, indicating data discontinuities. Be cautious of filtering and epoching around these events.\n",
      "  raw = mne.io.read_raw_eeglab('sub-0' + str(10000 + i) + j + '.set')\n"
     ]
    },
    {
     "name": "stdout",
     "output_type": "stream",
     "text": [
      "100% [..........................................................................] 1108080 / 1108080Reading sub-010026_EO.fdt\n"
     ]
    },
    {
     "name": "stderr",
     "output_type": "stream",
     "text": [
      "<ipython-input-3-eddedfb9c70e>:8: RuntimeWarning: Limited 1 annotation(s) that were expanding outside the data range.\n",
      "  raw = mne.io.read_raw_eeglab('sub-0' + str(10000 + i) + j + '.set')\n",
      "<ipython-input-3-eddedfb9c70e>:8: RuntimeWarning: The data contains 'boundary' events, indicating data discontinuities. Be cautious of filtering and epoching around these events.\n",
      "  raw = mne.io.read_raw_eeglab('sub-0' + str(10000 + i) + j + '.set')\n"
     ]
    },
    {
     "name": "stdout",
     "output_type": "stream",
     "text": [
      "100% [..........................................................................] 1199464 / 1199464Reading sub-010027_EC.fdt\n"
     ]
    },
    {
     "name": "stderr",
     "output_type": "stream",
     "text": [
      "<ipython-input-3-eddedfb9c70e>:8: RuntimeWarning: Limited 1 annotation(s) that were expanding outside the data range.\n",
      "  raw = mne.io.read_raw_eeglab('sub-0' + str(10000 + i) + j + '.set')\n",
      "<ipython-input-3-eddedfb9c70e>:8: RuntimeWarning: The data contains 'boundary' events, indicating data discontinuities. Be cautious of filtering and epoching around these events.\n",
      "  raw = mne.io.read_raw_eeglab('sub-0' + str(10000 + i) + j + '.set')\n"
     ]
    },
    {
     "name": "stdout",
     "output_type": "stream",
     "text": [
      "100% [..........................................................................] 1200280 / 1200280Reading sub-010027_EO.fdt\n"
     ]
    },
    {
     "name": "stderr",
     "output_type": "stream",
     "text": [
      "<ipython-input-3-eddedfb9c70e>:8: RuntimeWarning: Limited 1 annotation(s) that were expanding outside the data range.\n",
      "  raw = mne.io.read_raw_eeglab('sub-0' + str(10000 + i) + j + '.set')\n",
      "<ipython-input-3-eddedfb9c70e>:8: RuntimeWarning: The data contains 'boundary' events, indicating data discontinuities. Be cautious of filtering and epoching around these events.\n",
      "  raw = mne.io.read_raw_eeglab('sub-0' + str(10000 + i) + j + '.set')\n"
     ]
    },
    {
     "name": "stdout",
     "output_type": "stream",
     "text": [
      "100% [............................................................................] 719488 / 719488Reading sub-010028_EC.fdt\n"
     ]
    },
    {
     "name": "stderr",
     "output_type": "stream",
     "text": [
      "<ipython-input-3-eddedfb9c70e>:8: RuntimeWarning: Limited 1 annotation(s) that were expanding outside the data range.\n",
      "  raw = mne.io.read_raw_eeglab('sub-0' + str(10000 + i) + j + '.set')\n",
      "<ipython-input-3-eddedfb9c70e>:8: RuntimeWarning: The data contains 'boundary' events, indicating data discontinuities. Be cautious of filtering and epoching around these events.\n",
      "  raw = mne.io.read_raw_eeglab('sub-0' + str(10000 + i) + j + '.set')\n"
     ]
    },
    {
     "name": "stdout",
     "output_type": "stream",
     "text": [
      "100% [..........................................................................] 1199488 / 1199488Reading sub-010028_EO.fdt\n"
     ]
    },
    {
     "name": "stderr",
     "output_type": "stream",
     "text": [
      "<ipython-input-3-eddedfb9c70e>:8: RuntimeWarning: Limited 1 annotation(s) that were expanding outside the data range.\n",
      "  raw = mne.io.read_raw_eeglab('sub-0' + str(10000 + i) + j + '.set')\n",
      "<ipython-input-3-eddedfb9c70e>:8: RuntimeWarning: The data contains 'boundary' events, indicating data discontinuities. Be cautious of filtering and epoching around these events.\n",
      "  raw = mne.io.read_raw_eeglab('sub-0' + str(10000 + i) + j + '.set')\n"
     ]
    },
    {
     "name": "stdout",
     "output_type": "stream",
     "text": [
      "100% [............................................................................] 723328 / 723328Reading sub-010029_EC.fdt\n"
     ]
    },
    {
     "name": "stderr",
     "output_type": "stream",
     "text": [
      "<ipython-input-3-eddedfb9c70e>:8: RuntimeWarning: Limited 1 annotation(s) that were expanding outside the data range.\n",
      "  raw = mne.io.read_raw_eeglab('sub-0' + str(10000 + i) + j + '.set')\n",
      "<ipython-input-3-eddedfb9c70e>:8: RuntimeWarning: The data contains 'boundary' events, indicating data discontinuities. Be cautious of filtering and epoching around these events.\n",
      "  raw = mne.io.read_raw_eeglab('sub-0' + str(10000 + i) + j + '.set')\n"
     ]
    },
    {
     "name": "stdout",
     "output_type": "stream",
     "text": [
      "100% [............................................................................] 718472 / 718472Reading sub-010029_EO.fdt\n"
     ]
    },
    {
     "name": "stderr",
     "output_type": "stream",
     "text": [
      "<ipython-input-3-eddedfb9c70e>:8: RuntimeWarning: Limited 1 annotation(s) that were expanding outside the data range.\n",
      "  raw = mne.io.read_raw_eeglab('sub-0' + str(10000 + i) + j + '.set')\n",
      "<ipython-input-3-eddedfb9c70e>:8: RuntimeWarning: The data contains 'boundary' events, indicating data discontinuities. Be cautious of filtering and epoching around these events.\n",
      "  raw = mne.io.read_raw_eeglab('sub-0' + str(10000 + i) + j + '.set')\n"
     ]
    },
    {
     "name": "stdout",
     "output_type": "stream",
     "text": [
      "100% [..........................................................................] 1191424 / 1191424Reading sub-010030_EC.fdt\n"
     ]
    },
    {
     "name": "stderr",
     "output_type": "stream",
     "text": [
      "<ipython-input-3-eddedfb9c70e>:8: RuntimeWarning: Limited 1 annotation(s) that were expanding outside the data range.\n",
      "  raw = mne.io.read_raw_eeglab('sub-0' + str(10000 + i) + j + '.set')\n",
      "<ipython-input-3-eddedfb9c70e>:8: RuntimeWarning: The data contains 'boundary' events, indicating data discontinuities. Be cautious of filtering and epoching around these events.\n",
      "  raw = mne.io.read_raw_eeglab('sub-0' + str(10000 + i) + j + '.set')\n"
     ]
    },
    {
     "name": "stdout",
     "output_type": "stream",
     "text": [
      "100% [..........................................................................] 1179352 / 1179352Reading sub-010030_EO.fdt\n"
     ]
    },
    {
     "name": "stderr",
     "output_type": "stream",
     "text": [
      "<ipython-input-3-eddedfb9c70e>:8: RuntimeWarning: Limited 1 annotation(s) that were expanding outside the data range.\n",
      "  raw = mne.io.read_raw_eeglab('sub-0' + str(10000 + i) + j + '.set')\n",
      "<ipython-input-3-eddedfb9c70e>:8: RuntimeWarning: The data contains 'boundary' events, indicating data discontinuities. Be cautious of filtering and epoching around these events.\n",
      "  raw = mne.io.read_raw_eeglab('sub-0' + str(10000 + i) + j + '.set')\n"
     ]
    },
    {
     "name": "stdout",
     "output_type": "stream",
     "text": [
      "100% [..........................................................................] 1193024 / 1193024Reading sub-010031_EC.fdt\n"
     ]
    },
    {
     "name": "stderr",
     "output_type": "stream",
     "text": [
      "<ipython-input-3-eddedfb9c70e>:8: RuntimeWarning: Limited 1 annotation(s) that were expanding outside the data range.\n",
      "  raw = mne.io.read_raw_eeglab('sub-0' + str(10000 + i) + j + '.set')\n",
      "<ipython-input-3-eddedfb9c70e>:8: RuntimeWarning: The data contains 'boundary' events, indicating data discontinuities. Be cautious of filtering and epoching around these events.\n",
      "  raw = mne.io.read_raw_eeglab('sub-0' + str(10000 + i) + j + '.set')\n"
     ]
    },
    {
     "name": "stdout",
     "output_type": "stream",
     "text": [
      "100% [..........................................................................] 1169872 / 1169872Reading sub-010031_EO.fdt\n"
     ]
    },
    {
     "name": "stderr",
     "output_type": "stream",
     "text": [
      "<ipython-input-3-eddedfb9c70e>:8: RuntimeWarning: Limited 1 annotation(s) that were expanding outside the data range.\n",
      "  raw = mne.io.read_raw_eeglab('sub-0' + str(10000 + i) + j + '.set')\n",
      "<ipython-input-3-eddedfb9c70e>:8: RuntimeWarning: The data contains 'boundary' events, indicating data discontinuities. Be cautious of filtering and epoching around these events.\n",
      "  raw = mne.io.read_raw_eeglab('sub-0' + str(10000 + i) + j + '.set')\n"
     ]
    },
    {
     "name": "stdout",
     "output_type": "stream",
     "text": [
      "100% [..........................................................................] 1182776 / 1182776Reading sub-010032_EC.fdt\n"
     ]
    },
    {
     "name": "stderr",
     "output_type": "stream",
     "text": [
      "<ipython-input-3-eddedfb9c70e>:8: RuntimeWarning: Limited 1 annotation(s) that were expanding outside the data range.\n",
      "  raw = mne.io.read_raw_eeglab('sub-0' + str(10000 + i) + j + '.set')\n",
      "<ipython-input-3-eddedfb9c70e>:8: RuntimeWarning: The data contains 'boundary' events, indicating data discontinuities. Be cautious of filtering and epoching around these events.\n",
      "  raw = mne.io.read_raw_eeglab('sub-0' + str(10000 + i) + j + '.set')\n"
     ]
    },
    {
     "name": "stdout",
     "output_type": "stream",
     "text": [
      "100% [..........................................................................] 1170592 / 1170592Reading sub-010032_EO.fdt\n"
     ]
    },
    {
     "name": "stderr",
     "output_type": "stream",
     "text": [
      "<ipython-input-3-eddedfb9c70e>:8: RuntimeWarning: Limited 1 annotation(s) that were expanding outside the data range.\n",
      "  raw = mne.io.read_raw_eeglab('sub-0' + str(10000 + i) + j + '.set')\n",
      "<ipython-input-3-eddedfb9c70e>:8: RuntimeWarning: The data contains 'boundary' events, indicating data discontinuities. Be cautious of filtering and epoching around these events.\n",
      "  raw = mne.io.read_raw_eeglab('sub-0' + str(10000 + i) + j + '.set')\n"
     ]
    },
    {
     "name": "stdout",
     "output_type": "stream",
     "text": [
      "100% [..........................................................................] 1200112 / 1200112Reading sub-010033_EC.fdt\n"
     ]
    },
    {
     "name": "stderr",
     "output_type": "stream",
     "text": [
      "<ipython-input-3-eddedfb9c70e>:8: RuntimeWarning: Limited 1 annotation(s) that were expanding outside the data range.\n",
      "  raw = mne.io.read_raw_eeglab('sub-0' + str(10000 + i) + j + '.set')\n",
      "<ipython-input-3-eddedfb9c70e>:8: RuntimeWarning: The data contains 'boundary' events, indicating data discontinuities. Be cautious of filtering and epoching around these events.\n",
      "  raw = mne.io.read_raw_eeglab('sub-0' + str(10000 + i) + j + '.set')\n"
     ]
    },
    {
     "name": "stdout",
     "output_type": "stream",
     "text": [
      "100% [..........................................................................] 1190736 / 1190736Reading sub-010033_EO.fdt\n"
     ]
    },
    {
     "name": "stderr",
     "output_type": "stream",
     "text": [
      "<ipython-input-3-eddedfb9c70e>:8: RuntimeWarning: Limited 1 annotation(s) that were expanding outside the data range.\n",
      "  raw = mne.io.read_raw_eeglab('sub-0' + str(10000 + i) + j + '.set')\n",
      "<ipython-input-3-eddedfb9c70e>:8: RuntimeWarning: The data contains 'boundary' events, indicating data discontinuities. Be cautious of filtering and epoching around these events.\n",
      "  raw = mne.io.read_raw_eeglab('sub-0' + str(10000 + i) + j + '.set')\n"
     ]
    },
    {
     "name": "stdout",
     "output_type": "stream",
     "text": [
      "100% [..........................................................................] 1159816 / 1159816Reading sub-010034_EC.fdt\n"
     ]
    },
    {
     "name": "stderr",
     "output_type": "stream",
     "text": [
      "<ipython-input-3-eddedfb9c70e>:8: RuntimeWarning: Limited 1 annotation(s) that were expanding outside the data range.\n",
      "  raw = mne.io.read_raw_eeglab('sub-0' + str(10000 + i) + j + '.set')\n",
      "<ipython-input-3-eddedfb9c70e>:8: RuntimeWarning: The data contains 'boundary' events, indicating data discontinuities. Be cautious of filtering and epoching around these events.\n",
      "  raw = mne.io.read_raw_eeglab('sub-0' + str(10000 + i) + j + '.set')\n"
     ]
    },
    {
     "name": "stdout",
     "output_type": "stream",
     "text": [
      "100% [..........................................................................] 1151864 / 1151864Reading sub-010034_EO.fdt\n"
     ]
    },
    {
     "name": "stderr",
     "output_type": "stream",
     "text": [
      "<ipython-input-3-eddedfb9c70e>:8: RuntimeWarning: Limited 1 annotation(s) that were expanding outside the data range.\n",
      "  raw = mne.io.read_raw_eeglab('sub-0' + str(10000 + i) + j + '.set')\n",
      "<ipython-input-3-eddedfb9c70e>:8: RuntimeWarning: The data contains 'boundary' events, indicating data discontinuities. Be cautious of filtering and epoching around these events.\n",
      "  raw = mne.io.read_raw_eeglab('sub-0' + str(10000 + i) + j + '.set')\n"
     ]
    },
    {
     "name": "stdout",
     "output_type": "stream",
     "text": [
      "100% [..........................................................................] 1200176 / 1200176Reading sub-010035_EC.fdt\n"
     ]
    },
    {
     "name": "stderr",
     "output_type": "stream",
     "text": [
      "<ipython-input-3-eddedfb9c70e>:8: RuntimeWarning: Limited 1 annotation(s) that were expanding outside the data range.\n",
      "  raw = mne.io.read_raw_eeglab('sub-0' + str(10000 + i) + j + '.set')\n",
      "<ipython-input-3-eddedfb9c70e>:8: RuntimeWarning: The data contains 'boundary' events, indicating data discontinuities. Be cautious of filtering and epoching around these events.\n",
      "  raw = mne.io.read_raw_eeglab('sub-0' + str(10000 + i) + j + '.set')\n"
     ]
    },
    {
     "name": "stdout",
     "output_type": "stream",
     "text": [
      "100% [..........................................................................] 1196408 / 1196408Reading sub-010035_EO.fdt\n"
     ]
    },
    {
     "name": "stderr",
     "output_type": "stream",
     "text": [
      "<ipython-input-3-eddedfb9c70e>:8: RuntimeWarning: Limited 1 annotation(s) that were expanding outside the data range.\n",
      "  raw = mne.io.read_raw_eeglab('sub-0' + str(10000 + i) + j + '.set')\n",
      "<ipython-input-3-eddedfb9c70e>:8: RuntimeWarning: The data contains 'boundary' events, indicating data discontinuities. Be cautious of filtering and epoching around these events.\n",
      "  raw = mne.io.read_raw_eeglab('sub-0' + str(10000 + i) + j + '.set')\n"
     ]
    },
    {
     "name": "stdout",
     "output_type": "stream",
     "text": [
      "100% [..........................................................................] 1179776 / 1179776Reading sub-010036_EC.fdt\n"
     ]
    },
    {
     "name": "stderr",
     "output_type": "stream",
     "text": [
      "<ipython-input-3-eddedfb9c70e>:8: RuntimeWarning: Limited 1 annotation(s) that were expanding outside the data range.\n",
      "  raw = mne.io.read_raw_eeglab('sub-0' + str(10000 + i) + j + '.set')\n",
      "<ipython-input-3-eddedfb9c70e>:8: RuntimeWarning: The data contains 'boundary' events, indicating data discontinuities. Be cautious of filtering and epoching around these events.\n",
      "  raw = mne.io.read_raw_eeglab('sub-0' + str(10000 + i) + j + '.set')\n"
     ]
    },
    {
     "name": "stdout",
     "output_type": "stream",
     "text": [
      "100% [..........................................................................] 1146400 / 1146400Reading sub-010036_EO.fdt\n"
     ]
    },
    {
     "name": "stderr",
     "output_type": "stream",
     "text": [
      "<ipython-input-3-eddedfb9c70e>:8: RuntimeWarning: Limited 1 annotation(s) that were expanding outside the data range.\n",
      "  raw = mne.io.read_raw_eeglab('sub-0' + str(10000 + i) + j + '.set')\n",
      "<ipython-input-3-eddedfb9c70e>:8: RuntimeWarning: The data contains 'boundary' events, indicating data discontinuities. Be cautious of filtering and epoching around these events.\n",
      "  raw = mne.io.read_raw_eeglab('sub-0' + str(10000 + i) + j + '.set')\n"
     ]
    },
    {
     "name": "stdout",
     "output_type": "stream",
     "text": [
      "100% [..........................................................................] 1192352 / 1192352Reading sub-010037_EC.fdt\n"
     ]
    },
    {
     "name": "stderr",
     "output_type": "stream",
     "text": [
      "<ipython-input-3-eddedfb9c70e>:8: RuntimeWarning: Limited 1 annotation(s) that were expanding outside the data range.\n",
      "  raw = mne.io.read_raw_eeglab('sub-0' + str(10000 + i) + j + '.set')\n",
      "<ipython-input-3-eddedfb9c70e>:8: RuntimeWarning: The data contains 'boundary' events, indicating data discontinuities. Be cautious of filtering and epoching around these events.\n",
      "  raw = mne.io.read_raw_eeglab('sub-0' + str(10000 + i) + j + '.set')\n"
     ]
    },
    {
     "name": "stdout",
     "output_type": "stream",
     "text": [
      "100% [..........................................................................] 1197336 / 1197336Reading sub-010037_EO.fdt\n"
     ]
    },
    {
     "name": "stderr",
     "output_type": "stream",
     "text": [
      "<ipython-input-3-eddedfb9c70e>:8: RuntimeWarning: Limited 1 annotation(s) that were expanding outside the data range.\n",
      "  raw = mne.io.read_raw_eeglab('sub-0' + str(10000 + i) + j + '.set')\n",
      "<ipython-input-3-eddedfb9c70e>:8: RuntimeWarning: The data contains 'boundary' events, indicating data discontinuities. Be cautious of filtering and epoching around these events.\n",
      "  raw = mne.io.read_raw_eeglab('sub-0' + str(10000 + i) + j + '.set')\n"
     ]
    },
    {
     "name": "stdout",
     "output_type": "stream",
     "text": [
      "100% [............................................................................] 721560 / 721560Reading sub-010038_EC.fdt\n"
     ]
    },
    {
     "name": "stderr",
     "output_type": "stream",
     "text": [
      "<ipython-input-3-eddedfb9c70e>:8: RuntimeWarning: Limited 1 annotation(s) that were expanding outside the data range.\n",
      "  raw = mne.io.read_raw_eeglab('sub-0' + str(10000 + i) + j + '.set')\n",
      "<ipython-input-3-eddedfb9c70e>:8: RuntimeWarning: The data contains 'boundary' events, indicating data discontinuities. Be cautious of filtering and epoching around these events.\n",
      "  raw = mne.io.read_raw_eeglab('sub-0' + str(10000 + i) + j + '.set')\n"
     ]
    },
    {
     "name": "stdout",
     "output_type": "stream",
     "text": [
      "100% [..........................................................................] 1177912 / 1177912Reading sub-010038_EO.fdt\n"
     ]
    },
    {
     "name": "stderr",
     "output_type": "stream",
     "text": [
      "<ipython-input-3-eddedfb9c70e>:8: RuntimeWarning: Limited 1 annotation(s) that were expanding outside the data range.\n",
      "  raw = mne.io.read_raw_eeglab('sub-0' + str(10000 + i) + j + '.set')\n",
      "<ipython-input-3-eddedfb9c70e>:8: RuntimeWarning: The data contains 'boundary' events, indicating data discontinuities. Be cautious of filtering and epoching around these events.\n",
      "  raw = mne.io.read_raw_eeglab('sub-0' + str(10000 + i) + j + '.set')\n"
     ]
    },
    {
     "name": "stdout",
     "output_type": "stream",
     "text": [
      "100% [..........................................................................] 1170232 / 1170232Reading sub-010039_EC.fdt\n"
     ]
    },
    {
     "name": "stderr",
     "output_type": "stream",
     "text": [
      "<ipython-input-3-eddedfb9c70e>:8: RuntimeWarning: Limited 1 annotation(s) that were expanding outside the data range.\n",
      "  raw = mne.io.read_raw_eeglab('sub-0' + str(10000 + i) + j + '.set')\n",
      "<ipython-input-3-eddedfb9c70e>:8: RuntimeWarning: The data contains 'boundary' events, indicating data discontinuities. Be cautious of filtering and epoching around these events.\n",
      "  raw = mne.io.read_raw_eeglab('sub-0' + str(10000 + i) + j + '.set')\n"
     ]
    },
    {
     "name": "stdout",
     "output_type": "stream",
     "text": [
      "100% [..........................................................................] 1173528 / 1173528Reading sub-010039_EO.fdt\n"
     ]
    },
    {
     "name": "stderr",
     "output_type": "stream",
     "text": [
      "<ipython-input-3-eddedfb9c70e>:8: RuntimeWarning: Limited 1 annotation(s) that were expanding outside the data range.\n",
      "  raw = mne.io.read_raw_eeglab('sub-0' + str(10000 + i) + j + '.set')\n",
      "<ipython-input-3-eddedfb9c70e>:8: RuntimeWarning: The data contains 'boundary' events, indicating data discontinuities. Be cautious of filtering and epoching around these events.\n",
      "  raw = mne.io.read_raw_eeglab('sub-0' + str(10000 + i) + j + '.set')\n"
     ]
    },
    {
     "name": "stdout",
     "output_type": "stream",
     "text": [
      "100% [............................................................................] 724976 / 724976Reading sub-010040_EC.fdt\n"
     ]
    },
    {
     "name": "stderr",
     "output_type": "stream",
     "text": [
      "<ipython-input-3-eddedfb9c70e>:8: RuntimeWarning: Limited 1 annotation(s) that were expanding outside the data range.\n",
      "  raw = mne.io.read_raw_eeglab('sub-0' + str(10000 + i) + j + '.set')\n",
      "<ipython-input-3-eddedfb9c70e>:8: RuntimeWarning: The data contains 'boundary' events, indicating data discontinuities. Be cautious of filtering and epoching around these events.\n",
      "  raw = mne.io.read_raw_eeglab('sub-0' + str(10000 + i) + j + '.set')\n"
     ]
    },
    {
     "name": "stdout",
     "output_type": "stream",
     "text": [
      "100% [............................................................................] 725920 / 725920Reading sub-010040_EO.fdt\n"
     ]
    },
    {
     "name": "stderr",
     "output_type": "stream",
     "text": [
      "<ipython-input-3-eddedfb9c70e>:8: RuntimeWarning: Limited 1 annotation(s) that were expanding outside the data range.\n",
      "  raw = mne.io.read_raw_eeglab('sub-0' + str(10000 + i) + j + '.set')\n",
      "<ipython-input-3-eddedfb9c70e>:8: RuntimeWarning: The data contains 'boundary' events, indicating data discontinuities. Be cautious of filtering and epoching around these events.\n",
      "  raw = mne.io.read_raw_eeglab('sub-0' + str(10000 + i) + j + '.set')\n"
     ]
    },
    {
     "name": "stdout",
     "output_type": "stream",
     "text": [
      "100% [..........................................................................] 1188288 / 1188288Reading sub-010041_EC.fdt\n"
     ]
    },
    {
     "name": "stderr",
     "output_type": "stream",
     "text": [
      "<ipython-input-3-eddedfb9c70e>:8: RuntimeWarning: Limited 1 annotation(s) that were expanding outside the data range.\n",
      "  raw = mne.io.read_raw_eeglab('sub-0' + str(10000 + i) + j + '.set')\n",
      "<ipython-input-3-eddedfb9c70e>:8: RuntimeWarning: The data contains 'boundary' events, indicating data discontinuities. Be cautious of filtering and epoching around these events.\n",
      "  raw = mne.io.read_raw_eeglab('sub-0' + str(10000 + i) + j + '.set')\n"
     ]
    },
    {
     "name": "stdout",
     "output_type": "stream",
     "text": [
      "100% [..........................................................................] 1143008 / 1143008Reading sub-010041_EO.fdt\n"
     ]
    },
    {
     "name": "stderr",
     "output_type": "stream",
     "text": [
      "<ipython-input-3-eddedfb9c70e>:8: RuntimeWarning: Limited 1 annotation(s) that were expanding outside the data range.\n",
      "  raw = mne.io.read_raw_eeglab('sub-0' + str(10000 + i) + j + '.set')\n",
      "<ipython-input-3-eddedfb9c70e>:8: RuntimeWarning: The data contains 'boundary' events, indicating data discontinuities. Be cautious of filtering and epoching around these events.\n",
      "  raw = mne.io.read_raw_eeglab('sub-0' + str(10000 + i) + j + '.set')\n"
     ]
    },
    {
     "name": "stdout",
     "output_type": "stream",
     "text": [
      "100% [..........................................................................] 1179528 / 1179528Reading sub-010042_EC.fdt\n"
     ]
    },
    {
     "name": "stderr",
     "output_type": "stream",
     "text": [
      "<ipython-input-3-eddedfb9c70e>:8: RuntimeWarning: Limited 1 annotation(s) that were expanding outside the data range.\n",
      "  raw = mne.io.read_raw_eeglab('sub-0' + str(10000 + i) + j + '.set')\n",
      "<ipython-input-3-eddedfb9c70e>:8: RuntimeWarning: The data contains 'boundary' events, indicating data discontinuities. Be cautious of filtering and epoching around these events.\n",
      "  raw = mne.io.read_raw_eeglab('sub-0' + str(10000 + i) + j + '.set')\n"
     ]
    },
    {
     "name": "stdout",
     "output_type": "stream",
     "text": [
      "100% [..........................................................................] 1168128 / 1168128Reading sub-010042_EO.fdt\n"
     ]
    },
    {
     "name": "stderr",
     "output_type": "stream",
     "text": [
      "<ipython-input-3-eddedfb9c70e>:8: RuntimeWarning: Limited 1 annotation(s) that were expanding outside the data range.\n",
      "  raw = mne.io.read_raw_eeglab('sub-0' + str(10000 + i) + j + '.set')\n",
      "<ipython-input-3-eddedfb9c70e>:8: RuntimeWarning: The data contains 'boundary' events, indicating data discontinuities. Be cautious of filtering and epoching around these events.\n",
      "  raw = mne.io.read_raw_eeglab('sub-0' + str(10000 + i) + j + '.set')\n"
     ]
    },
    {
     "name": "stdout",
     "output_type": "stream",
     "text": [
      "100% [..........................................................................] 1198392 / 1198392Reading sub-010044_EC.fdt\n"
     ]
    },
    {
     "name": "stderr",
     "output_type": "stream",
     "text": [
      "<ipython-input-3-eddedfb9c70e>:8: RuntimeWarning: Limited 1 annotation(s) that were expanding outside the data range.\n",
      "  raw = mne.io.read_raw_eeglab('sub-0' + str(10000 + i) + j + '.set')\n",
      "<ipython-input-3-eddedfb9c70e>:8: RuntimeWarning: The data contains 'boundary' events, indicating data discontinuities. Be cautious of filtering and epoching around these events.\n",
      "  raw = mne.io.read_raw_eeglab('sub-0' + str(10000 + i) + j + '.set')\n"
     ]
    },
    {
     "name": "stdout",
     "output_type": "stream",
     "text": [
      "100% [..........................................................................] 1197200 / 1197200Reading sub-010044_EO.fdt\n"
     ]
    },
    {
     "name": "stderr",
     "output_type": "stream",
     "text": [
      "<ipython-input-3-eddedfb9c70e>:8: RuntimeWarning: Limited 1 annotation(s) that were expanding outside the data range.\n",
      "  raw = mne.io.read_raw_eeglab('sub-0' + str(10000 + i) + j + '.set')\n",
      "<ipython-input-3-eddedfb9c70e>:8: RuntimeWarning: The data contains 'boundary' events, indicating data discontinuities. Be cautious of filtering and epoching around these events.\n",
      "  raw = mne.io.read_raw_eeglab('sub-0' + str(10000 + i) + j + '.set')\n"
     ]
    },
    {
     "name": "stdout",
     "output_type": "stream",
     "text": [
      "100% [..........................................................................] 1179224 / 1179224Reading sub-010045_EC.fdt\n"
     ]
    },
    {
     "name": "stderr",
     "output_type": "stream",
     "text": [
      "<ipython-input-3-eddedfb9c70e>:8: RuntimeWarning: Limited 1 annotation(s) that were expanding outside the data range.\n",
      "  raw = mne.io.read_raw_eeglab('sub-0' + str(10000 + i) + j + '.set')\n",
      "<ipython-input-3-eddedfb9c70e>:8: RuntimeWarning: The data contains 'boundary' events, indicating data discontinuities. Be cautious of filtering and epoching around these events.\n",
      "  raw = mne.io.read_raw_eeglab('sub-0' + str(10000 + i) + j + '.set')\n"
     ]
    },
    {
     "name": "stdout",
     "output_type": "stream",
     "text": [
      "100% [..........................................................................] 1160024 / 1160024Reading sub-010045_EO.fdt\n"
     ]
    },
    {
     "name": "stderr",
     "output_type": "stream",
     "text": [
      "<ipython-input-3-eddedfb9c70e>:8: RuntimeWarning: Limited 1 annotation(s) that were expanding outside the data range.\n",
      "  raw = mne.io.read_raw_eeglab('sub-0' + str(10000 + i) + j + '.set')\n",
      "<ipython-input-3-eddedfb9c70e>:8: RuntimeWarning: The data contains 'boundary' events, indicating data discontinuities. Be cautious of filtering and epoching around these events.\n",
      "  raw = mne.io.read_raw_eeglab('sub-0' + str(10000 + i) + j + '.set')\n"
     ]
    },
    {
     "name": "stdout",
     "output_type": "stream",
     "text": [
      "100% [..........................................................................] 1190088 / 1190088Reading sub-010046_EC.fdt\n"
     ]
    },
    {
     "name": "stderr",
     "output_type": "stream",
     "text": [
      "<ipython-input-3-eddedfb9c70e>:8: RuntimeWarning: Limited 1 annotation(s) that were expanding outside the data range.\n",
      "  raw = mne.io.read_raw_eeglab('sub-0' + str(10000 + i) + j + '.set')\n",
      "<ipython-input-3-eddedfb9c70e>:8: RuntimeWarning: The data contains 'boundary' events, indicating data discontinuities. Be cautious of filtering and epoching around these events.\n",
      "  raw = mne.io.read_raw_eeglab('sub-0' + str(10000 + i) + j + '.set')\n"
     ]
    },
    {
     "name": "stdout",
     "output_type": "stream",
     "text": [
      "100% [..........................................................................] 1151728 / 1151728Reading sub-010046_EO.fdt\n"
     ]
    },
    {
     "name": "stderr",
     "output_type": "stream",
     "text": [
      "<ipython-input-3-eddedfb9c70e>:8: RuntimeWarning: Limited 1 annotation(s) that were expanding outside the data range.\n",
      "  raw = mne.io.read_raw_eeglab('sub-0' + str(10000 + i) + j + '.set')\n",
      "<ipython-input-3-eddedfb9c70e>:8: RuntimeWarning: The data contains 'boundary' events, indicating data discontinuities. Be cautious of filtering and epoching around these events.\n",
      "  raw = mne.io.read_raw_eeglab('sub-0' + str(10000 + i) + j + '.set')\n"
     ]
    },
    {
     "name": "stdout",
     "output_type": "stream",
     "text": [
      "100% [..........................................................................] 1193440 / 1193440Reading sub-010047_EC.fdt\n"
     ]
    },
    {
     "name": "stderr",
     "output_type": "stream",
     "text": [
      "<ipython-input-3-eddedfb9c70e>:8: RuntimeWarning: Limited 1 annotation(s) that were expanding outside the data range.\n",
      "  raw = mne.io.read_raw_eeglab('sub-0' + str(10000 + i) + j + '.set')\n",
      "<ipython-input-3-eddedfb9c70e>:8: RuntimeWarning: The data contains 'boundary' events, indicating data discontinuities. Be cautious of filtering and epoching around these events.\n",
      "  raw = mne.io.read_raw_eeglab('sub-0' + str(10000 + i) + j + '.set')\n"
     ]
    },
    {
     "name": "stdout",
     "output_type": "stream",
     "text": [
      "100% [..........................................................................] 1163096 / 1163096Reading sub-010047_EO.fdt\n"
     ]
    },
    {
     "name": "stderr",
     "output_type": "stream",
     "text": [
      "<ipython-input-3-eddedfb9c70e>:8: RuntimeWarning: Limited 1 annotation(s) that were expanding outside the data range.\n",
      "  raw = mne.io.read_raw_eeglab('sub-0' + str(10000 + i) + j + '.set')\n",
      "<ipython-input-3-eddedfb9c70e>:8: RuntimeWarning: The data contains 'boundary' events, indicating data discontinuities. Be cautious of filtering and epoching around these events.\n",
      "  raw = mne.io.read_raw_eeglab('sub-0' + str(10000 + i) + j + '.set')\n"
     ]
    },
    {
     "name": "stdout",
     "output_type": "stream",
     "text": [
      "100% [..........................................................................] 1195504 / 1195504Reading sub-010048_EC.fdt\n"
     ]
    },
    {
     "name": "stderr",
     "output_type": "stream",
     "text": [
      "<ipython-input-3-eddedfb9c70e>:8: RuntimeWarning: Limited 1 annotation(s) that were expanding outside the data range.\n",
      "  raw = mne.io.read_raw_eeglab('sub-0' + str(10000 + i) + j + '.set')\n",
      "<ipython-input-3-eddedfb9c70e>:8: RuntimeWarning: The data contains 'boundary' events, indicating data discontinuities. Be cautious of filtering and epoching around these events.\n",
      "  raw = mne.io.read_raw_eeglab('sub-0' + str(10000 + i) + j + '.set')\n"
     ]
    },
    {
     "name": "stdout",
     "output_type": "stream",
     "text": [
      "100% [..........................................................................] 1178184 / 1178184Reading sub-010048_EO.fdt\n"
     ]
    },
    {
     "name": "stderr",
     "output_type": "stream",
     "text": [
      "<ipython-input-3-eddedfb9c70e>:8: RuntimeWarning: Limited 1 annotation(s) that were expanding outside the data range.\n",
      "  raw = mne.io.read_raw_eeglab('sub-0' + str(10000 + i) + j + '.set')\n",
      "<ipython-input-3-eddedfb9c70e>:8: RuntimeWarning: The data contains 'boundary' events, indicating data discontinuities. Be cautious of filtering and epoching around these events.\n",
      "  raw = mne.io.read_raw_eeglab('sub-0' + str(10000 + i) + j + '.set')\n"
     ]
    },
    {
     "name": "stdout",
     "output_type": "stream",
     "text": [
      "100% [............................................................................] 717608 / 717608Reading sub-010049_EC.fdt\n"
     ]
    },
    {
     "name": "stderr",
     "output_type": "stream",
     "text": [
      "<ipython-input-3-eddedfb9c70e>:8: RuntimeWarning: Limited 1 annotation(s) that were expanding outside the data range.\n",
      "  raw = mne.io.read_raw_eeglab('sub-0' + str(10000 + i) + j + '.set')\n",
      "<ipython-input-3-eddedfb9c70e>:8: RuntimeWarning: The data contains 'boundary' events, indicating data discontinuities. Be cautious of filtering and epoching around these events.\n",
      "  raw = mne.io.read_raw_eeglab('sub-0' + str(10000 + i) + j + '.set')\n"
     ]
    },
    {
     "name": "stdout",
     "output_type": "stream",
     "text": [
      "100% [..........................................................................] 1174592 / 1174592Reading sub-010049_EO.fdt\n"
     ]
    },
    {
     "name": "stderr",
     "output_type": "stream",
     "text": [
      "<ipython-input-3-eddedfb9c70e>:8: RuntimeWarning: Limited 1 annotation(s) that were expanding outside the data range.\n",
      "  raw = mne.io.read_raw_eeglab('sub-0' + str(10000 + i) + j + '.set')\n",
      "<ipython-input-3-eddedfb9c70e>:8: RuntimeWarning: The data contains 'boundary' events, indicating data discontinuities. Be cautious of filtering and epoching around these events.\n",
      "  raw = mne.io.read_raw_eeglab('sub-0' + str(10000 + i) + j + '.set')\n"
     ]
    },
    {
     "name": "stdout",
     "output_type": "stream",
     "text": [
      "100% [..........................................................................] 1187808 / 1187808Reading sub-010050_EC.fdt\n"
     ]
    },
    {
     "name": "stderr",
     "output_type": "stream",
     "text": [
      "<ipython-input-3-eddedfb9c70e>:8: RuntimeWarning: Limited 1 annotation(s) that were expanding outside the data range.\n",
      "  raw = mne.io.read_raw_eeglab('sub-0' + str(10000 + i) + j + '.set')\n",
      "<ipython-input-3-eddedfb9c70e>:8: RuntimeWarning: The data contains 'boundary' events, indicating data discontinuities. Be cautious of filtering and epoching around these events.\n",
      "  raw = mne.io.read_raw_eeglab('sub-0' + str(10000 + i) + j + '.set')\n"
     ]
    },
    {
     "name": "stdout",
     "output_type": "stream",
     "text": [
      "100% [..........................................................................] 1188512 / 1188512Reading sub-010050_EO.fdt\n"
     ]
    },
    {
     "name": "stderr",
     "output_type": "stream",
     "text": [
      "<ipython-input-3-eddedfb9c70e>:8: RuntimeWarning: Limited 1 annotation(s) that were expanding outside the data range.\n",
      "  raw = mne.io.read_raw_eeglab('sub-0' + str(10000 + i) + j + '.set')\n",
      "<ipython-input-3-eddedfb9c70e>:8: RuntimeWarning: The data contains 'boundary' events, indicating data discontinuities. Be cautious of filtering and epoching around these events.\n",
      "  raw = mne.io.read_raw_eeglab('sub-0' + str(10000 + i) + j + '.set')\n"
     ]
    },
    {
     "name": "stdout",
     "output_type": "stream",
     "text": [
      "100% [..........................................................................] 1119184 / 1119184Reading sub-010051_EC.fdt\n"
     ]
    },
    {
     "name": "stderr",
     "output_type": "stream",
     "text": [
      "<ipython-input-3-eddedfb9c70e>:8: RuntimeWarning: Limited 1 annotation(s) that were expanding outside the data range.\n",
      "  raw = mne.io.read_raw_eeglab('sub-0' + str(10000 + i) + j + '.set')\n",
      "<ipython-input-3-eddedfb9c70e>:8: RuntimeWarning: The data contains 'boundary' events, indicating data discontinuities. Be cautious of filtering and epoching around these events.\n",
      "  raw = mne.io.read_raw_eeglab('sub-0' + str(10000 + i) + j + '.set')\n"
     ]
    },
    {
     "name": "stdout",
     "output_type": "stream",
     "text": [
      "100% [..........................................................................] 1066520 / 1066520Reading sub-010051_EO.fdt\n"
     ]
    },
    {
     "name": "stderr",
     "output_type": "stream",
     "text": [
      "<ipython-input-3-eddedfb9c70e>:8: RuntimeWarning: Limited 1 annotation(s) that were expanding outside the data range.\n",
      "  raw = mne.io.read_raw_eeglab('sub-0' + str(10000 + i) + j + '.set')\n",
      "<ipython-input-3-eddedfb9c70e>:8: RuntimeWarning: The data contains 'boundary' events, indicating data discontinuities. Be cautious of filtering and epoching around these events.\n",
      "  raw = mne.io.read_raw_eeglab('sub-0' + str(10000 + i) + j + '.set')\n"
     ]
    },
    {
     "name": "stdout",
     "output_type": "stream",
     "text": [
      "100% [............................................................................] 724368 / 724368Reading sub-010052_EC.fdt\n"
     ]
    },
    {
     "name": "stderr",
     "output_type": "stream",
     "text": [
      "<ipython-input-3-eddedfb9c70e>:8: RuntimeWarning: Limited 1 annotation(s) that were expanding outside the data range.\n",
      "  raw = mne.io.read_raw_eeglab('sub-0' + str(10000 + i) + j + '.set')\n",
      "<ipython-input-3-eddedfb9c70e>:8: RuntimeWarning: The data contains 'boundary' events, indicating data discontinuities. Be cautious of filtering and epoching around these events.\n",
      "  raw = mne.io.read_raw_eeglab('sub-0' + str(10000 + i) + j + '.set')\n"
     ]
    },
    {
     "name": "stdout",
     "output_type": "stream",
     "text": [
      "100% [..........................................................................] 1187064 / 1187064Reading sub-010052_EO.fdt\n"
     ]
    },
    {
     "name": "stderr",
     "output_type": "stream",
     "text": [
      "<ipython-input-3-eddedfb9c70e>:8: RuntimeWarning: Limited 1 annotation(s) that were expanding outside the data range.\n",
      "  raw = mne.io.read_raw_eeglab('sub-0' + str(10000 + i) + j + '.set')\n",
      "<ipython-input-3-eddedfb9c70e>:8: RuntimeWarning: The data contains 'boundary' events, indicating data discontinuities. Be cautious of filtering and epoching around these events.\n",
      "  raw = mne.io.read_raw_eeglab('sub-0' + str(10000 + i) + j + '.set')\n"
     ]
    },
    {
     "name": "stdout",
     "output_type": "stream",
     "text": [
      "100% [..........................................................................] 1195832 / 1195832Reading sub-010053_EC.fdt\n"
     ]
    },
    {
     "name": "stderr",
     "output_type": "stream",
     "text": [
      "<ipython-input-3-eddedfb9c70e>:8: RuntimeWarning: Limited 1 annotation(s) that were expanding outside the data range.\n",
      "  raw = mne.io.read_raw_eeglab('sub-0' + str(10000 + i) + j + '.set')\n",
      "<ipython-input-3-eddedfb9c70e>:8: RuntimeWarning: The data contains 'boundary' events, indicating data discontinuities. Be cautious of filtering and epoching around these events.\n",
      "  raw = mne.io.read_raw_eeglab('sub-0' + str(10000 + i) + j + '.set')\n"
     ]
    },
    {
     "name": "stdout",
     "output_type": "stream",
     "text": [
      "100% [..........................................................................] 1188800 / 1188800Reading sub-010053_EO.fdt\n"
     ]
    },
    {
     "name": "stderr",
     "output_type": "stream",
     "text": [
      "<ipython-input-3-eddedfb9c70e>:8: RuntimeWarning: Limited 1 annotation(s) that were expanding outside the data range.\n",
      "  raw = mne.io.read_raw_eeglab('sub-0' + str(10000 + i) + j + '.set')\n",
      "<ipython-input-3-eddedfb9c70e>:8: RuntimeWarning: The data contains 'boundary' events, indicating data discontinuities. Be cautious of filtering and epoching around these events.\n",
      "  raw = mne.io.read_raw_eeglab('sub-0' + str(10000 + i) + j + '.set')\n"
     ]
    },
    {
     "name": "stdout",
     "output_type": "stream",
     "text": [
      "100% [............................................................................] 721720 / 721720Reading sub-010056_EC.fdt\n"
     ]
    },
    {
     "name": "stderr",
     "output_type": "stream",
     "text": [
      "<ipython-input-3-eddedfb9c70e>:8: RuntimeWarning: Limited 1 annotation(s) that were expanding outside the data range.\n",
      "  raw = mne.io.read_raw_eeglab('sub-0' + str(10000 + i) + j + '.set')\n",
      "<ipython-input-3-eddedfb9c70e>:8: RuntimeWarning: The data contains 'boundary' events, indicating data discontinuities. Be cautious of filtering and epoching around these events.\n",
      "  raw = mne.io.read_raw_eeglab('sub-0' + str(10000 + i) + j + '.set')\n"
     ]
    },
    {
     "name": "stdout",
     "output_type": "stream",
     "text": [
      "100% [..........................................................................] 1186504 / 1186504Reading sub-010056_EO.fdt\n"
     ]
    },
    {
     "name": "stderr",
     "output_type": "stream",
     "text": [
      "<ipython-input-3-eddedfb9c70e>:8: RuntimeWarning: Limited 1 annotation(s) that were expanding outside the data range.\n",
      "  raw = mne.io.read_raw_eeglab('sub-0' + str(10000 + i) + j + '.set')\n",
      "<ipython-input-3-eddedfb9c70e>:8: RuntimeWarning: The data contains 'boundary' events, indicating data discontinuities. Be cautious of filtering and epoching around these events.\n",
      "  raw = mne.io.read_raw_eeglab('sub-0' + str(10000 + i) + j + '.set')\n"
     ]
    },
    {
     "name": "stdout",
     "output_type": "stream",
     "text": [
      "100% [..........................................................................] 1188704 / 1188704Reading sub-010059_EC.fdt\n"
     ]
    },
    {
     "name": "stderr",
     "output_type": "stream",
     "text": [
      "<ipython-input-3-eddedfb9c70e>:8: RuntimeWarning: Limited 1 annotation(s) that were expanding outside the data range.\n",
      "  raw = mne.io.read_raw_eeglab('sub-0' + str(10000 + i) + j + '.set')\n",
      "<ipython-input-3-eddedfb9c70e>:8: RuntimeWarning: The data contains 'boundary' events, indicating data discontinuities. Be cautious of filtering and epoching around these events.\n",
      "  raw = mne.io.read_raw_eeglab('sub-0' + str(10000 + i) + j + '.set')\n"
     ]
    },
    {
     "name": "stdout",
     "output_type": "stream",
     "text": [
      "100% [............................................................................] 722928 / 722928Reading sub-010059_EO.fdt\n"
     ]
    },
    {
     "name": "stderr",
     "output_type": "stream",
     "text": [
      "<ipython-input-3-eddedfb9c70e>:8: RuntimeWarning: Limited 1 annotation(s) that were expanding outside the data range.\n",
      "  raw = mne.io.read_raw_eeglab('sub-0' + str(10000 + i) + j + '.set')\n",
      "<ipython-input-3-eddedfb9c70e>:8: RuntimeWarning: The data contains 'boundary' events, indicating data discontinuities. Be cautious of filtering and epoching around these events.\n",
      "  raw = mne.io.read_raw_eeglab('sub-0' + str(10000 + i) + j + '.set')\n"
     ]
    },
    {
     "name": "stdout",
     "output_type": "stream",
     "text": [
      "100% [..........................................................................] 1189160 / 1189160Reading sub-010060_EC.fdt\n"
     ]
    },
    {
     "name": "stderr",
     "output_type": "stream",
     "text": [
      "<ipython-input-3-eddedfb9c70e>:8: RuntimeWarning: Limited 1 annotation(s) that were expanding outside the data range.\n",
      "  raw = mne.io.read_raw_eeglab('sub-0' + str(10000 + i) + j + '.set')\n",
      "<ipython-input-3-eddedfb9c70e>:8: RuntimeWarning: The data contains 'boundary' events, indicating data discontinuities. Be cautious of filtering and epoching around these events.\n",
      "  raw = mne.io.read_raw_eeglab('sub-0' + str(10000 + i) + j + '.set')\n"
     ]
    },
    {
     "name": "stdout",
     "output_type": "stream",
     "text": [
      "100% [..........................................................................] 1132944 / 1132944Reading sub-010060_EO.fdt\n"
     ]
    },
    {
     "name": "stderr",
     "output_type": "stream",
     "text": [
      "<ipython-input-3-eddedfb9c70e>:8: RuntimeWarning: Limited 1 annotation(s) that were expanding outside the data range.\n",
      "  raw = mne.io.read_raw_eeglab('sub-0' + str(10000 + i) + j + '.set')\n",
      "<ipython-input-3-eddedfb9c70e>:8: RuntimeWarning: The data contains 'boundary' events, indicating data discontinuities. Be cautious of filtering and epoching around these events.\n",
      "  raw = mne.io.read_raw_eeglab('sub-0' + str(10000 + i) + j + '.set')\n"
     ]
    },
    {
     "name": "stdout",
     "output_type": "stream",
     "text": [
      "100% [..........................................................................] 1180816 / 1180816Reading sub-010061_EC.fdt\n"
     ]
    },
    {
     "name": "stderr",
     "output_type": "stream",
     "text": [
      "<ipython-input-3-eddedfb9c70e>:8: RuntimeWarning: Limited 1 annotation(s) that were expanding outside the data range.\n",
      "  raw = mne.io.read_raw_eeglab('sub-0' + str(10000 + i) + j + '.set')\n",
      "<ipython-input-3-eddedfb9c70e>:8: RuntimeWarning: The data contains 'boundary' events, indicating data discontinuities. Be cautious of filtering and epoching around these events.\n",
      "  raw = mne.io.read_raw_eeglab('sub-0' + str(10000 + i) + j + '.set')\n"
     ]
    },
    {
     "name": "stdout",
     "output_type": "stream",
     "text": [
      "100% [..........................................................................] 1170824 / 1170824Reading sub-010061_EO.fdt\n"
     ]
    },
    {
     "name": "stderr",
     "output_type": "stream",
     "text": [
      "<ipython-input-3-eddedfb9c70e>:8: RuntimeWarning: Limited 2 annotation(s) that were expanding outside the data range.\n",
      "  raw = mne.io.read_raw_eeglab('sub-0' + str(10000 + i) + j + '.set')\n",
      "<ipython-input-3-eddedfb9c70e>:8: RuntimeWarning: The data contains 'boundary' events, indicating data discontinuities. Be cautious of filtering and epoching around these events.\n",
      "  raw = mne.io.read_raw_eeglab('sub-0' + str(10000 + i) + j + '.set')\n"
     ]
    },
    {
     "name": "stdout",
     "output_type": "stream",
     "text": [
      "100% [..........................................................................] 1184184 / 1184184Reading sub-010062_EC.fdt\n"
     ]
    },
    {
     "name": "stderr",
     "output_type": "stream",
     "text": [
      "<ipython-input-3-eddedfb9c70e>:8: RuntimeWarning: Limited 1 annotation(s) that were expanding outside the data range.\n",
      "  raw = mne.io.read_raw_eeglab('sub-0' + str(10000 + i) + j + '.set')\n",
      "<ipython-input-3-eddedfb9c70e>:8: RuntimeWarning: The data contains 'boundary' events, indicating data discontinuities. Be cautious of filtering and epoching around these events.\n",
      "  raw = mne.io.read_raw_eeglab('sub-0' + str(10000 + i) + j + '.set')\n"
     ]
    },
    {
     "name": "stdout",
     "output_type": "stream",
     "text": [
      "100% [..........................................................................] 1153648 / 1153648Reading sub-010062_EO.fdt\n"
     ]
    },
    {
     "name": "stderr",
     "output_type": "stream",
     "text": [
      "<ipython-input-3-eddedfb9c70e>:8: RuntimeWarning: Limited 1 annotation(s) that were expanding outside the data range.\n",
      "  raw = mne.io.read_raw_eeglab('sub-0' + str(10000 + i) + j + '.set')\n",
      "<ipython-input-3-eddedfb9c70e>:8: RuntimeWarning: The data contains 'boundary' events, indicating data discontinuities. Be cautious of filtering and epoching around these events.\n",
      "  raw = mne.io.read_raw_eeglab('sub-0' + str(10000 + i) + j + '.set')\n"
     ]
    },
    {
     "name": "stdout",
     "output_type": "stream",
     "text": [
      "100% [..........................................................................] 1197432 / 1197432Reading sub-010063_EC.fdt\n"
     ]
    },
    {
     "name": "stderr",
     "output_type": "stream",
     "text": [
      "<ipython-input-3-eddedfb9c70e>:8: RuntimeWarning: Limited 1 annotation(s) that were expanding outside the data range.\n",
      "  raw = mne.io.read_raw_eeglab('sub-0' + str(10000 + i) + j + '.set')\n",
      "<ipython-input-3-eddedfb9c70e>:8: RuntimeWarning: The data contains 'boundary' events, indicating data discontinuities. Be cautious of filtering and epoching around these events.\n",
      "  raw = mne.io.read_raw_eeglab('sub-0' + str(10000 + i) + j + '.set')\n"
     ]
    },
    {
     "name": "stdout",
     "output_type": "stream",
     "text": [
      "100% [..........................................................................] 1168168 / 1168168Reading sub-010063_EO.fdt\n"
     ]
    },
    {
     "name": "stderr",
     "output_type": "stream",
     "text": [
      "<ipython-input-3-eddedfb9c70e>:8: RuntimeWarning: Limited 1 annotation(s) that were expanding outside the data range.\n",
      "  raw = mne.io.read_raw_eeglab('sub-0' + str(10000 + i) + j + '.set')\n",
      "<ipython-input-3-eddedfb9c70e>:8: RuntimeWarning: The data contains 'boundary' events, indicating data discontinuities. Be cautious of filtering and epoching around these events.\n",
      "  raw = mne.io.read_raw_eeglab('sub-0' + str(10000 + i) + j + '.set')\n"
     ]
    },
    {
     "name": "stdout",
     "output_type": "stream",
     "text": [
      "100% [..........................................................................] 1124400 / 1124400Reading sub-010064_EC.fdt\n"
     ]
    },
    {
     "name": "stderr",
     "output_type": "stream",
     "text": [
      "<ipython-input-3-eddedfb9c70e>:8: RuntimeWarning: Limited 1 annotation(s) that were expanding outside the data range.\n",
      "  raw = mne.io.read_raw_eeglab('sub-0' + str(10000 + i) + j + '.set')\n",
      "<ipython-input-3-eddedfb9c70e>:8: RuntimeWarning: The data contains 'boundary' events, indicating data discontinuities. Be cautious of filtering and epoching around these events.\n",
      "  raw = mne.io.read_raw_eeglab('sub-0' + str(10000 + i) + j + '.set')\n"
     ]
    },
    {
     "name": "stdout",
     "output_type": "stream",
     "text": [
      "100% [..........................................................................] 1189984 / 1189984Reading sub-010064_EO.fdt\n"
     ]
    },
    {
     "name": "stderr",
     "output_type": "stream",
     "text": [
      "<ipython-input-3-eddedfb9c70e>:8: RuntimeWarning: Limited 1 annotation(s) that were expanding outside the data range.\n",
      "  raw = mne.io.read_raw_eeglab('sub-0' + str(10000 + i) + j + '.set')\n",
      "<ipython-input-3-eddedfb9c70e>:8: RuntimeWarning: The data contains 'boundary' events, indicating data discontinuities. Be cautious of filtering and epoching around these events.\n",
      "  raw = mne.io.read_raw_eeglab('sub-0' + str(10000 + i) + j + '.set')\n"
     ]
    },
    {
     "name": "stdout",
     "output_type": "stream",
     "text": [
      "100% [..........................................................................] 1177064 / 1177064Reading sub-010065_EC.fdt\n"
     ]
    },
    {
     "name": "stderr",
     "output_type": "stream",
     "text": [
      "<ipython-input-3-eddedfb9c70e>:8: RuntimeWarning: Limited 1 annotation(s) that were expanding outside the data range.\n",
      "  raw = mne.io.read_raw_eeglab('sub-0' + str(10000 + i) + j + '.set')\n",
      "<ipython-input-3-eddedfb9c70e>:8: RuntimeWarning: The data contains 'boundary' events, indicating data discontinuities. Be cautious of filtering and epoching around these events.\n",
      "  raw = mne.io.read_raw_eeglab('sub-0' + str(10000 + i) + j + '.set')\n"
     ]
    },
    {
     "name": "stdout",
     "output_type": "stream",
     "text": [
      "100% [..........................................................................] 1143088 / 1143088Reading sub-010065_EO.fdt\n"
     ]
    },
    {
     "name": "stderr",
     "output_type": "stream",
     "text": [
      "<ipython-input-3-eddedfb9c70e>:8: RuntimeWarning: Limited 1 annotation(s) that were expanding outside the data range.\n",
      "  raw = mne.io.read_raw_eeglab('sub-0' + str(10000 + i) + j + '.set')\n",
      "<ipython-input-3-eddedfb9c70e>:8: RuntimeWarning: The data contains 'boundary' events, indicating data discontinuities. Be cautious of filtering and epoching around these events.\n",
      "  raw = mne.io.read_raw_eeglab('sub-0' + str(10000 + i) + j + '.set')\n"
     ]
    },
    {
     "name": "stdout",
     "output_type": "stream",
     "text": [
      "100% [..........................................................................] 1195480 / 1195480Reading sub-010066_EC.fdt\n"
     ]
    },
    {
     "name": "stderr",
     "output_type": "stream",
     "text": [
      "<ipython-input-3-eddedfb9c70e>:8: RuntimeWarning: Limited 1 annotation(s) that were expanding outside the data range.\n",
      "  raw = mne.io.read_raw_eeglab('sub-0' + str(10000 + i) + j + '.set')\n",
      "<ipython-input-3-eddedfb9c70e>:8: RuntimeWarning: The data contains 'boundary' events, indicating data discontinuities. Be cautious of filtering and epoching around these events.\n",
      "  raw = mne.io.read_raw_eeglab('sub-0' + str(10000 + i) + j + '.set')\n"
     ]
    },
    {
     "name": "stdout",
     "output_type": "stream",
     "text": [
      "100% [..........................................................................] 1162568 / 1162568Reading sub-010066_EO.fdt\n"
     ]
    },
    {
     "name": "stderr",
     "output_type": "stream",
     "text": [
      "<ipython-input-3-eddedfb9c70e>:8: RuntimeWarning: Limited 1 annotation(s) that were expanding outside the data range.\n",
      "  raw = mne.io.read_raw_eeglab('sub-0' + str(10000 + i) + j + '.set')\n",
      "<ipython-input-3-eddedfb9c70e>:8: RuntimeWarning: The data contains 'boundary' events, indicating data discontinuities. Be cautious of filtering and epoching around these events.\n",
      "  raw = mne.io.read_raw_eeglab('sub-0' + str(10000 + i) + j + '.set')\n"
     ]
    },
    {
     "name": "stdout",
     "output_type": "stream",
     "text": [
      "100% [..........................................................................] 1201032 / 1201032Reading sub-010067_EC.fdt\n"
     ]
    },
    {
     "name": "stderr",
     "output_type": "stream",
     "text": [
      "<ipython-input-3-eddedfb9c70e>:8: RuntimeWarning: Limited 1 annotation(s) that were expanding outside the data range.\n",
      "  raw = mne.io.read_raw_eeglab('sub-0' + str(10000 + i) + j + '.set')\n",
      "<ipython-input-3-eddedfb9c70e>:8: RuntimeWarning: The data contains 'boundary' events, indicating data discontinuities. Be cautious of filtering and epoching around these events.\n",
      "  raw = mne.io.read_raw_eeglab('sub-0' + str(10000 + i) + j + '.set')\n"
     ]
    },
    {
     "name": "stdout",
     "output_type": "stream",
     "text": [
      "100% [..........................................................................] 1191456 / 1191456Reading sub-010067_EO.fdt\n"
     ]
    },
    {
     "name": "stderr",
     "output_type": "stream",
     "text": [
      "<ipython-input-3-eddedfb9c70e>:8: RuntimeWarning: Limited 1 annotation(s) that were expanding outside the data range.\n",
      "  raw = mne.io.read_raw_eeglab('sub-0' + str(10000 + i) + j + '.set')\n",
      "<ipython-input-3-eddedfb9c70e>:8: RuntimeWarning: The data contains 'boundary' events, indicating data discontinuities. Be cautious of filtering and epoching around these events.\n",
      "  raw = mne.io.read_raw_eeglab('sub-0' + str(10000 + i) + j + '.set')\n"
     ]
    },
    {
     "name": "stdout",
     "output_type": "stream",
     "text": [
      "100% [..........................................................................] 1190976 / 1190976Reading sub-010068_EC.fdt\n"
     ]
    },
    {
     "name": "stderr",
     "output_type": "stream",
     "text": [
      "<ipython-input-3-eddedfb9c70e>:8: RuntimeWarning: Limited 1 annotation(s) that were expanding outside the data range.\n",
      "  raw = mne.io.read_raw_eeglab('sub-0' + str(10000 + i) + j + '.set')\n",
      "<ipython-input-3-eddedfb9c70e>:8: RuntimeWarning: The data contains 'boundary' events, indicating data discontinuities. Be cautious of filtering and epoching around these events.\n",
      "  raw = mne.io.read_raw_eeglab('sub-0' + str(10000 + i) + j + '.set')\n"
     ]
    },
    {
     "name": "stdout",
     "output_type": "stream",
     "text": [
      "100% [..........................................................................] 1193312 / 1193312Reading sub-010068_EO.fdt\n"
     ]
    },
    {
     "name": "stderr",
     "output_type": "stream",
     "text": [
      "<ipython-input-3-eddedfb9c70e>:8: RuntimeWarning: Limited 1 annotation(s) that were expanding outside the data range.\n",
      "  raw = mne.io.read_raw_eeglab('sub-0' + str(10000 + i) + j + '.set')\n",
      "<ipython-input-3-eddedfb9c70e>:8: RuntimeWarning: The data contains 'boundary' events, indicating data discontinuities. Be cautious of filtering and epoching around these events.\n",
      "  raw = mne.io.read_raw_eeglab('sub-0' + str(10000 + i) + j + '.set')\n"
     ]
    },
    {
     "name": "stdout",
     "output_type": "stream",
     "text": [
      "100% [..........................................................................] 1187008 / 1187008Reading sub-010069_EC.fdt\n"
     ]
    },
    {
     "name": "stderr",
     "output_type": "stream",
     "text": [
      "<ipython-input-3-eddedfb9c70e>:8: RuntimeWarning: Limited 1 annotation(s) that were expanding outside the data range.\n",
      "  raw = mne.io.read_raw_eeglab('sub-0' + str(10000 + i) + j + '.set')\n",
      "<ipython-input-3-eddedfb9c70e>:8: RuntimeWarning: The data contains 'boundary' events, indicating data discontinuities. Be cautious of filtering and epoching around these events.\n",
      "  raw = mne.io.read_raw_eeglab('sub-0' + str(10000 + i) + j + '.set')\n"
     ]
    },
    {
     "name": "stdout",
     "output_type": "stream",
     "text": [
      "100% [..........................................................................] 1172496 / 1172496Reading sub-010069_EO.fdt\n"
     ]
    },
    {
     "name": "stderr",
     "output_type": "stream",
     "text": [
      "<ipython-input-3-eddedfb9c70e>:8: RuntimeWarning: Limited 1 annotation(s) that were expanding outside the data range.\n",
      "  raw = mne.io.read_raw_eeglab('sub-0' + str(10000 + i) + j + '.set')\n",
      "<ipython-input-3-eddedfb9c70e>:8: RuntimeWarning: The data contains 'boundary' events, indicating data discontinuities. Be cautious of filtering and epoching around these events.\n",
      "  raw = mne.io.read_raw_eeglab('sub-0' + str(10000 + i) + j + '.set')\n"
     ]
    },
    {
     "name": "stdout",
     "output_type": "stream",
     "text": [
      "100% [..........................................................................] 1196320 / 1196320Reading sub-010070_EC.fdt\n"
     ]
    },
    {
     "name": "stderr",
     "output_type": "stream",
     "text": [
      "<ipython-input-3-eddedfb9c70e>:8: RuntimeWarning: Limited 1 annotation(s) that were expanding outside the data range.\n",
      "  raw = mne.io.read_raw_eeglab('sub-0' + str(10000 + i) + j + '.set')\n",
      "<ipython-input-3-eddedfb9c70e>:8: RuntimeWarning: The data contains 'boundary' events, indicating data discontinuities. Be cautious of filtering and epoching around these events.\n",
      "  raw = mne.io.read_raw_eeglab('sub-0' + str(10000 + i) + j + '.set')\n"
     ]
    },
    {
     "name": "stdout",
     "output_type": "stream",
     "text": [
      "100% [..........................................................................] 1183384 / 1183384Reading sub-010070_EO.fdt\n"
     ]
    },
    {
     "name": "stderr",
     "output_type": "stream",
     "text": [
      "<ipython-input-3-eddedfb9c70e>:8: RuntimeWarning: Limited 1 annotation(s) that were expanding outside the data range.\n",
      "  raw = mne.io.read_raw_eeglab('sub-0' + str(10000 + i) + j + '.set')\n",
      "<ipython-input-3-eddedfb9c70e>:8: RuntimeWarning: The data contains 'boundary' events, indicating data discontinuities. Be cautious of filtering and epoching around these events.\n",
      "  raw = mne.io.read_raw_eeglab('sub-0' + str(10000 + i) + j + '.set')\n"
     ]
    },
    {
     "name": "stdout",
     "output_type": "stream",
     "text": [
      "100% [..........................................................................] 1173808 / 1173808Reading sub-010071_EC.fdt\n"
     ]
    },
    {
     "name": "stderr",
     "output_type": "stream",
     "text": [
      "<ipython-input-3-eddedfb9c70e>:8: RuntimeWarning: Limited 1 annotation(s) that were expanding outside the data range.\n",
      "  raw = mne.io.read_raw_eeglab('sub-0' + str(10000 + i) + j + '.set')\n",
      "<ipython-input-3-eddedfb9c70e>:8: RuntimeWarning: The data contains 'boundary' events, indicating data discontinuities. Be cautious of filtering and epoching around these events.\n",
      "  raw = mne.io.read_raw_eeglab('sub-0' + str(10000 + i) + j + '.set')\n"
     ]
    },
    {
     "name": "stdout",
     "output_type": "stream",
     "text": [
      "100% [..........................................................................] 1119104 / 1119104Reading sub-010071_EO.fdt\n"
     ]
    },
    {
     "name": "stderr",
     "output_type": "stream",
     "text": [
      "<ipython-input-3-eddedfb9c70e>:8: RuntimeWarning: Limited 1 annotation(s) that were expanding outside the data range.\n",
      "  raw = mne.io.read_raw_eeglab('sub-0' + str(10000 + i) + j + '.set')\n",
      "<ipython-input-3-eddedfb9c70e>:8: RuntimeWarning: The data contains 'boundary' events, indicating data discontinuities. Be cautious of filtering and epoching around these events.\n",
      "  raw = mne.io.read_raw_eeglab('sub-0' + str(10000 + i) + j + '.set')\n"
     ]
    },
    {
     "name": "stdout",
     "output_type": "stream",
     "text": [
      "100% [..........................................................................] 1190568 / 1190568Reading sub-010072_EC.fdt\n"
     ]
    },
    {
     "name": "stderr",
     "output_type": "stream",
     "text": [
      "<ipython-input-3-eddedfb9c70e>:8: RuntimeWarning: Limited 1 annotation(s) that were expanding outside the data range.\n",
      "  raw = mne.io.read_raw_eeglab('sub-0' + str(10000 + i) + j + '.set')\n",
      "<ipython-input-3-eddedfb9c70e>:8: RuntimeWarning: The data contains 'boundary' events, indicating data discontinuities. Be cautious of filtering and epoching around these events.\n",
      "  raw = mne.io.read_raw_eeglab('sub-0' + str(10000 + i) + j + '.set')\n"
     ]
    },
    {
     "name": "stdout",
     "output_type": "stream",
     "text": [
      "100% [..........................................................................] 1190872 / 1190872Reading sub-010072_EO.fdt\n"
     ]
    },
    {
     "name": "stderr",
     "output_type": "stream",
     "text": [
      "<ipython-input-3-eddedfb9c70e>:8: RuntimeWarning: Limited 1 annotation(s) that were expanding outside the data range.\n",
      "  raw = mne.io.read_raw_eeglab('sub-0' + str(10000 + i) + j + '.set')\n",
      "<ipython-input-3-eddedfb9c70e>:8: RuntimeWarning: The data contains 'boundary' events, indicating data discontinuities. Be cautious of filtering and epoching around these events.\n",
      "  raw = mne.io.read_raw_eeglab('sub-0' + str(10000 + i) + j + '.set')\n"
     ]
    },
    {
     "name": "stdout",
     "output_type": "stream",
     "text": [
      "100% [..........................................................................] 1189400 / 1189400Reading sub-010073_EC.fdt\n"
     ]
    },
    {
     "name": "stderr",
     "output_type": "stream",
     "text": [
      "<ipython-input-3-eddedfb9c70e>:8: RuntimeWarning: Limited 1 annotation(s) that were expanding outside the data range.\n",
      "  raw = mne.io.read_raw_eeglab('sub-0' + str(10000 + i) + j + '.set')\n",
      "<ipython-input-3-eddedfb9c70e>:8: RuntimeWarning: The data contains 'boundary' events, indicating data discontinuities. Be cautious of filtering and epoching around these events.\n",
      "  raw = mne.io.read_raw_eeglab('sub-0' + str(10000 + i) + j + '.set')\n"
     ]
    },
    {
     "name": "stdout",
     "output_type": "stream",
     "text": [
      "100% [............................................................................] 722200 / 722200Reading sub-010073_EO.fdt\n"
     ]
    },
    {
     "name": "stderr",
     "output_type": "stream",
     "text": [
      "<ipython-input-3-eddedfb9c70e>:8: RuntimeWarning: Limited 1 annotation(s) that were expanding outside the data range.\n",
      "  raw = mne.io.read_raw_eeglab('sub-0' + str(10000 + i) + j + '.set')\n",
      "<ipython-input-3-eddedfb9c70e>:8: RuntimeWarning: The data contains 'boundary' events, indicating data discontinuities. Be cautious of filtering and epoching around these events.\n",
      "  raw = mne.io.read_raw_eeglab('sub-0' + str(10000 + i) + j + '.set')\n"
     ]
    },
    {
     "name": "stdout",
     "output_type": "stream",
     "text": [
      "100% [..........................................................................] 1196296 / 1196296Reading sub-010074_EC.fdt\n"
     ]
    },
    {
     "name": "stderr",
     "output_type": "stream",
     "text": [
      "<ipython-input-3-eddedfb9c70e>:8: RuntimeWarning: Limited 1 annotation(s) that were expanding outside the data range.\n",
      "  raw = mne.io.read_raw_eeglab('sub-0' + str(10000 + i) + j + '.set')\n",
      "<ipython-input-3-eddedfb9c70e>:8: RuntimeWarning: The data contains 'boundary' events, indicating data discontinuities. Be cautious of filtering and epoching around these events.\n",
      "  raw = mne.io.read_raw_eeglab('sub-0' + str(10000 + i) + j + '.set')\n"
     ]
    },
    {
     "name": "stdout",
     "output_type": "stream",
     "text": [
      "100% [..........................................................................] 1166720 / 1166720Reading sub-010074_EO.fdt\n"
     ]
    },
    {
     "name": "stderr",
     "output_type": "stream",
     "text": [
      "<ipython-input-3-eddedfb9c70e>:8: RuntimeWarning: Limited 1 annotation(s) that were expanding outside the data range.\n",
      "  raw = mne.io.read_raw_eeglab('sub-0' + str(10000 + i) + j + '.set')\n",
      "<ipython-input-3-eddedfb9c70e>:8: RuntimeWarning: The data contains 'boundary' events, indicating data discontinuities. Be cautious of filtering and epoching around these events.\n",
      "  raw = mne.io.read_raw_eeglab('sub-0' + str(10000 + i) + j + '.set')\n"
     ]
    },
    {
     "name": "stdout",
     "output_type": "stream",
     "text": [
      "100% [............................................................................] 722504 / 722504Reading sub-010075_EC.fdt\n"
     ]
    },
    {
     "name": "stderr",
     "output_type": "stream",
     "text": [
      "<ipython-input-3-eddedfb9c70e>:8: RuntimeWarning: Limited 1 annotation(s) that were expanding outside the data range.\n",
      "  raw = mne.io.read_raw_eeglab('sub-0' + str(10000 + i) + j + '.set')\n",
      "<ipython-input-3-eddedfb9c70e>:8: RuntimeWarning: The data contains 'boundary' events, indicating data discontinuities. Be cautious of filtering and epoching around these events.\n",
      "  raw = mne.io.read_raw_eeglab('sub-0' + str(10000 + i) + j + '.set')\n"
     ]
    },
    {
     "name": "stdout",
     "output_type": "stream",
     "text": [
      "100% [..........................................................................] 1178048 / 1178048Reading sub-010075_EO.fdt\n"
     ]
    },
    {
     "name": "stderr",
     "output_type": "stream",
     "text": [
      "<ipython-input-3-eddedfb9c70e>:8: RuntimeWarning: Limited 1 annotation(s) that were expanding outside the data range.\n",
      "  raw = mne.io.read_raw_eeglab('sub-0' + str(10000 + i) + j + '.set')\n",
      "<ipython-input-3-eddedfb9c70e>:8: RuntimeWarning: The data contains 'boundary' events, indicating data discontinuities. Be cautious of filtering and epoching around these events.\n",
      "  raw = mne.io.read_raw_eeglab('sub-0' + str(10000 + i) + j + '.set')\n"
     ]
    },
    {
     "name": "stdout",
     "output_type": "stream",
     "text": [
      "100% [..........................................................................] 1199464 / 1199464Reading sub-010076_EC.fdt\n"
     ]
    },
    {
     "name": "stderr",
     "output_type": "stream",
     "text": [
      "<ipython-input-3-eddedfb9c70e>:8: RuntimeWarning: Limited 1 annotation(s) that were expanding outside the data range.\n",
      "  raw = mne.io.read_raw_eeglab('sub-0' + str(10000 + i) + j + '.set')\n",
      "<ipython-input-3-eddedfb9c70e>:8: RuntimeWarning: The data contains 'boundary' events, indicating data discontinuities. Be cautious of filtering and epoching around these events.\n",
      "  raw = mne.io.read_raw_eeglab('sub-0' + str(10000 + i) + j + '.set')\n"
     ]
    },
    {
     "name": "stdout",
     "output_type": "stream",
     "text": [
      "100% [..........................................................................] 1196744 / 1196744Reading sub-010076_EO.fdt\n"
     ]
    },
    {
     "name": "stderr",
     "output_type": "stream",
     "text": [
      "<ipython-input-3-eddedfb9c70e>:8: RuntimeWarning: Limited 1 annotation(s) that were expanding outside the data range.\n",
      "  raw = mne.io.read_raw_eeglab('sub-0' + str(10000 + i) + j + '.set')\n",
      "<ipython-input-3-eddedfb9c70e>:8: RuntimeWarning: The data contains 'boundary' events, indicating data discontinuities. Be cautious of filtering and epoching around these events.\n",
      "  raw = mne.io.read_raw_eeglab('sub-0' + str(10000 + i) + j + '.set')\n"
     ]
    },
    {
     "name": "stdout",
     "output_type": "stream",
     "text": [
      "100% [..........................................................................] 1164632 / 1164632Reading sub-010079_EC.fdt\n"
     ]
    },
    {
     "name": "stderr",
     "output_type": "stream",
     "text": [
      "<ipython-input-3-eddedfb9c70e>:8: RuntimeWarning: Limited 1 annotation(s) that were expanding outside the data range.\n",
      "  raw = mne.io.read_raw_eeglab('sub-0' + str(10000 + i) + j + '.set')\n",
      "<ipython-input-3-eddedfb9c70e>:8: RuntimeWarning: The data contains 'boundary' events, indicating data discontinuities. Be cautious of filtering and epoching around these events.\n",
      "  raw = mne.io.read_raw_eeglab('sub-0' + str(10000 + i) + j + '.set')\n"
     ]
    },
    {
     "name": "stdout",
     "output_type": "stream",
     "text": [
      "100% [..........................................................................] 1135584 / 1135584Reading sub-010079_EO.fdt\n"
     ]
    },
    {
     "name": "stderr",
     "output_type": "stream",
     "text": [
      "<ipython-input-3-eddedfb9c70e>:8: RuntimeWarning: Limited 1 annotation(s) that were expanding outside the data range.\n",
      "  raw = mne.io.read_raw_eeglab('sub-0' + str(10000 + i) + j + '.set')\n",
      "<ipython-input-3-eddedfb9c70e>:8: RuntimeWarning: The data contains 'boundary' events, indicating data discontinuities. Be cautious of filtering and epoching around these events.\n",
      "  raw = mne.io.read_raw_eeglab('sub-0' + str(10000 + i) + j + '.set')\n"
     ]
    },
    {
     "name": "stdout",
     "output_type": "stream",
     "text": [
      "100% [..........................................................................] 1190640 / 1190640Reading sub-010080_EC.fdt\n"
     ]
    },
    {
     "name": "stderr",
     "output_type": "stream",
     "text": [
      "<ipython-input-3-eddedfb9c70e>:8: RuntimeWarning: Limited 1 annotation(s) that were expanding outside the data range.\n",
      "  raw = mne.io.read_raw_eeglab('sub-0' + str(10000 + i) + j + '.set')\n",
      "<ipython-input-3-eddedfb9c70e>:8: RuntimeWarning: The data contains 'boundary' events, indicating data discontinuities. Be cautious of filtering and epoching around these events.\n",
      "  raw = mne.io.read_raw_eeglab('sub-0' + str(10000 + i) + j + '.set')\n"
     ]
    },
    {
     "name": "stdout",
     "output_type": "stream",
     "text": [
      "100% [..........................................................................] 1183784 / 1183784Reading sub-010080_EO.fdt\n"
     ]
    },
    {
     "name": "stderr",
     "output_type": "stream",
     "text": [
      "<ipython-input-3-eddedfb9c70e>:8: RuntimeWarning: Limited 1 annotation(s) that were expanding outside the data range.\n",
      "  raw = mne.io.read_raw_eeglab('sub-0' + str(10000 + i) + j + '.set')\n",
      "<ipython-input-3-eddedfb9c70e>:8: RuntimeWarning: The data contains 'boundary' events, indicating data discontinuities. Be cautious of filtering and epoching around these events.\n",
      "  raw = mne.io.read_raw_eeglab('sub-0' + str(10000 + i) + j + '.set')\n"
     ]
    },
    {
     "name": "stdout",
     "output_type": "stream",
     "text": [
      "100% [..........................................................................] 1195384 / 1195384Reading sub-010081_EC.fdt\n"
     ]
    },
    {
     "name": "stderr",
     "output_type": "stream",
     "text": [
      "<ipython-input-3-eddedfb9c70e>:8: RuntimeWarning: Limited 1 annotation(s) that were expanding outside the data range.\n",
      "  raw = mne.io.read_raw_eeglab('sub-0' + str(10000 + i) + j + '.set')\n",
      "<ipython-input-3-eddedfb9c70e>:8: RuntimeWarning: The data contains 'boundary' events, indicating data discontinuities. Be cautious of filtering and epoching around these events.\n",
      "  raw = mne.io.read_raw_eeglab('sub-0' + str(10000 + i) + j + '.set')\n"
     ]
    },
    {
     "name": "stdout",
     "output_type": "stream",
     "text": [
      "100% [............................................................................] 722112 / 722112Reading sub-010081_EO.fdt\n"
     ]
    },
    {
     "name": "stderr",
     "output_type": "stream",
     "text": [
      "<ipython-input-3-eddedfb9c70e>:8: RuntimeWarning: Limited 1 annotation(s) that were expanding outside the data range.\n",
      "  raw = mne.io.read_raw_eeglab('sub-0' + str(10000 + i) + j + '.set')\n",
      "<ipython-input-3-eddedfb9c70e>:8: RuntimeWarning: The data contains 'boundary' events, indicating data discontinuities. Be cautious of filtering and epoching around these events.\n",
      "  raw = mne.io.read_raw_eeglab('sub-0' + str(10000 + i) + j + '.set')\n"
     ]
    },
    {
     "name": "stdout",
     "output_type": "stream",
     "text": [
      "100% [..........................................................................] 1198424 / 1198424Reading sub-010083_EC.fdt\n"
     ]
    },
    {
     "name": "stderr",
     "output_type": "stream",
     "text": [
      "<ipython-input-3-eddedfb9c70e>:8: RuntimeWarning: Limited 1 annotation(s) that were expanding outside the data range.\n",
      "  raw = mne.io.read_raw_eeglab('sub-0' + str(10000 + i) + j + '.set')\n",
      "<ipython-input-3-eddedfb9c70e>:8: RuntimeWarning: The data contains 'boundary' events, indicating data discontinuities. Be cautious of filtering and epoching around these events.\n",
      "  raw = mne.io.read_raw_eeglab('sub-0' + str(10000 + i) + j + '.set')\n"
     ]
    },
    {
     "name": "stdout",
     "output_type": "stream",
     "text": [
      "100% [..........................................................................] 1196600 / 1196600Reading sub-010083_EO.fdt\n"
     ]
    },
    {
     "name": "stderr",
     "output_type": "stream",
     "text": [
      "<ipython-input-3-eddedfb9c70e>:8: RuntimeWarning: Limited 1 annotation(s) that were expanding outside the data range.\n",
      "  raw = mne.io.read_raw_eeglab('sub-0' + str(10000 + i) + j + '.set')\n",
      "<ipython-input-3-eddedfb9c70e>:8: RuntimeWarning: The data contains 'boundary' events, indicating data discontinuities. Be cautious of filtering and epoching around these events.\n",
      "  raw = mne.io.read_raw_eeglab('sub-0' + str(10000 + i) + j + '.set')\n"
     ]
    },
    {
     "name": "stdout",
     "output_type": "stream",
     "text": [
      "100% [..........................................................................] 1165584 / 1165584Reading sub-010084_EC.fdt\n"
     ]
    },
    {
     "name": "stderr",
     "output_type": "stream",
     "text": [
      "<ipython-input-3-eddedfb9c70e>:8: RuntimeWarning: Limited 1 annotation(s) that were expanding outside the data range.\n",
      "  raw = mne.io.read_raw_eeglab('sub-0' + str(10000 + i) + j + '.set')\n",
      "<ipython-input-3-eddedfb9c70e>:8: RuntimeWarning: The data contains 'boundary' events, indicating data discontinuities. Be cautious of filtering and epoching around these events.\n",
      "  raw = mne.io.read_raw_eeglab('sub-0' + str(10000 + i) + j + '.set')\n"
     ]
    },
    {
     "name": "stdout",
     "output_type": "stream",
     "text": [
      "100% [..........................................................................] 1194776 / 1194776Reading sub-010084_EO.fdt\n"
     ]
    },
    {
     "name": "stderr",
     "output_type": "stream",
     "text": [
      "<ipython-input-3-eddedfb9c70e>:8: RuntimeWarning: Limited 1 annotation(s) that were expanding outside the data range.\n",
      "  raw = mne.io.read_raw_eeglab('sub-0' + str(10000 + i) + j + '.set')\n",
      "<ipython-input-3-eddedfb9c70e>:8: RuntimeWarning: The data contains 'boundary' events, indicating data discontinuities. Be cautious of filtering and epoching around these events.\n",
      "  raw = mne.io.read_raw_eeglab('sub-0' + str(10000 + i) + j + '.set')\n"
     ]
    },
    {
     "name": "stdout",
     "output_type": "stream",
     "text": [
      "100% [..........................................................................] 1189288 / 1189288Reading sub-010085_EC.fdt\n"
     ]
    },
    {
     "name": "stderr",
     "output_type": "stream",
     "text": [
      "<ipython-input-3-eddedfb9c70e>:8: RuntimeWarning: Limited 1 annotation(s) that were expanding outside the data range.\n",
      "  raw = mne.io.read_raw_eeglab('sub-0' + str(10000 + i) + j + '.set')\n",
      "<ipython-input-3-eddedfb9c70e>:8: RuntimeWarning: The data contains 'boundary' events, indicating data discontinuities. Be cautious of filtering and epoching around these events.\n",
      "  raw = mne.io.read_raw_eeglab('sub-0' + str(10000 + i) + j + '.set')\n"
     ]
    },
    {
     "name": "stdout",
     "output_type": "stream",
     "text": [
      "100% [..........................................................................] 1194104 / 1194104Reading sub-010085_EO.fdt\n"
     ]
    },
    {
     "name": "stderr",
     "output_type": "stream",
     "text": [
      "<ipython-input-3-eddedfb9c70e>:8: RuntimeWarning: Limited 1 annotation(s) that were expanding outside the data range.\n",
      "  raw = mne.io.read_raw_eeglab('sub-0' + str(10000 + i) + j + '.set')\n",
      "<ipython-input-3-eddedfb9c70e>:8: RuntimeWarning: The data contains 'boundary' events, indicating data discontinuities. Be cautious of filtering and epoching around these events.\n",
      "  raw = mne.io.read_raw_eeglab('sub-0' + str(10000 + i) + j + '.set')\n"
     ]
    },
    {
     "name": "stdout",
     "output_type": "stream",
     "text": [
      "100% [..........................................................................] 1131448 / 1131448Reading sub-010086_EC.fdt\n"
     ]
    },
    {
     "name": "stderr",
     "output_type": "stream",
     "text": [
      "<ipython-input-3-eddedfb9c70e>:8: RuntimeWarning: Limited 1 annotation(s) that were expanding outside the data range.\n",
      "  raw = mne.io.read_raw_eeglab('sub-0' + str(10000 + i) + j + '.set')\n",
      "<ipython-input-3-eddedfb9c70e>:8: RuntimeWarning: The data contains 'boundary' events, indicating data discontinuities. Be cautious of filtering and epoching around these events.\n",
      "  raw = mne.io.read_raw_eeglab('sub-0' + str(10000 + i) + j + '.set')\n"
     ]
    },
    {
     "name": "stdout",
     "output_type": "stream",
     "text": [
      "100% [..........................................................................] 1116016 / 1116016Reading sub-010086_EO.fdt\n"
     ]
    },
    {
     "name": "stderr",
     "output_type": "stream",
     "text": [
      "<ipython-input-3-eddedfb9c70e>:8: RuntimeWarning: Limited 1 annotation(s) that were expanding outside the data range.\n",
      "  raw = mne.io.read_raw_eeglab('sub-0' + str(10000 + i) + j + '.set')\n",
      "<ipython-input-3-eddedfb9c70e>:8: RuntimeWarning: The data contains 'boundary' events, indicating data discontinuities. Be cautious of filtering and epoching around these events.\n",
      "  raw = mne.io.read_raw_eeglab('sub-0' + str(10000 + i) + j + '.set')\n"
     ]
    },
    {
     "name": "stdout",
     "output_type": "stream",
     "text": [
      "100% [..........................................................................] 1188048 / 1188048Reading sub-010088_EC.fdt\n"
     ]
    },
    {
     "name": "stderr",
     "output_type": "stream",
     "text": [
      "<ipython-input-3-eddedfb9c70e>:8: RuntimeWarning: Limited 1 annotation(s) that were expanding outside the data range.\n",
      "  raw = mne.io.read_raw_eeglab('sub-0' + str(10000 + i) + j + '.set')\n",
      "<ipython-input-3-eddedfb9c70e>:8: RuntimeWarning: The data contains 'boundary' events, indicating data discontinuities. Be cautious of filtering and epoching around these events.\n",
      "  raw = mne.io.read_raw_eeglab('sub-0' + str(10000 + i) + j + '.set')\n"
     ]
    },
    {
     "name": "stdout",
     "output_type": "stream",
     "text": [
      "100% [..........................................................................] 1145072 / 1145072Reading sub-010088_EO.fdt\n"
     ]
    },
    {
     "name": "stderr",
     "output_type": "stream",
     "text": [
      "<ipython-input-3-eddedfb9c70e>:8: RuntimeWarning: Limited 1 annotation(s) that were expanding outside the data range.\n",
      "  raw = mne.io.read_raw_eeglab('sub-0' + str(10000 + i) + j + '.set')\n",
      "<ipython-input-3-eddedfb9c70e>:8: RuntimeWarning: The data contains 'boundary' events, indicating data discontinuities. Be cautious of filtering and epoching around these events.\n",
      "  raw = mne.io.read_raw_eeglab('sub-0' + str(10000 + i) + j + '.set')\n"
     ]
    },
    {
     "name": "stdout",
     "output_type": "stream",
     "text": [
      "100% [..........................................................................] 1113096 / 1113096Reading sub-010089_EC.fdt\n"
     ]
    },
    {
     "name": "stderr",
     "output_type": "stream",
     "text": [
      "<ipython-input-3-eddedfb9c70e>:8: RuntimeWarning: Limited 1 annotation(s) that were expanding outside the data range.\n",
      "  raw = mne.io.read_raw_eeglab('sub-0' + str(10000 + i) + j + '.set')\n",
      "<ipython-input-3-eddedfb9c70e>:8: RuntimeWarning: The data contains 'boundary' events, indicating data discontinuities. Be cautious of filtering and epoching around these events.\n",
      "  raw = mne.io.read_raw_eeglab('sub-0' + str(10000 + i) + j + '.set')\n"
     ]
    },
    {
     "name": "stdout",
     "output_type": "stream",
     "text": [
      "100% [..........................................................................] 1161248 / 1161248Reading sub-010089_EO.fdt\n"
     ]
    },
    {
     "name": "stderr",
     "output_type": "stream",
     "text": [
      "<ipython-input-3-eddedfb9c70e>:8: RuntimeWarning: Limited 1 annotation(s) that were expanding outside the data range.\n",
      "  raw = mne.io.read_raw_eeglab('sub-0' + str(10000 + i) + j + '.set')\n",
      "<ipython-input-3-eddedfb9c70e>:8: RuntimeWarning: The data contains 'boundary' events, indicating data discontinuities. Be cautious of filtering and epoching around these events.\n",
      "  raw = mne.io.read_raw_eeglab('sub-0' + str(10000 + i) + j + '.set')\n"
     ]
    },
    {
     "name": "stdout",
     "output_type": "stream",
     "text": [
      "100% [..........................................................................] 1201520 / 1201520Reading sub-010090_EC.fdt\n"
     ]
    },
    {
     "name": "stderr",
     "output_type": "stream",
     "text": [
      "<ipython-input-3-eddedfb9c70e>:8: RuntimeWarning: Limited 1 annotation(s) that were expanding outside the data range.\n",
      "  raw = mne.io.read_raw_eeglab('sub-0' + str(10000 + i) + j + '.set')\n",
      "<ipython-input-3-eddedfb9c70e>:8: RuntimeWarning: The data contains 'boundary' events, indicating data discontinuities. Be cautious of filtering and epoching around these events.\n",
      "  raw = mne.io.read_raw_eeglab('sub-0' + str(10000 + i) + j + '.set')\n"
     ]
    },
    {
     "name": "stdout",
     "output_type": "stream",
     "text": [
      "100% [..........................................................................] 1202248 / 1202248Reading sub-010090_EO.fdt\n"
     ]
    },
    {
     "name": "stderr",
     "output_type": "stream",
     "text": [
      "<ipython-input-3-eddedfb9c70e>:8: RuntimeWarning: Limited 1 annotation(s) that were expanding outside the data range.\n",
      "  raw = mne.io.read_raw_eeglab('sub-0' + str(10000 + i) + j + '.set')\n",
      "<ipython-input-3-eddedfb9c70e>:8: RuntimeWarning: The data contains 'boundary' events, indicating data discontinuities. Be cautious of filtering and epoching around these events.\n",
      "  raw = mne.io.read_raw_eeglab('sub-0' + str(10000 + i) + j + '.set')\n"
     ]
    },
    {
     "name": "stdout",
     "output_type": "stream",
     "text": [
      "100% [..........................................................................] 1200952 / 1200952Reading sub-010091_EC.fdt\n"
     ]
    },
    {
     "name": "stderr",
     "output_type": "stream",
     "text": [
      "<ipython-input-3-eddedfb9c70e>:8: RuntimeWarning: Limited 1 annotation(s) that were expanding outside the data range.\n",
      "  raw = mne.io.read_raw_eeglab('sub-0' + str(10000 + i) + j + '.set')\n",
      "<ipython-input-3-eddedfb9c70e>:8: RuntimeWarning: The data contains 'boundary' events, indicating data discontinuities. Be cautious of filtering and epoching around these events.\n",
      "  raw = mne.io.read_raw_eeglab('sub-0' + str(10000 + i) + j + '.set')\n"
     ]
    },
    {
     "name": "stdout",
     "output_type": "stream",
     "text": [
      "100% [..........................................................................] 1187080 / 1187080Reading sub-010091_EO.fdt\n"
     ]
    },
    {
     "name": "stderr",
     "output_type": "stream",
     "text": [
      "<ipython-input-3-eddedfb9c70e>:8: RuntimeWarning: Limited 1 annotation(s) that were expanding outside the data range.\n",
      "  raw = mne.io.read_raw_eeglab('sub-0' + str(10000 + i) + j + '.set')\n",
      "<ipython-input-3-eddedfb9c70e>:8: RuntimeWarning: The data contains 'boundary' events, indicating data discontinuities. Be cautious of filtering and epoching around these events.\n",
      "  raw = mne.io.read_raw_eeglab('sub-0' + str(10000 + i) + j + '.set')\n"
     ]
    },
    {
     "name": "stdout",
     "output_type": "stream",
     "text": [
      "100% [..........................................................................] 1153992 / 1153992Reading sub-010092_EC.fdt\n"
     ]
    },
    {
     "name": "stderr",
     "output_type": "stream",
     "text": [
      "<ipython-input-3-eddedfb9c70e>:8: RuntimeWarning: Limited 1 annotation(s) that were expanding outside the data range.\n",
      "  raw = mne.io.read_raw_eeglab('sub-0' + str(10000 + i) + j + '.set')\n",
      "<ipython-input-3-eddedfb9c70e>:8: RuntimeWarning: The data contains 'boundary' events, indicating data discontinuities. Be cautious of filtering and epoching around these events.\n",
      "  raw = mne.io.read_raw_eeglab('sub-0' + str(10000 + i) + j + '.set')\n"
     ]
    },
    {
     "name": "stdout",
     "output_type": "stream",
     "text": [
      "100% [............................................................................] 716416 / 716416Reading sub-010092_EO.fdt\n"
     ]
    },
    {
     "name": "stderr",
     "output_type": "stream",
     "text": [
      "<ipython-input-3-eddedfb9c70e>:8: RuntimeWarning: Limited 1 annotation(s) that were expanding outside the data range.\n",
      "  raw = mne.io.read_raw_eeglab('sub-0' + str(10000 + i) + j + '.set')\n",
      "<ipython-input-3-eddedfb9c70e>:8: RuntimeWarning: The data contains 'boundary' events, indicating data discontinuities. Be cautious of filtering and epoching around these events.\n",
      "  raw = mne.io.read_raw_eeglab('sub-0' + str(10000 + i) + j + '.set')\n"
     ]
    },
    {
     "name": "stdout",
     "output_type": "stream",
     "text": [
      "100% [..........................................................................] 1196760 / 1196760Reading sub-010093_EC.fdt\n"
     ]
    },
    {
     "name": "stderr",
     "output_type": "stream",
     "text": [
      "<ipython-input-3-eddedfb9c70e>:8: RuntimeWarning: Limited 1 annotation(s) that were expanding outside the data range.\n",
      "  raw = mne.io.read_raw_eeglab('sub-0' + str(10000 + i) + j + '.set')\n",
      "<ipython-input-3-eddedfb9c70e>:8: RuntimeWarning: The data contains 'boundary' events, indicating data discontinuities. Be cautious of filtering and epoching around these events.\n",
      "  raw = mne.io.read_raw_eeglab('sub-0' + str(10000 + i) + j + '.set')\n"
     ]
    },
    {
     "name": "stdout",
     "output_type": "stream",
     "text": [
      "100% [..........................................................................] 1192720 / 1192720Reading sub-010093_EO.fdt\n"
     ]
    },
    {
     "name": "stderr",
     "output_type": "stream",
     "text": [
      "<ipython-input-3-eddedfb9c70e>:8: RuntimeWarning: Limited 1 annotation(s) that were expanding outside the data range.\n",
      "  raw = mne.io.read_raw_eeglab('sub-0' + str(10000 + i) + j + '.set')\n",
      "<ipython-input-3-eddedfb9c70e>:8: RuntimeWarning: The data contains 'boundary' events, indicating data discontinuities. Be cautious of filtering and epoching around these events.\n",
      "  raw = mne.io.read_raw_eeglab('sub-0' + str(10000 + i) + j + '.set')\n"
     ]
    },
    {
     "name": "stdout",
     "output_type": "stream",
     "text": [
      "100% [..........................................................................] 1186208 / 1186208Reading sub-010094_EC.fdt\n"
     ]
    },
    {
     "name": "stderr",
     "output_type": "stream",
     "text": [
      "<ipython-input-3-eddedfb9c70e>:8: RuntimeWarning: Limited 1 annotation(s) that were expanding outside the data range.\n",
      "  raw = mne.io.read_raw_eeglab('sub-0' + str(10000 + i) + j + '.set')\n",
      "<ipython-input-3-eddedfb9c70e>:8: RuntimeWarning: The data contains 'boundary' events, indicating data discontinuities. Be cautious of filtering and epoching around these events.\n",
      "  raw = mne.io.read_raw_eeglab('sub-0' + str(10000 + i) + j + '.set')\n"
     ]
    },
    {
     "name": "stdout",
     "output_type": "stream",
     "text": [
      "100% [..........................................................................] 1173904 / 1173904Reading sub-010094_EO.fdt\n"
     ]
    },
    {
     "name": "stderr",
     "output_type": "stream",
     "text": [
      "<ipython-input-3-eddedfb9c70e>:8: RuntimeWarning: Limited 1 annotation(s) that were expanding outside the data range.\n",
      "  raw = mne.io.read_raw_eeglab('sub-0' + str(10000 + i) + j + '.set')\n",
      "<ipython-input-3-eddedfb9c70e>:8: RuntimeWarning: The data contains 'boundary' events, indicating data discontinuities. Be cautious of filtering and epoching around these events.\n",
      "  raw = mne.io.read_raw_eeglab('sub-0' + str(10000 + i) + j + '.set')\n"
     ]
    },
    {
     "name": "stdout",
     "output_type": "stream",
     "text": [
      "100% [..........................................................................] 1191936 / 1191936Reading sub-010104_EC.fdt\n"
     ]
    },
    {
     "name": "stderr",
     "output_type": "stream",
     "text": [
      "<ipython-input-3-eddedfb9c70e>:8: RuntimeWarning: Limited 1 annotation(s) that were expanding outside the data range.\n",
      "  raw = mne.io.read_raw_eeglab('sub-0' + str(10000 + i) + j + '.set')\n",
      "<ipython-input-3-eddedfb9c70e>:8: RuntimeWarning: The data contains 'boundary' events, indicating data discontinuities. Be cautious of filtering and epoching around these events.\n",
      "  raw = mne.io.read_raw_eeglab('sub-0' + str(10000 + i) + j + '.set')\n"
     ]
    },
    {
     "name": "stdout",
     "output_type": "stream",
     "text": [
      "100% [..........................................................................] 1172072 / 1172072Reading sub-010104_EO.fdt\n"
     ]
    },
    {
     "name": "stderr",
     "output_type": "stream",
     "text": [
      "<ipython-input-3-eddedfb9c70e>:8: RuntimeWarning: Limited 1 annotation(s) that were expanding outside the data range.\n",
      "  raw = mne.io.read_raw_eeglab('sub-0' + str(10000 + i) + j + '.set')\n",
      "<ipython-input-3-eddedfb9c70e>:8: RuntimeWarning: The data contains 'boundary' events, indicating data discontinuities. Be cautious of filtering and epoching around these events.\n",
      "  raw = mne.io.read_raw_eeglab('sub-0' + str(10000 + i) + j + '.set')\n"
     ]
    },
    {
     "name": "stdout",
     "output_type": "stream",
     "text": [
      "100% [..........................................................................] 1201080 / 1201080Reading sub-010126_EC.fdt\n"
     ]
    },
    {
     "name": "stderr",
     "output_type": "stream",
     "text": [
      "<ipython-input-3-eddedfb9c70e>:8: RuntimeWarning: Limited 1 annotation(s) that were expanding outside the data range.\n",
      "  raw = mne.io.read_raw_eeglab('sub-0' + str(10000 + i) + j + '.set')\n",
      "<ipython-input-3-eddedfb9c70e>:8: RuntimeWarning: The data contains 'boundary' events, indicating data discontinuities. Be cautious of filtering and epoching around these events.\n",
      "  raw = mne.io.read_raw_eeglab('sub-0' + str(10000 + i) + j + '.set')\n"
     ]
    },
    {
     "name": "stdout",
     "output_type": "stream",
     "text": [
      "100% [..........................................................................] 1199560 / 1199560Reading sub-010126_EO.fdt\n"
     ]
    },
    {
     "name": "stderr",
     "output_type": "stream",
     "text": [
      "<ipython-input-3-eddedfb9c70e>:8: RuntimeWarning: Limited 1 annotation(s) that were expanding outside the data range.\n",
      "  raw = mne.io.read_raw_eeglab('sub-0' + str(10000 + i) + j + '.set')\n",
      "<ipython-input-3-eddedfb9c70e>:8: RuntimeWarning: The data contains 'boundary' events, indicating data discontinuities. Be cautious of filtering and epoching around these events.\n",
      "  raw = mne.io.read_raw_eeglab('sub-0' + str(10000 + i) + j + '.set')\n"
     ]
    },
    {
     "name": "stdout",
     "output_type": "stream",
     "text": [
      "100% [..........................................................................] 1194728 / 1194728Reading sub-010134_EC.fdt\n"
     ]
    },
    {
     "name": "stderr",
     "output_type": "stream",
     "text": [
      "<ipython-input-3-eddedfb9c70e>:8: RuntimeWarning: Limited 1 annotation(s) that were expanding outside the data range.\n",
      "  raw = mne.io.read_raw_eeglab('sub-0' + str(10000 + i) + j + '.set')\n",
      "<ipython-input-3-eddedfb9c70e>:8: RuntimeWarning: The data contains 'boundary' events, indicating data discontinuities. Be cautious of filtering and epoching around these events.\n",
      "  raw = mne.io.read_raw_eeglab('sub-0' + str(10000 + i) + j + '.set')\n"
     ]
    },
    {
     "name": "stdout",
     "output_type": "stream",
     "text": [
      "100% [..........................................................................] 1190408 / 1190408Reading sub-010134_EO.fdt\n"
     ]
    },
    {
     "name": "stderr",
     "output_type": "stream",
     "text": [
      "<ipython-input-3-eddedfb9c70e>:8: RuntimeWarning: Limited 1 annotation(s) that were expanding outside the data range.\n",
      "  raw = mne.io.read_raw_eeglab('sub-0' + str(10000 + i) + j + '.set')\n",
      "<ipython-input-3-eddedfb9c70e>:8: RuntimeWarning: The data contains 'boundary' events, indicating data discontinuities. Be cautious of filtering and epoching around these events.\n",
      "  raw = mne.io.read_raw_eeglab('sub-0' + str(10000 + i) + j + '.set')\n"
     ]
    },
    {
     "name": "stdout",
     "output_type": "stream",
     "text": [
      "100% [..........................................................................] 1197968 / 1197968Reading sub-010136_EC.fdt\n"
     ]
    },
    {
     "name": "stderr",
     "output_type": "stream",
     "text": [
      "<ipython-input-3-eddedfb9c70e>:8: RuntimeWarning: Limited 1 annotation(s) that were expanding outside the data range.\n",
      "  raw = mne.io.read_raw_eeglab('sub-0' + str(10000 + i) + j + '.set')\n",
      "<ipython-input-3-eddedfb9c70e>:8: RuntimeWarning: The data contains 'boundary' events, indicating data discontinuities. Be cautious of filtering and epoching around these events.\n",
      "  raw = mne.io.read_raw_eeglab('sub-0' + str(10000 + i) + j + '.set')\n"
     ]
    },
    {
     "name": "stdout",
     "output_type": "stream",
     "text": [
      "100% [..........................................................................] 1196600 / 1196600Reading sub-010136_EO.fdt\n"
     ]
    },
    {
     "name": "stderr",
     "output_type": "stream",
     "text": [
      "<ipython-input-3-eddedfb9c70e>:8: RuntimeWarning: Limited 1 annotation(s) that were expanding outside the data range.\n",
      "  raw = mne.io.read_raw_eeglab('sub-0' + str(10000 + i) + j + '.set')\n",
      "<ipython-input-3-eddedfb9c70e>:8: RuntimeWarning: The data contains 'boundary' events, indicating data discontinuities. Be cautious of filtering and epoching around these events.\n",
      "  raw = mne.io.read_raw_eeglab('sub-0' + str(10000 + i) + j + '.set')\n"
     ]
    },
    {
     "name": "stdout",
     "output_type": "stream",
     "text": [
      "100% [..........................................................................] 1201592 / 1201592Reading sub-010137_EC.fdt\n"
     ]
    },
    {
     "name": "stderr",
     "output_type": "stream",
     "text": [
      "<ipython-input-3-eddedfb9c70e>:8: RuntimeWarning: Limited 1 annotation(s) that were expanding outside the data range.\n",
      "  raw = mne.io.read_raw_eeglab('sub-0' + str(10000 + i) + j + '.set')\n",
      "<ipython-input-3-eddedfb9c70e>:8: RuntimeWarning: The data contains 'boundary' events, indicating data discontinuities. Be cautious of filtering and epoching around these events.\n",
      "  raw = mne.io.read_raw_eeglab('sub-0' + str(10000 + i) + j + '.set')\n"
     ]
    },
    {
     "name": "stdout",
     "output_type": "stream",
     "text": [
      "100% [..........................................................................] 1189768 / 1189768Reading sub-010137_EO.fdt\n"
     ]
    },
    {
     "name": "stderr",
     "output_type": "stream",
     "text": [
      "<ipython-input-3-eddedfb9c70e>:8: RuntimeWarning: Limited 1 annotation(s) that were expanding outside the data range.\n",
      "  raw = mne.io.read_raw_eeglab('sub-0' + str(10000 + i) + j + '.set')\n",
      "<ipython-input-3-eddedfb9c70e>:8: RuntimeWarning: The data contains 'boundary' events, indicating data discontinuities. Be cautious of filtering and epoching around these events.\n",
      "  raw = mne.io.read_raw_eeglab('sub-0' + str(10000 + i) + j + '.set')\n"
     ]
    },
    {
     "name": "stdout",
     "output_type": "stream",
     "text": [
      "100% [............................................................................] 720288 / 720288Reading sub-010138_EC.fdt\n"
     ]
    },
    {
     "name": "stderr",
     "output_type": "stream",
     "text": [
      "<ipython-input-3-eddedfb9c70e>:8: RuntimeWarning: Limited 1 annotation(s) that were expanding outside the data range.\n",
      "  raw = mne.io.read_raw_eeglab('sub-0' + str(10000 + i) + j + '.set')\n",
      "<ipython-input-3-eddedfb9c70e>:8: RuntimeWarning: The data contains 'boundary' events, indicating data discontinuities. Be cautious of filtering and epoching around these events.\n",
      "  raw = mne.io.read_raw_eeglab('sub-0' + str(10000 + i) + j + '.set')\n"
     ]
    },
    {
     "name": "stdout",
     "output_type": "stream",
     "text": [
      "100% [..........................................................................] 1200008 / 1200008Reading sub-010138_EO.fdt\n"
     ]
    },
    {
     "name": "stderr",
     "output_type": "stream",
     "text": [
      "<ipython-input-3-eddedfb9c70e>:8: RuntimeWarning: Limited 1 annotation(s) that were expanding outside the data range.\n",
      "  raw = mne.io.read_raw_eeglab('sub-0' + str(10000 + i) + j + '.set')\n",
      "<ipython-input-3-eddedfb9c70e>:8: RuntimeWarning: The data contains 'boundary' events, indicating data discontinuities. Be cautious of filtering and epoching around these events.\n",
      "  raw = mne.io.read_raw_eeglab('sub-0' + str(10000 + i) + j + '.set')\n"
     ]
    },
    {
     "name": "stdout",
     "output_type": "stream",
     "text": [
      "100% [............................................................................] 723928 / 723928Reading sub-010141_EC.fdt\n"
     ]
    },
    {
     "name": "stderr",
     "output_type": "stream",
     "text": [
      "<ipython-input-3-eddedfb9c70e>:8: RuntimeWarning: Limited 1 annotation(s) that were expanding outside the data range.\n",
      "  raw = mne.io.read_raw_eeglab('sub-0' + str(10000 + i) + j + '.set')\n",
      "<ipython-input-3-eddedfb9c70e>:8: RuntimeWarning: The data contains 'boundary' events, indicating data discontinuities. Be cautious of filtering and epoching around these events.\n",
      "  raw = mne.io.read_raw_eeglab('sub-0' + str(10000 + i) + j + '.set')\n"
     ]
    },
    {
     "name": "stdout",
     "output_type": "stream",
     "text": [
      "100% [............................................................................] 722416 / 722416Reading sub-010141_EO.fdt\n"
     ]
    },
    {
     "name": "stderr",
     "output_type": "stream",
     "text": [
      "<ipython-input-3-eddedfb9c70e>:8: RuntimeWarning: Limited 1 annotation(s) that were expanding outside the data range.\n",
      "  raw = mne.io.read_raw_eeglab('sub-0' + str(10000 + i) + j + '.set')\n",
      "<ipython-input-3-eddedfb9c70e>:8: RuntimeWarning: The data contains 'boundary' events, indicating data discontinuities. Be cautious of filtering and epoching around these events.\n",
      "  raw = mne.io.read_raw_eeglab('sub-0' + str(10000 + i) + j + '.set')\n"
     ]
    },
    {
     "name": "stdout",
     "output_type": "stream",
     "text": [
      "100% [..........................................................................] 1186848 / 1186848Reading sub-010142_EC.fdt\n"
     ]
    },
    {
     "name": "stderr",
     "output_type": "stream",
     "text": [
      "<ipython-input-3-eddedfb9c70e>:8: RuntimeWarning: Limited 1 annotation(s) that were expanding outside the data range.\n",
      "  raw = mne.io.read_raw_eeglab('sub-0' + str(10000 + i) + j + '.set')\n",
      "<ipython-input-3-eddedfb9c70e>:8: RuntimeWarning: The data contains 'boundary' events, indicating data discontinuities. Be cautious of filtering and epoching around these events.\n",
      "  raw = mne.io.read_raw_eeglab('sub-0' + str(10000 + i) + j + '.set')\n"
     ]
    },
    {
     "name": "stdout",
     "output_type": "stream",
     "text": [
      "100% [............................................................................] 718568 / 718568Reading sub-010142_EO.fdt\n"
     ]
    },
    {
     "name": "stderr",
     "output_type": "stream",
     "text": [
      "<ipython-input-3-eddedfb9c70e>:8: RuntimeWarning: Limited 1 annotation(s) that were expanding outside the data range.\n",
      "  raw = mne.io.read_raw_eeglab('sub-0' + str(10000 + i) + j + '.set')\n",
      "<ipython-input-3-eddedfb9c70e>:8: RuntimeWarning: The data contains 'boundary' events, indicating data discontinuities. Be cautious of filtering and epoching around these events.\n",
      "  raw = mne.io.read_raw_eeglab('sub-0' + str(10000 + i) + j + '.set')\n"
     ]
    },
    {
     "name": "stdout",
     "output_type": "stream",
     "text": [
      "100% [..........................................................................] 1196712 / 1196712Reading sub-010146_EC.fdt\n"
     ]
    },
    {
     "name": "stderr",
     "output_type": "stream",
     "text": [
      "<ipython-input-3-eddedfb9c70e>:8: RuntimeWarning: Limited 1 annotation(s) that were expanding outside the data range.\n",
      "  raw = mne.io.read_raw_eeglab('sub-0' + str(10000 + i) + j + '.set')\n",
      "<ipython-input-3-eddedfb9c70e>:8: RuntimeWarning: The data contains 'boundary' events, indicating data discontinuities. Be cautious of filtering and epoching around these events.\n",
      "  raw = mne.io.read_raw_eeglab('sub-0' + str(10000 + i) + j + '.set')\n"
     ]
    },
    {
     "name": "stdout",
     "output_type": "stream",
     "text": [
      "100% [..........................................................................] 1188552 / 1188552Reading sub-010146_EO.fdt\n"
     ]
    },
    {
     "name": "stderr",
     "output_type": "stream",
     "text": [
      "<ipython-input-3-eddedfb9c70e>:8: RuntimeWarning: Limited 1 annotation(s) that were expanding outside the data range.\n",
      "  raw = mne.io.read_raw_eeglab('sub-0' + str(10000 + i) + j + '.set')\n",
      "<ipython-input-3-eddedfb9c70e>:8: RuntimeWarning: The data contains 'boundary' events, indicating data discontinuities. Be cautious of filtering and epoching around these events.\n",
      "  raw = mne.io.read_raw_eeglab('sub-0' + str(10000 + i) + j + '.set')\n"
     ]
    },
    {
     "name": "stdout",
     "output_type": "stream",
     "text": [
      "100% [..........................................................................] 1236760 / 1236760Reading sub-010148_EC.fdt\n"
     ]
    },
    {
     "name": "stderr",
     "output_type": "stream",
     "text": [
      "<ipython-input-3-eddedfb9c70e>:8: RuntimeWarning: Limited 1 annotation(s) that were expanding outside the data range.\n",
      "  raw = mne.io.read_raw_eeglab('sub-0' + str(10000 + i) + j + '.set')\n",
      "<ipython-input-3-eddedfb9c70e>:8: RuntimeWarning: The data contains 'boundary' events, indicating data discontinuities. Be cautious of filtering and epoching around these events.\n",
      "  raw = mne.io.read_raw_eeglab('sub-0' + str(10000 + i) + j + '.set')\n"
     ]
    },
    {
     "name": "stdout",
     "output_type": "stream",
     "text": [
      "100% [..........................................................................] 1196784 / 1196784Reading sub-010148_EO.fdt\n"
     ]
    },
    {
     "name": "stderr",
     "output_type": "stream",
     "text": [
      "<ipython-input-3-eddedfb9c70e>:8: RuntimeWarning: Limited 1 annotation(s) that were expanding outside the data range.\n",
      "  raw = mne.io.read_raw_eeglab('sub-0' + str(10000 + i) + j + '.set')\n",
      "<ipython-input-3-eddedfb9c70e>:8: RuntimeWarning: The data contains 'boundary' events, indicating data discontinuities. Be cautious of filtering and epoching around these events.\n",
      "  raw = mne.io.read_raw_eeglab('sub-0' + str(10000 + i) + j + '.set')\n"
     ]
    },
    {
     "name": "stdout",
     "output_type": "stream",
     "text": [
      "100% [..........................................................................] 1216352 / 1216352Reading sub-010150_EC.fdt\n"
     ]
    },
    {
     "name": "stderr",
     "output_type": "stream",
     "text": [
      "<ipython-input-3-eddedfb9c70e>:8: RuntimeWarning: Limited 1 annotation(s) that were expanding outside the data range.\n",
      "  raw = mne.io.read_raw_eeglab('sub-0' + str(10000 + i) + j + '.set')\n",
      "<ipython-input-3-eddedfb9c70e>:8: RuntimeWarning: The data contains 'boundary' events, indicating data discontinuities. Be cautious of filtering and epoching around these events.\n",
      "  raw = mne.io.read_raw_eeglab('sub-0' + str(10000 + i) + j + '.set')\n"
     ]
    },
    {
     "name": "stdout",
     "output_type": "stream",
     "text": [
      "100% [..........................................................................] 1187872 / 1187872Reading sub-010150_EO.fdt\n"
     ]
    },
    {
     "name": "stderr",
     "output_type": "stream",
     "text": [
      "<ipython-input-3-eddedfb9c70e>:8: RuntimeWarning: Limited 1 annotation(s) that were expanding outside the data range.\n",
      "  raw = mne.io.read_raw_eeglab('sub-0' + str(10000 + i) + j + '.set')\n",
      "<ipython-input-3-eddedfb9c70e>:8: RuntimeWarning: The data contains 'boundary' events, indicating data discontinuities. Be cautious of filtering and epoching around these events.\n",
      "  raw = mne.io.read_raw_eeglab('sub-0' + str(10000 + i) + j + '.set')\n"
     ]
    },
    {
     "name": "stdout",
     "output_type": "stream",
     "text": [
      "100% [............................................................................] 747408 / 747408Reading sub-010152_EC.fdt\n"
     ]
    },
    {
     "name": "stderr",
     "output_type": "stream",
     "text": [
      "<ipython-input-3-eddedfb9c70e>:8: RuntimeWarning: Limited 1 annotation(s) that were expanding outside the data range.\n",
      "  raw = mne.io.read_raw_eeglab('sub-0' + str(10000 + i) + j + '.set')\n",
      "<ipython-input-3-eddedfb9c70e>:8: RuntimeWarning: The data contains 'boundary' events, indicating data discontinuities. Be cautious of filtering and epoching around these events.\n",
      "  raw = mne.io.read_raw_eeglab('sub-0' + str(10000 + i) + j + '.set')\n"
     ]
    },
    {
     "name": "stdout",
     "output_type": "stream",
     "text": [
      "100% [..........................................................................] 1202064 / 1202064Reading sub-010152_EO.fdt\n"
     ]
    },
    {
     "name": "stderr",
     "output_type": "stream",
     "text": [
      "<ipython-input-3-eddedfb9c70e>:8: RuntimeWarning: Limited 1 annotation(s) that were expanding outside the data range.\n",
      "  raw = mne.io.read_raw_eeglab('sub-0' + str(10000 + i) + j + '.set')\n",
      "<ipython-input-3-eddedfb9c70e>:8: RuntimeWarning: The data contains 'boundary' events, indicating data discontinuities. Be cautious of filtering and epoching around these events.\n",
      "  raw = mne.io.read_raw_eeglab('sub-0' + str(10000 + i) + j + '.set')\n"
     ]
    },
    {
     "name": "stdout",
     "output_type": "stream",
     "text": [
      "100% [..........................................................................] 1188816 / 1188816Reading sub-010155_EC.fdt\n"
     ]
    },
    {
     "name": "stderr",
     "output_type": "stream",
     "text": [
      "<ipython-input-3-eddedfb9c70e>:8: RuntimeWarning: Limited 1 annotation(s) that were expanding outside the data range.\n",
      "  raw = mne.io.read_raw_eeglab('sub-0' + str(10000 + i) + j + '.set')\n",
      "<ipython-input-3-eddedfb9c70e>:8: RuntimeWarning: The data contains 'boundary' events, indicating data discontinuities. Be cautious of filtering and epoching around these events.\n",
      "  raw = mne.io.read_raw_eeglab('sub-0' + str(10000 + i) + j + '.set')\n"
     ]
    },
    {
     "name": "stdout",
     "output_type": "stream",
     "text": [
      "100% [..........................................................................] 1170728 / 1170728Reading sub-010155_EO.fdt\n"
     ]
    },
    {
     "name": "stderr",
     "output_type": "stream",
     "text": [
      "<ipython-input-3-eddedfb9c70e>:8: RuntimeWarning: Limited 1 annotation(s) that were expanding outside the data range.\n",
      "  raw = mne.io.read_raw_eeglab('sub-0' + str(10000 + i) + j + '.set')\n",
      "<ipython-input-3-eddedfb9c70e>:8: RuntimeWarning: The data contains 'boundary' events, indicating data discontinuities. Be cautious of filtering and epoching around these events.\n",
      "  raw = mne.io.read_raw_eeglab('sub-0' + str(10000 + i) + j + '.set')\n"
     ]
    },
    {
     "name": "stdout",
     "output_type": "stream",
     "text": [
      "100% [..........................................................................] 1202984 / 1202984Reading sub-010157_EC.fdt\n"
     ]
    },
    {
     "name": "stderr",
     "output_type": "stream",
     "text": [
      "<ipython-input-3-eddedfb9c70e>:8: RuntimeWarning: Limited 1 annotation(s) that were expanding outside the data range.\n",
      "  raw = mne.io.read_raw_eeglab('sub-0' + str(10000 + i) + j + '.set')\n",
      "<ipython-input-3-eddedfb9c70e>:8: RuntimeWarning: The data contains 'boundary' events, indicating data discontinuities. Be cautious of filtering and epoching around these events.\n",
      "  raw = mne.io.read_raw_eeglab('sub-0' + str(10000 + i) + j + '.set')\n"
     ]
    },
    {
     "name": "stdout",
     "output_type": "stream",
     "text": [
      "100% [..........................................................................] 1194384 / 1194384Reading sub-010157_EO.fdt\n"
     ]
    },
    {
     "name": "stderr",
     "output_type": "stream",
     "text": [
      "<ipython-input-3-eddedfb9c70e>:8: RuntimeWarning: Limited 1 annotation(s) that were expanding outside the data range.\n",
      "  raw = mne.io.read_raw_eeglab('sub-0' + str(10000 + i) + j + '.set')\n",
      "<ipython-input-3-eddedfb9c70e>:8: RuntimeWarning: The data contains 'boundary' events, indicating data discontinuities. Be cautious of filtering and epoching around these events.\n",
      "  raw = mne.io.read_raw_eeglab('sub-0' + str(10000 + i) + j + '.set')\n"
     ]
    },
    {
     "name": "stdout",
     "output_type": "stream",
     "text": [
      "100% [..........................................................................] 1185832 / 1185832Reading sub-010162_EC.fdt\n"
     ]
    },
    {
     "name": "stderr",
     "output_type": "stream",
     "text": [
      "<ipython-input-3-eddedfb9c70e>:8: RuntimeWarning: Limited 1 annotation(s) that were expanding outside the data range.\n",
      "  raw = mne.io.read_raw_eeglab('sub-0' + str(10000 + i) + j + '.set')\n",
      "<ipython-input-3-eddedfb9c70e>:8: RuntimeWarning: The data contains 'boundary' events, indicating data discontinuities. Be cautious of filtering and epoching around these events.\n",
      "  raw = mne.io.read_raw_eeglab('sub-0' + str(10000 + i) + j + '.set')\n"
     ]
    },
    {
     "name": "stdout",
     "output_type": "stream",
     "text": [
      "100% [..........................................................................] 1160528 / 1160528Reading sub-010162_EO.fdt\n"
     ]
    },
    {
     "name": "stderr",
     "output_type": "stream",
     "text": [
      "<ipython-input-3-eddedfb9c70e>:8: RuntimeWarning: Limited 1 annotation(s) that were expanding outside the data range.\n",
      "  raw = mne.io.read_raw_eeglab('sub-0' + str(10000 + i) + j + '.set')\n",
      "<ipython-input-3-eddedfb9c70e>:8: RuntimeWarning: The data contains 'boundary' events, indicating data discontinuities. Be cautious of filtering and epoching around these events.\n",
      "  raw = mne.io.read_raw_eeglab('sub-0' + str(10000 + i) + j + '.set')\n"
     ]
    },
    {
     "name": "stdout",
     "output_type": "stream",
     "text": [
      "100% [..........................................................................] 1190328 / 1190328Reading sub-010163_EC.fdt\n"
     ]
    },
    {
     "name": "stderr",
     "output_type": "stream",
     "text": [
      "<ipython-input-3-eddedfb9c70e>:8: RuntimeWarning: Limited 1 annotation(s) that were expanding outside the data range.\n",
      "  raw = mne.io.read_raw_eeglab('sub-0' + str(10000 + i) + j + '.set')\n",
      "<ipython-input-3-eddedfb9c70e>:8: RuntimeWarning: The data contains 'boundary' events, indicating data discontinuities. Be cautious of filtering and epoching around these events.\n",
      "  raw = mne.io.read_raw_eeglab('sub-0' + str(10000 + i) + j + '.set')\n"
     ]
    },
    {
     "name": "stdout",
     "output_type": "stream",
     "text": [
      "100% [..........................................................................] 1188416 / 1188416Reading sub-010163_EO.fdt\n"
     ]
    },
    {
     "name": "stderr",
     "output_type": "stream",
     "text": [
      "<ipython-input-3-eddedfb9c70e>:8: RuntimeWarning: Limited 1 annotation(s) that were expanding outside the data range.\n",
      "  raw = mne.io.read_raw_eeglab('sub-0' + str(10000 + i) + j + '.set')\n",
      "<ipython-input-3-eddedfb9c70e>:8: RuntimeWarning: The data contains 'boundary' events, indicating data discontinuities. Be cautious of filtering and epoching around these events.\n",
      "  raw = mne.io.read_raw_eeglab('sub-0' + str(10000 + i) + j + '.set')\n"
     ]
    },
    {
     "name": "stdout",
     "output_type": "stream",
     "text": [
      "100% [..........................................................................] 1161024 / 1161024Reading sub-010164_EC.fdt\n"
     ]
    },
    {
     "name": "stderr",
     "output_type": "stream",
     "text": [
      "<ipython-input-3-eddedfb9c70e>:8: RuntimeWarning: Limited 1 annotation(s) that were expanding outside the data range.\n",
      "  raw = mne.io.read_raw_eeglab('sub-0' + str(10000 + i) + j + '.set')\n",
      "<ipython-input-3-eddedfb9c70e>:8: RuntimeWarning: The data contains 'boundary' events, indicating data discontinuities. Be cautious of filtering and epoching around these events.\n",
      "  raw = mne.io.read_raw_eeglab('sub-0' + str(10000 + i) + j + '.set')\n"
     ]
    },
    {
     "name": "stdout",
     "output_type": "stream",
     "text": [
      "100% [..........................................................................] 1193264 / 1193264Reading sub-010164_EO.fdt\n"
     ]
    },
    {
     "name": "stderr",
     "output_type": "stream",
     "text": [
      "<ipython-input-3-eddedfb9c70e>:8: RuntimeWarning: Limited 1 annotation(s) that were expanding outside the data range.\n",
      "  raw = mne.io.read_raw_eeglab('sub-0' + str(10000 + i) + j + '.set')\n",
      "<ipython-input-3-eddedfb9c70e>:8: RuntimeWarning: The data contains 'boundary' events, indicating data discontinuities. Be cautious of filtering and epoching around these events.\n",
      "  raw = mne.io.read_raw_eeglab('sub-0' + str(10000 + i) + j + '.set')\n"
     ]
    },
    {
     "name": "stdout",
     "output_type": "stream",
     "text": [
      "100% [..........................................................................] 1195752 / 1195752Reading sub-010165_EC.fdt\n"
     ]
    },
    {
     "name": "stderr",
     "output_type": "stream",
     "text": [
      "<ipython-input-3-eddedfb9c70e>:8: RuntimeWarning: Limited 1 annotation(s) that were expanding outside the data range.\n",
      "  raw = mne.io.read_raw_eeglab('sub-0' + str(10000 + i) + j + '.set')\n",
      "<ipython-input-3-eddedfb9c70e>:8: RuntimeWarning: The data contains 'boundary' events, indicating data discontinuities. Be cautious of filtering and epoching around these events.\n",
      "  raw = mne.io.read_raw_eeglab('sub-0' + str(10000 + i) + j + '.set')\n"
     ]
    },
    {
     "name": "stdout",
     "output_type": "stream",
     "text": [
      "100% [..........................................................................] 1186600 / 1186600Reading sub-010165_EO.fdt\n"
     ]
    },
    {
     "name": "stderr",
     "output_type": "stream",
     "text": [
      "<ipython-input-3-eddedfb9c70e>:8: RuntimeWarning: Limited 1 annotation(s) that were expanding outside the data range.\n",
      "  raw = mne.io.read_raw_eeglab('sub-0' + str(10000 + i) + j + '.set')\n",
      "<ipython-input-3-eddedfb9c70e>:8: RuntimeWarning: The data contains 'boundary' events, indicating data discontinuities. Be cautious of filtering and epoching around these events.\n",
      "  raw = mne.io.read_raw_eeglab('sub-0' + str(10000 + i) + j + '.set')\n"
     ]
    },
    {
     "name": "stdout",
     "output_type": "stream",
     "text": [
      "100% [..........................................................................] 1145552 / 1145552Reading sub-010166_EC.fdt\n"
     ]
    },
    {
     "name": "stderr",
     "output_type": "stream",
     "text": [
      "<ipython-input-3-eddedfb9c70e>:8: RuntimeWarning: Limited 1 annotation(s) that were expanding outside the data range.\n",
      "  raw = mne.io.read_raw_eeglab('sub-0' + str(10000 + i) + j + '.set')\n",
      "<ipython-input-3-eddedfb9c70e>:8: RuntimeWarning: The data contains 'boundary' events, indicating data discontinuities. Be cautious of filtering and epoching around these events.\n",
      "  raw = mne.io.read_raw_eeglab('sub-0' + str(10000 + i) + j + '.set')\n"
     ]
    },
    {
     "name": "stdout",
     "output_type": "stream",
     "text": [
      "100% [..........................................................................] 1123072 / 1123072Reading sub-010166_EO.fdt\n"
     ]
    },
    {
     "name": "stderr",
     "output_type": "stream",
     "text": [
      "<ipython-input-3-eddedfb9c70e>:8: RuntimeWarning: Limited 1 annotation(s) that were expanding outside the data range.\n",
      "  raw = mne.io.read_raw_eeglab('sub-0' + str(10000 + i) + j + '.set')\n",
      "<ipython-input-3-eddedfb9c70e>:8: RuntimeWarning: The data contains 'boundary' events, indicating data discontinuities. Be cautious of filtering and epoching around these events.\n",
      "  raw = mne.io.read_raw_eeglab('sub-0' + str(10000 + i) + j + '.set')\n"
     ]
    },
    {
     "name": "stdout",
     "output_type": "stream",
     "text": [
      "100% [..........................................................................] 1207008 / 1207008Reading sub-010168_EC.fdt\n"
     ]
    },
    {
     "name": "stderr",
     "output_type": "stream",
     "text": [
      "<ipython-input-3-eddedfb9c70e>:8: RuntimeWarning: Limited 1 annotation(s) that were expanding outside the data range.\n",
      "  raw = mne.io.read_raw_eeglab('sub-0' + str(10000 + i) + j + '.set')\n",
      "<ipython-input-3-eddedfb9c70e>:8: RuntimeWarning: The data contains 'boundary' events, indicating data discontinuities. Be cautious of filtering and epoching around these events.\n",
      "  raw = mne.io.read_raw_eeglab('sub-0' + str(10000 + i) + j + '.set')\n"
     ]
    },
    {
     "name": "stdout",
     "output_type": "stream",
     "text": [
      "100% [..........................................................................] 1130544 / 1130544Reading sub-010168_EO.fdt\n"
     ]
    },
    {
     "name": "stderr",
     "output_type": "stream",
     "text": [
      "<ipython-input-3-eddedfb9c70e>:8: RuntimeWarning: Limited 1 annotation(s) that were expanding outside the data range.\n",
      "  raw = mne.io.read_raw_eeglab('sub-0' + str(10000 + i) + j + '.set')\n",
      "<ipython-input-3-eddedfb9c70e>:8: RuntimeWarning: The data contains 'boundary' events, indicating data discontinuities. Be cautious of filtering and epoching around these events.\n",
      "  raw = mne.io.read_raw_eeglab('sub-0' + str(10000 + i) + j + '.set')\n"
     ]
    },
    {
     "name": "stdout",
     "output_type": "stream",
     "text": [
      "100% [..........................................................................] 1167160 / 1167160Reading sub-010170_EC.fdt\n"
     ]
    },
    {
     "name": "stderr",
     "output_type": "stream",
     "text": [
      "<ipython-input-3-eddedfb9c70e>:8: RuntimeWarning: Limited 1 annotation(s) that were expanding outside the data range.\n",
      "  raw = mne.io.read_raw_eeglab('sub-0' + str(10000 + i) + j + '.set')\n",
      "<ipython-input-3-eddedfb9c70e>:8: RuntimeWarning: The data contains 'boundary' events, indicating data discontinuities. Be cautious of filtering and epoching around these events.\n",
      "  raw = mne.io.read_raw_eeglab('sub-0' + str(10000 + i) + j + '.set')\n"
     ]
    },
    {
     "name": "stdout",
     "output_type": "stream",
     "text": [
      "100% [..........................................................................] 1196448 / 1196448Reading sub-010170_EO.fdt\n"
     ]
    },
    {
     "name": "stderr",
     "output_type": "stream",
     "text": [
      "<ipython-input-3-eddedfb9c70e>:8: RuntimeWarning: Limited 1 annotation(s) that were expanding outside the data range.\n",
      "  raw = mne.io.read_raw_eeglab('sub-0' + str(10000 + i) + j + '.set')\n",
      "<ipython-input-3-eddedfb9c70e>:8: RuntimeWarning: The data contains 'boundary' events, indicating data discontinuities. Be cautious of filtering and epoching around these events.\n",
      "  raw = mne.io.read_raw_eeglab('sub-0' + str(10000 + i) + j + '.set')\n"
     ]
    },
    {
     "name": "stdout",
     "output_type": "stream",
     "text": [
      "100% [............................................................................] 741328 / 741328Reading sub-010176_EC.fdt\n"
     ]
    },
    {
     "name": "stderr",
     "output_type": "stream",
     "text": [
      "<ipython-input-3-eddedfb9c70e>:8: RuntimeWarning: Limited 1 annotation(s) that were expanding outside the data range.\n",
      "  raw = mne.io.read_raw_eeglab('sub-0' + str(10000 + i) + j + '.set')\n",
      "<ipython-input-3-eddedfb9c70e>:8: RuntimeWarning: The data contains 'boundary' events, indicating data discontinuities. Be cautious of filtering and epoching around these events.\n",
      "  raw = mne.io.read_raw_eeglab('sub-0' + str(10000 + i) + j + '.set')\n"
     ]
    },
    {
     "name": "stdout",
     "output_type": "stream",
     "text": [
      "100% [..........................................................................] 1164248 / 1164248Reading sub-010176_EO.fdt\n"
     ]
    },
    {
     "name": "stderr",
     "output_type": "stream",
     "text": [
      "<ipython-input-3-eddedfb9c70e>:8: RuntimeWarning: Limited 1 annotation(s) that were expanding outside the data range.\n",
      "  raw = mne.io.read_raw_eeglab('sub-0' + str(10000 + i) + j + '.set')\n",
      "<ipython-input-3-eddedfb9c70e>:8: RuntimeWarning: The data contains 'boundary' events, indicating data discontinuities. Be cautious of filtering and epoching around these events.\n",
      "  raw = mne.io.read_raw_eeglab('sub-0' + str(10000 + i) + j + '.set')\n"
     ]
    },
    {
     "name": "stdout",
     "output_type": "stream",
     "text": [
      "100% [..........................................................................] 1204992 / 1204992Reading sub-010183_EC.fdt\n"
     ]
    },
    {
     "name": "stderr",
     "output_type": "stream",
     "text": [
      "<ipython-input-3-eddedfb9c70e>:8: RuntimeWarning: Limited 1 annotation(s) that were expanding outside the data range.\n",
      "  raw = mne.io.read_raw_eeglab('sub-0' + str(10000 + i) + j + '.set')\n",
      "<ipython-input-3-eddedfb9c70e>:8: RuntimeWarning: The data contains 'boundary' events, indicating data discontinuities. Be cautious of filtering and epoching around these events.\n",
      "  raw = mne.io.read_raw_eeglab('sub-0' + str(10000 + i) + j + '.set')\n"
     ]
    },
    {
     "name": "stdout",
     "output_type": "stream",
     "text": [
      "100% [..........................................................................] 1137832 / 1137832Reading sub-010183_EO.fdt\n"
     ]
    },
    {
     "name": "stderr",
     "output_type": "stream",
     "text": [
      "<ipython-input-3-eddedfb9c70e>:8: RuntimeWarning: Limited 1 annotation(s) that were expanding outside the data range.\n",
      "  raw = mne.io.read_raw_eeglab('sub-0' + str(10000 + i) + j + '.set')\n",
      "<ipython-input-3-eddedfb9c70e>:8: RuntimeWarning: The data contains 'boundary' events, indicating data discontinuities. Be cautious of filtering and epoching around these events.\n",
      "  raw = mne.io.read_raw_eeglab('sub-0' + str(10000 + i) + j + '.set')\n"
     ]
    },
    {
     "name": "stdout",
     "output_type": "stream",
     "text": [
      "100% [............................................................................] 742024 / 742024Reading sub-010191_EC.fdt\n"
     ]
    },
    {
     "name": "stderr",
     "output_type": "stream",
     "text": [
      "<ipython-input-3-eddedfb9c70e>:8: RuntimeWarning: Limited 1 annotation(s) that were expanding outside the data range.\n",
      "  raw = mne.io.read_raw_eeglab('sub-0' + str(10000 + i) + j + '.set')\n",
      "<ipython-input-3-eddedfb9c70e>:8: RuntimeWarning: The data contains 'boundary' events, indicating data discontinuities. Be cautious of filtering and epoching around these events.\n",
      "  raw = mne.io.read_raw_eeglab('sub-0' + str(10000 + i) + j + '.set')\n"
     ]
    },
    {
     "name": "stdout",
     "output_type": "stream",
     "text": [
      "100% [..........................................................................] 1161048 / 1161048Reading sub-010191_EO.fdt\n"
     ]
    },
    {
     "name": "stderr",
     "output_type": "stream",
     "text": [
      "<ipython-input-3-eddedfb9c70e>:8: RuntimeWarning: Limited 1 annotation(s) that were expanding outside the data range.\n",
      "  raw = mne.io.read_raw_eeglab('sub-0' + str(10000 + i) + j + '.set')\n",
      "<ipython-input-3-eddedfb9c70e>:8: RuntimeWarning: The data contains 'boundary' events, indicating data discontinuities. Be cautious of filtering and epoching around these events.\n",
      "  raw = mne.io.read_raw_eeglab('sub-0' + str(10000 + i) + j + '.set')\n"
     ]
    },
    {
     "name": "stdout",
     "output_type": "stream",
     "text": [
      "100% [..........................................................................] 1195816 / 1195816Reading sub-010192_EC.fdt\n"
     ]
    },
    {
     "name": "stderr",
     "output_type": "stream",
     "text": [
      "<ipython-input-3-eddedfb9c70e>:8: RuntimeWarning: Limited 1 annotation(s) that were expanding outside the data range.\n",
      "  raw = mne.io.read_raw_eeglab('sub-0' + str(10000 + i) + j + '.set')\n",
      "<ipython-input-3-eddedfb9c70e>:8: RuntimeWarning: The data contains 'boundary' events, indicating data discontinuities. Be cautious of filtering and epoching around these events.\n",
      "  raw = mne.io.read_raw_eeglab('sub-0' + str(10000 + i) + j + '.set')\n"
     ]
    },
    {
     "name": "stdout",
     "output_type": "stream",
     "text": [
      "100% [..........................................................................] 1171616 / 1171616Reading sub-010192_EO.fdt\n"
     ]
    },
    {
     "name": "stderr",
     "output_type": "stream",
     "text": [
      "<ipython-input-3-eddedfb9c70e>:8: RuntimeWarning: Limited 1 annotation(s) that were expanding outside the data range.\n",
      "  raw = mne.io.read_raw_eeglab('sub-0' + str(10000 + i) + j + '.set')\n",
      "<ipython-input-3-eddedfb9c70e>:8: RuntimeWarning: The data contains 'boundary' events, indicating data discontinuities. Be cautious of filtering and epoching around these events.\n",
      "  raw = mne.io.read_raw_eeglab('sub-0' + str(10000 + i) + j + '.set')\n"
     ]
    },
    {
     "name": "stdout",
     "output_type": "stream",
     "text": [
      "100% [..........................................................................] 1185056 / 1185056Reading sub-010194_EC.fdt\n"
     ]
    },
    {
     "name": "stderr",
     "output_type": "stream",
     "text": [
      "<ipython-input-3-eddedfb9c70e>:8: RuntimeWarning: Limited 1 annotation(s) that were expanding outside the data range.\n",
      "  raw = mne.io.read_raw_eeglab('sub-0' + str(10000 + i) + j + '.set')\n",
      "<ipython-input-3-eddedfb9c70e>:8: RuntimeWarning: The data contains 'boundary' events, indicating data discontinuities. Be cautious of filtering and epoching around these events.\n",
      "  raw = mne.io.read_raw_eeglab('sub-0' + str(10000 + i) + j + '.set')\n"
     ]
    },
    {
     "name": "stdout",
     "output_type": "stream",
     "text": [
      "100% [..........................................................................] 1100488 / 1100488Reading sub-010194_EO.fdt\n"
     ]
    },
    {
     "name": "stderr",
     "output_type": "stream",
     "text": [
      "<ipython-input-3-eddedfb9c70e>:8: RuntimeWarning: Limited 1 annotation(s) that were expanding outside the data range.\n",
      "  raw = mne.io.read_raw_eeglab('sub-0' + str(10000 + i) + j + '.set')\n",
      "<ipython-input-3-eddedfb9c70e>:8: RuntimeWarning: The data contains 'boundary' events, indicating data discontinuities. Be cautious of filtering and epoching around these events.\n",
      "  raw = mne.io.read_raw_eeglab('sub-0' + str(10000 + i) + j + '.set')\n"
     ]
    },
    {
     "name": "stdout",
     "output_type": "stream",
     "text": [
      "100% [..........................................................................] 1189256 / 1189256Reading sub-010195_EC.fdt\n"
     ]
    },
    {
     "name": "stderr",
     "output_type": "stream",
     "text": [
      "<ipython-input-3-eddedfb9c70e>:8: RuntimeWarning: Limited 1 annotation(s) that were expanding outside the data range.\n",
      "  raw = mne.io.read_raw_eeglab('sub-0' + str(10000 + i) + j + '.set')\n",
      "<ipython-input-3-eddedfb9c70e>:8: RuntimeWarning: The data contains 'boundary' events, indicating data discontinuities. Be cautious of filtering and epoching around these events.\n",
      "  raw = mne.io.read_raw_eeglab('sub-0' + str(10000 + i) + j + '.set')\n"
     ]
    },
    {
     "name": "stdout",
     "output_type": "stream",
     "text": [
      "100% [..........................................................................] 1151864 / 1151864Reading sub-010195_EO.fdt\n"
     ]
    },
    {
     "name": "stderr",
     "output_type": "stream",
     "text": [
      "<ipython-input-3-eddedfb9c70e>:8: RuntimeWarning: Limited 1 annotation(s) that were expanding outside the data range.\n",
      "  raw = mne.io.read_raw_eeglab('sub-0' + str(10000 + i) + j + '.set')\n",
      "<ipython-input-3-eddedfb9c70e>:8: RuntimeWarning: The data contains 'boundary' events, indicating data discontinuities. Be cautious of filtering and epoching around these events.\n",
      "  raw = mne.io.read_raw_eeglab('sub-0' + str(10000 + i) + j + '.set')\n"
     ]
    },
    {
     "name": "stdout",
     "output_type": "stream",
     "text": [
      "100% [..........................................................................] 1197680 / 1197680Reading sub-010196_EC.fdt\n"
     ]
    },
    {
     "name": "stderr",
     "output_type": "stream",
     "text": [
      "<ipython-input-3-eddedfb9c70e>:8: RuntimeWarning: Limited 1 annotation(s) that were expanding outside the data range.\n",
      "  raw = mne.io.read_raw_eeglab('sub-0' + str(10000 + i) + j + '.set')\n",
      "<ipython-input-3-eddedfb9c70e>:8: RuntimeWarning: The data contains 'boundary' events, indicating data discontinuities. Be cautious of filtering and epoching around these events.\n",
      "  raw = mne.io.read_raw_eeglab('sub-0' + str(10000 + i) + j + '.set')\n"
     ]
    },
    {
     "name": "stdout",
     "output_type": "stream",
     "text": [
      "100% [..........................................................................] 1176864 / 1176864Reading sub-010196_EO.fdt\n"
     ]
    },
    {
     "name": "stderr",
     "output_type": "stream",
     "text": [
      "<ipython-input-3-eddedfb9c70e>:8: RuntimeWarning: Limited 1 annotation(s) that were expanding outside the data range.\n",
      "  raw = mne.io.read_raw_eeglab('sub-0' + str(10000 + i) + j + '.set')\n",
      "<ipython-input-3-eddedfb9c70e>:8: RuntimeWarning: The data contains 'boundary' events, indicating data discontinuities. Be cautious of filtering and epoching around these events.\n",
      "  raw = mne.io.read_raw_eeglab('sub-0' + str(10000 + i) + j + '.set')\n"
     ]
    },
    {
     "name": "stdout",
     "output_type": "stream",
     "text": [
      "100% [..........................................................................] 1188216 / 1188216Reading sub-010197_EC.fdt\n"
     ]
    },
    {
     "name": "stderr",
     "output_type": "stream",
     "text": [
      "<ipython-input-3-eddedfb9c70e>:8: RuntimeWarning: Limited 1 annotation(s) that were expanding outside the data range.\n",
      "  raw = mne.io.read_raw_eeglab('sub-0' + str(10000 + i) + j + '.set')\n",
      "<ipython-input-3-eddedfb9c70e>:8: RuntimeWarning: The data contains 'boundary' events, indicating data discontinuities. Be cautious of filtering and epoching around these events.\n",
      "  raw = mne.io.read_raw_eeglab('sub-0' + str(10000 + i) + j + '.set')\n"
     ]
    },
    {
     "name": "stdout",
     "output_type": "stream",
     "text": [
      "100% [..........................................................................] 1174232 / 1174232Reading sub-010197_EO.fdt\n"
     ]
    },
    {
     "name": "stderr",
     "output_type": "stream",
     "text": [
      "<ipython-input-3-eddedfb9c70e>:8: RuntimeWarning: Limited 1 annotation(s) that were expanding outside the data range.\n",
      "  raw = mne.io.read_raw_eeglab('sub-0' + str(10000 + i) + j + '.set')\n",
      "<ipython-input-3-eddedfb9c70e>:8: RuntimeWarning: The data contains 'boundary' events, indicating data discontinuities. Be cautious of filtering and epoching around these events.\n",
      "  raw = mne.io.read_raw_eeglab('sub-0' + str(10000 + i) + j + '.set')\n"
     ]
    },
    {
     "name": "stdout",
     "output_type": "stream",
     "text": [
      "100% [..........................................................................] 1206176 / 1206176Reading sub-010199_EC.fdt\n"
     ]
    },
    {
     "name": "stderr",
     "output_type": "stream",
     "text": [
      "<ipython-input-3-eddedfb9c70e>:8: RuntimeWarning: Limited 1 annotation(s) that were expanding outside the data range.\n",
      "  raw = mne.io.read_raw_eeglab('sub-0' + str(10000 + i) + j + '.set')\n",
      "<ipython-input-3-eddedfb9c70e>:8: RuntimeWarning: The data contains 'boundary' events, indicating data discontinuities. Be cautious of filtering and epoching around these events.\n",
      "  raw = mne.io.read_raw_eeglab('sub-0' + str(10000 + i) + j + '.set')\n"
     ]
    },
    {
     "name": "stdout",
     "output_type": "stream",
     "text": [
      "100% [..........................................................................] 1182792 / 1182792Reading sub-010199_EO.fdt\n"
     ]
    },
    {
     "name": "stderr",
     "output_type": "stream",
     "text": [
      "<ipython-input-3-eddedfb9c70e>:8: RuntimeWarning: Limited 1 annotation(s) that were expanding outside the data range.\n",
      "  raw = mne.io.read_raw_eeglab('sub-0' + str(10000 + i) + j + '.set')\n",
      "<ipython-input-3-eddedfb9c70e>:8: RuntimeWarning: The data contains 'boundary' events, indicating data discontinuities. Be cautious of filtering and epoching around these events.\n",
      "  raw = mne.io.read_raw_eeglab('sub-0' + str(10000 + i) + j + '.set')\n"
     ]
    },
    {
     "name": "stdout",
     "output_type": "stream",
     "text": [
      "100% [..........................................................................] 1122096 / 1122096Reading sub-010200_EC.fdt\n"
     ]
    },
    {
     "name": "stderr",
     "output_type": "stream",
     "text": [
      "<ipython-input-3-eddedfb9c70e>:8: RuntimeWarning: Limited 1 annotation(s) that were expanding outside the data range.\n",
      "  raw = mne.io.read_raw_eeglab('sub-0' + str(10000 + i) + j + '.set')\n",
      "<ipython-input-3-eddedfb9c70e>:8: RuntimeWarning: The data contains 'boundary' events, indicating data discontinuities. Be cautious of filtering and epoching around these events.\n",
      "  raw = mne.io.read_raw_eeglab('sub-0' + str(10000 + i) + j + '.set')\n"
     ]
    },
    {
     "name": "stdout",
     "output_type": "stream",
     "text": [
      "100% [..........................................................................] 1163504 / 1163504Reading sub-010200_EO.fdt\n"
     ]
    },
    {
     "name": "stderr",
     "output_type": "stream",
     "text": [
      "<ipython-input-3-eddedfb9c70e>:8: RuntimeWarning: Limited 1 annotation(s) that were expanding outside the data range.\n",
      "  raw = mne.io.read_raw_eeglab('sub-0' + str(10000 + i) + j + '.set')\n",
      "<ipython-input-3-eddedfb9c70e>:8: RuntimeWarning: The data contains 'boundary' events, indicating data discontinuities. Be cautious of filtering and epoching around these events.\n",
      "  raw = mne.io.read_raw_eeglab('sub-0' + str(10000 + i) + j + '.set')\n"
     ]
    },
    {
     "name": "stdout",
     "output_type": "stream",
     "text": [
      "100% [..........................................................................] 1203256 / 1203256Reading sub-010201_EC.fdt\n"
     ]
    },
    {
     "name": "stderr",
     "output_type": "stream",
     "text": [
      "<ipython-input-3-eddedfb9c70e>:8: RuntimeWarning: Limited 1 annotation(s) that were expanding outside the data range.\n",
      "  raw = mne.io.read_raw_eeglab('sub-0' + str(10000 + i) + j + '.set')\n",
      "<ipython-input-3-eddedfb9c70e>:8: RuntimeWarning: The data contains 'boundary' events, indicating data discontinuities. Be cautious of filtering and epoching around these events.\n",
      "  raw = mne.io.read_raw_eeglab('sub-0' + str(10000 + i) + j + '.set')\n"
     ]
    },
    {
     "name": "stdout",
     "output_type": "stream",
     "text": [
      "100% [..........................................................................] 1181704 / 1181704Reading sub-010201_EO.fdt\n"
     ]
    },
    {
     "name": "stderr",
     "output_type": "stream",
     "text": [
      "<ipython-input-3-eddedfb9c70e>:8: RuntimeWarning: Limited 1 annotation(s) that were expanding outside the data range.\n",
      "  raw = mne.io.read_raw_eeglab('sub-0' + str(10000 + i) + j + '.set')\n",
      "<ipython-input-3-eddedfb9c70e>:8: RuntimeWarning: The data contains 'boundary' events, indicating data discontinuities. Be cautious of filtering and epoching around these events.\n",
      "  raw = mne.io.read_raw_eeglab('sub-0' + str(10000 + i) + j + '.set')\n"
     ]
    },
    {
     "name": "stdout",
     "output_type": "stream",
     "text": [
      "100% [..........................................................................] 1188008 / 1188008Reading sub-010202_EC.fdt\n"
     ]
    },
    {
     "name": "stderr",
     "output_type": "stream",
     "text": [
      "<ipython-input-3-eddedfb9c70e>:8: RuntimeWarning: Limited 1 annotation(s) that were expanding outside the data range.\n",
      "  raw = mne.io.read_raw_eeglab('sub-0' + str(10000 + i) + j + '.set')\n",
      "<ipython-input-3-eddedfb9c70e>:8: RuntimeWarning: The data contains 'boundary' events, indicating data discontinuities. Be cautious of filtering and epoching around these events.\n",
      "  raw = mne.io.read_raw_eeglab('sub-0' + str(10000 + i) + j + '.set')\n"
     ]
    },
    {
     "name": "stdout",
     "output_type": "stream",
     "text": [
      "100% [..........................................................................] 1079408 / 1079408Reading sub-010202_EO.fdt\n"
     ]
    },
    {
     "name": "stderr",
     "output_type": "stream",
     "text": [
      "<ipython-input-3-eddedfb9c70e>:8: RuntimeWarning: Limited 1 annotation(s) that were expanding outside the data range.\n",
      "  raw = mne.io.read_raw_eeglab('sub-0' + str(10000 + i) + j + '.set')\n",
      "<ipython-input-3-eddedfb9c70e>:8: RuntimeWarning: The data contains 'boundary' events, indicating data discontinuities. Be cautious of filtering and epoching around these events.\n",
      "  raw = mne.io.read_raw_eeglab('sub-0' + str(10000 + i) + j + '.set')\n"
     ]
    },
    {
     "name": "stdout",
     "output_type": "stream",
     "text": [
      "100% [..........................................................................] 1195552 / 1195552Reading sub-010204_EC.fdt\n"
     ]
    },
    {
     "name": "stderr",
     "output_type": "stream",
     "text": [
      "<ipython-input-3-eddedfb9c70e>:8: RuntimeWarning: Limited 1 annotation(s) that were expanding outside the data range.\n",
      "  raw = mne.io.read_raw_eeglab('sub-0' + str(10000 + i) + j + '.set')\n",
      "<ipython-input-3-eddedfb9c70e>:8: RuntimeWarning: The data contains 'boundary' events, indicating data discontinuities. Be cautious of filtering and epoching around these events.\n",
      "  raw = mne.io.read_raw_eeglab('sub-0' + str(10000 + i) + j + '.set')\n"
     ]
    },
    {
     "name": "stdout",
     "output_type": "stream",
     "text": [
      "100% [..........................................................................] 1100440 / 1100440Reading sub-010204_EO.fdt\n"
     ]
    },
    {
     "name": "stderr",
     "output_type": "stream",
     "text": [
      "<ipython-input-3-eddedfb9c70e>:8: RuntimeWarning: Limited 1 annotation(s) that were expanding outside the data range.\n",
      "  raw = mne.io.read_raw_eeglab('sub-0' + str(10000 + i) + j + '.set')\n",
      "<ipython-input-3-eddedfb9c70e>:8: RuntimeWarning: The data contains 'boundary' events, indicating data discontinuities. Be cautious of filtering and epoching around these events.\n",
      "  raw = mne.io.read_raw_eeglab('sub-0' + str(10000 + i) + j + '.set')\n"
     ]
    },
    {
     "name": "stdout",
     "output_type": "stream",
     "text": [
      "100% [............................................................................] 721232 / 721232Reading sub-010207_EC.fdt\n"
     ]
    },
    {
     "name": "stderr",
     "output_type": "stream",
     "text": [
      "<ipython-input-3-eddedfb9c70e>:8: RuntimeWarning: Limited 1 annotation(s) that were expanding outside the data range.\n",
      "  raw = mne.io.read_raw_eeglab('sub-0' + str(10000 + i) + j + '.set')\n",
      "<ipython-input-3-eddedfb9c70e>:8: RuntimeWarning: The data contains 'boundary' events, indicating data discontinuities. Be cautious of filtering and epoching around these events.\n",
      "  raw = mne.io.read_raw_eeglab('sub-0' + str(10000 + i) + j + '.set')\n"
     ]
    },
    {
     "name": "stdout",
     "output_type": "stream",
     "text": [
      "100% [............................................................................] 722528 / 722528Reading sub-010207_EO.fdt\n"
     ]
    },
    {
     "name": "stderr",
     "output_type": "stream",
     "text": [
      "<ipython-input-3-eddedfb9c70e>:8: RuntimeWarning: Limited 1 annotation(s) that were expanding outside the data range.\n",
      "  raw = mne.io.read_raw_eeglab('sub-0' + str(10000 + i) + j + '.set')\n",
      "<ipython-input-3-eddedfb9c70e>:8: RuntimeWarning: The data contains 'boundary' events, indicating data discontinuities. Be cautious of filtering and epoching around these events.\n",
      "  raw = mne.io.read_raw_eeglab('sub-0' + str(10000 + i) + j + '.set')\n"
     ]
    },
    {
     "name": "stdout",
     "output_type": "stream",
     "text": [
      "100% [............................................................................] 721464 / 721464Reading sub-010210_EC.fdt\n"
     ]
    },
    {
     "name": "stderr",
     "output_type": "stream",
     "text": [
      "<ipython-input-3-eddedfb9c70e>:8: RuntimeWarning: Limited 1 annotation(s) that were expanding outside the data range.\n",
      "  raw = mne.io.read_raw_eeglab('sub-0' + str(10000 + i) + j + '.set')\n",
      "<ipython-input-3-eddedfb9c70e>:8: RuntimeWarning: The data contains 'boundary' events, indicating data discontinuities. Be cautious of filtering and epoching around these events.\n",
      "  raw = mne.io.read_raw_eeglab('sub-0' + str(10000 + i) + j + '.set')\n"
     ]
    },
    {
     "name": "stdout",
     "output_type": "stream",
     "text": [
      "100% [..........................................................................] 1177320 / 1177320Reading sub-010210_EO.fdt\n"
     ]
    },
    {
     "name": "stderr",
     "output_type": "stream",
     "text": [
      "<ipython-input-3-eddedfb9c70e>:8: RuntimeWarning: Limited 1 annotation(s) that were expanding outside the data range.\n",
      "  raw = mne.io.read_raw_eeglab('sub-0' + str(10000 + i) + j + '.set')\n",
      "<ipython-input-3-eddedfb9c70e>:8: RuntimeWarning: The data contains 'boundary' events, indicating data discontinuities. Be cautious of filtering and epoching around these events.\n",
      "  raw = mne.io.read_raw_eeglab('sub-0' + str(10000 + i) + j + '.set')\n"
     ]
    },
    {
     "name": "stdout",
     "output_type": "stream",
     "text": [
      "100% [............................................................................] 725520 / 725520Reading sub-010213_EC.fdt\n"
     ]
    },
    {
     "name": "stderr",
     "output_type": "stream",
     "text": [
      "<ipython-input-3-eddedfb9c70e>:8: RuntimeWarning: Limited 1 annotation(s) that were expanding outside the data range.\n",
      "  raw = mne.io.read_raw_eeglab('sub-0' + str(10000 + i) + j + '.set')\n",
      "<ipython-input-3-eddedfb9c70e>:8: RuntimeWarning: The data contains 'boundary' events, indicating data discontinuities. Be cautious of filtering and epoching around these events.\n",
      "  raw = mne.io.read_raw_eeglab('sub-0' + str(10000 + i) + j + '.set')\n"
     ]
    },
    {
     "name": "stdout",
     "output_type": "stream",
     "text": [
      "100% [..........................................................................] 1198192 / 1198192Reading sub-010213_EO.fdt\n"
     ]
    },
    {
     "name": "stderr",
     "output_type": "stream",
     "text": [
      "<ipython-input-3-eddedfb9c70e>:8: RuntimeWarning: Limited 1 annotation(s) that were expanding outside the data range.\n",
      "  raw = mne.io.read_raw_eeglab('sub-0' + str(10000 + i) + j + '.set')\n",
      "<ipython-input-3-eddedfb9c70e>:8: RuntimeWarning: The data contains 'boundary' events, indicating data discontinuities. Be cautious of filtering and epoching around these events.\n",
      "  raw = mne.io.read_raw_eeglab('sub-0' + str(10000 + i) + j + '.set')\n"
     ]
    },
    {
     "name": "stdout",
     "output_type": "stream",
     "text": [
      "100% [............................................................................] 724752 / 724752Reading sub-010214_EC.fdt\n"
     ]
    },
    {
     "name": "stderr",
     "output_type": "stream",
     "text": [
      "<ipython-input-3-eddedfb9c70e>:8: RuntimeWarning: Limited 1 annotation(s) that were expanding outside the data range.\n",
      "  raw = mne.io.read_raw_eeglab('sub-0' + str(10000 + i) + j + '.set')\n",
      "<ipython-input-3-eddedfb9c70e>:8: RuntimeWarning: The data contains 'boundary' events, indicating data discontinuities. Be cautious of filtering and epoching around these events.\n",
      "  raw = mne.io.read_raw_eeglab('sub-0' + str(10000 + i) + j + '.set')\n"
     ]
    },
    {
     "name": "stdout",
     "output_type": "stream",
     "text": [
      "100% [..........................................................................] 1188520 / 1188520Reading sub-010214_EO.fdt\n"
     ]
    },
    {
     "name": "stderr",
     "output_type": "stream",
     "text": [
      "<ipython-input-3-eddedfb9c70e>:8: RuntimeWarning: Limited 1 annotation(s) that were expanding outside the data range.\n",
      "  raw = mne.io.read_raw_eeglab('sub-0' + str(10000 + i) + j + '.set')\n",
      "<ipython-input-3-eddedfb9c70e>:8: RuntimeWarning: The data contains 'boundary' events, indicating data discontinuities. Be cautious of filtering and epoching around these events.\n",
      "  raw = mne.io.read_raw_eeglab('sub-0' + str(10000 + i) + j + '.set')\n"
     ]
    },
    {
     "name": "stdout",
     "output_type": "stream",
     "text": [
      "100% [..........................................................................] 1169440 / 1169440Reading sub-010215_EC.fdt\n"
     ]
    },
    {
     "name": "stderr",
     "output_type": "stream",
     "text": [
      "<ipython-input-3-eddedfb9c70e>:8: RuntimeWarning: Limited 1 annotation(s) that were expanding outside the data range.\n",
      "  raw = mne.io.read_raw_eeglab('sub-0' + str(10000 + i) + j + '.set')\n",
      "<ipython-input-3-eddedfb9c70e>:8: RuntimeWarning: The data contains 'boundary' events, indicating data discontinuities. Be cautious of filtering and epoching around these events.\n",
      "  raw = mne.io.read_raw_eeglab('sub-0' + str(10000 + i) + j + '.set')\n"
     ]
    },
    {
     "name": "stdout",
     "output_type": "stream",
     "text": [
      "100% [..........................................................................] 1186760 / 1186760Reading sub-010215_EO.fdt\n"
     ]
    },
    {
     "name": "stderr",
     "output_type": "stream",
     "text": [
      "<ipython-input-3-eddedfb9c70e>:8: RuntimeWarning: Limited 1 annotation(s) that were expanding outside the data range.\n",
      "  raw = mne.io.read_raw_eeglab('sub-0' + str(10000 + i) + j + '.set')\n",
      "<ipython-input-3-eddedfb9c70e>:8: RuntimeWarning: The data contains 'boundary' events, indicating data discontinuities. Be cautious of filtering and epoching around these events.\n",
      "  raw = mne.io.read_raw_eeglab('sub-0' + str(10000 + i) + j + '.set')\n"
     ]
    },
    {
     "name": "stdout",
     "output_type": "stream",
     "text": [
      "100% [............................................................................] 726008 / 726008Reading sub-010218_EC.fdt\n"
     ]
    },
    {
     "name": "stderr",
     "output_type": "stream",
     "text": [
      "<ipython-input-3-eddedfb9c70e>:8: RuntimeWarning: Limited 1 annotation(s) that were expanding outside the data range.\n",
      "  raw = mne.io.read_raw_eeglab('sub-0' + str(10000 + i) + j + '.set')\n",
      "<ipython-input-3-eddedfb9c70e>:8: RuntimeWarning: The data contains 'boundary' events, indicating data discontinuities. Be cautious of filtering and epoching around these events.\n",
      "  raw = mne.io.read_raw_eeglab('sub-0' + str(10000 + i) + j + '.set')\n"
     ]
    },
    {
     "name": "stdout",
     "output_type": "stream",
     "text": [
      "100% [............................................................................] 725296 / 725296Reading sub-010218_EO.fdt\n"
     ]
    },
    {
     "name": "stderr",
     "output_type": "stream",
     "text": [
      "<ipython-input-3-eddedfb9c70e>:8: RuntimeWarning: Limited 1 annotation(s) that were expanding outside the data range.\n",
      "  raw = mne.io.read_raw_eeglab('sub-0' + str(10000 + i) + j + '.set')\n",
      "<ipython-input-3-eddedfb9c70e>:8: RuntimeWarning: The data contains 'boundary' events, indicating data discontinuities. Be cautious of filtering and epoching around these events.\n",
      "  raw = mne.io.read_raw_eeglab('sub-0' + str(10000 + i) + j + '.set')\n"
     ]
    },
    {
     "name": "stdout",
     "output_type": "stream",
     "text": [
      "100% [..........................................................................] 1134032 / 1134032Reading sub-010219_EC.fdt\n"
     ]
    },
    {
     "name": "stderr",
     "output_type": "stream",
     "text": [
      "<ipython-input-3-eddedfb9c70e>:8: RuntimeWarning: Limited 1 annotation(s) that were expanding outside the data range.\n",
      "  raw = mne.io.read_raw_eeglab('sub-0' + str(10000 + i) + j + '.set')\n",
      "<ipython-input-3-eddedfb9c70e>:8: RuntimeWarning: The data contains 'boundary' events, indicating data discontinuities. Be cautious of filtering and epoching around these events.\n",
      "  raw = mne.io.read_raw_eeglab('sub-0' + str(10000 + i) + j + '.set')\n"
     ]
    },
    {
     "name": "stdout",
     "output_type": "stream",
     "text": [
      "100% [..........................................................................] 1147368 / 1147368Reading sub-010219_EO.fdt\n"
     ]
    },
    {
     "name": "stderr",
     "output_type": "stream",
     "text": [
      "<ipython-input-3-eddedfb9c70e>:8: RuntimeWarning: Limited 1 annotation(s) that were expanding outside the data range.\n",
      "  raw = mne.io.read_raw_eeglab('sub-0' + str(10000 + i) + j + '.set')\n",
      "<ipython-input-3-eddedfb9c70e>:8: RuntimeWarning: The data contains 'boundary' events, indicating data discontinuities. Be cautious of filtering and epoching around these events.\n",
      "  raw = mne.io.read_raw_eeglab('sub-0' + str(10000 + i) + j + '.set')\n"
     ]
    },
    {
     "name": "stdout",
     "output_type": "stream",
     "text": [
      "100% [..........................................................................] 1200312 / 1200312Reading sub-010220_EC.fdt\n"
     ]
    },
    {
     "name": "stderr",
     "output_type": "stream",
     "text": [
      "<ipython-input-3-eddedfb9c70e>:8: RuntimeWarning: Limited 1 annotation(s) that were expanding outside the data range.\n",
      "  raw = mne.io.read_raw_eeglab('sub-0' + str(10000 + i) + j + '.set')\n",
      "<ipython-input-3-eddedfb9c70e>:8: RuntimeWarning: The data contains 'boundary' events, indicating data discontinuities. Be cautious of filtering and epoching around these events.\n",
      "  raw = mne.io.read_raw_eeglab('sub-0' + str(10000 + i) + j + '.set')\n"
     ]
    },
    {
     "name": "stdout",
     "output_type": "stream",
     "text": [
      "100% [..........................................................................] 1202584 / 1202584Reading sub-010220_EO.fdt\n"
     ]
    },
    {
     "name": "stderr",
     "output_type": "stream",
     "text": [
      "<ipython-input-3-eddedfb9c70e>:8: RuntimeWarning: Limited 1 annotation(s) that were expanding outside the data range.\n",
      "  raw = mne.io.read_raw_eeglab('sub-0' + str(10000 + i) + j + '.set')\n",
      "<ipython-input-3-eddedfb9c70e>:8: RuntimeWarning: The data contains 'boundary' events, indicating data discontinuities. Be cautious of filtering and epoching around these events.\n",
      "  raw = mne.io.read_raw_eeglab('sub-0' + str(10000 + i) + j + '.set')\n"
     ]
    },
    {
     "name": "stdout",
     "output_type": "stream",
     "text": [
      "100% [..........................................................................] 1185328 / 1185328Reading sub-010222_EC.fdt\n"
     ]
    },
    {
     "name": "stderr",
     "output_type": "stream",
     "text": [
      "<ipython-input-3-eddedfb9c70e>:8: RuntimeWarning: Limited 1 annotation(s) that were expanding outside the data range.\n",
      "  raw = mne.io.read_raw_eeglab('sub-0' + str(10000 + i) + j + '.set')\n",
      "<ipython-input-3-eddedfb9c70e>:8: RuntimeWarning: The data contains 'boundary' events, indicating data discontinuities. Be cautious of filtering and epoching around these events.\n",
      "  raw = mne.io.read_raw_eeglab('sub-0' + str(10000 + i) + j + '.set')\n"
     ]
    },
    {
     "name": "stdout",
     "output_type": "stream",
     "text": [
      "100% [..........................................................................] 1120008 / 1120008Reading sub-010222_EO.fdt\n"
     ]
    },
    {
     "name": "stderr",
     "output_type": "stream",
     "text": [
      "<ipython-input-3-eddedfb9c70e>:8: RuntimeWarning: Limited 1 annotation(s) that were expanding outside the data range.\n",
      "  raw = mne.io.read_raw_eeglab('sub-0' + str(10000 + i) + j + '.set')\n",
      "<ipython-input-3-eddedfb9c70e>:8: RuntimeWarning: The data contains 'boundary' events, indicating data discontinuities. Be cautious of filtering and epoching around these events.\n",
      "  raw = mne.io.read_raw_eeglab('sub-0' + str(10000 + i) + j + '.set')\n"
     ]
    },
    {
     "name": "stdout",
     "output_type": "stream",
     "text": [
      "100% [............................................................................] 721608 / 721608Reading sub-010223_EC.fdt\n"
     ]
    },
    {
     "name": "stderr",
     "output_type": "stream",
     "text": [
      "<ipython-input-3-eddedfb9c70e>:8: RuntimeWarning: Limited 1 annotation(s) that were expanding outside the data range.\n",
      "  raw = mne.io.read_raw_eeglab('sub-0' + str(10000 + i) + j + '.set')\n",
      "<ipython-input-3-eddedfb9c70e>:8: RuntimeWarning: The data contains 'boundary' events, indicating data discontinuities. Be cautious of filtering and epoching around these events.\n",
      "  raw = mne.io.read_raw_eeglab('sub-0' + str(10000 + i) + j + '.set')\n"
     ]
    },
    {
     "name": "stdout",
     "output_type": "stream",
     "text": [
      "100% [............................................................................] 725496 / 725496Reading sub-010223_EO.fdt\n"
     ]
    },
    {
     "name": "stderr",
     "output_type": "stream",
     "text": [
      "<ipython-input-3-eddedfb9c70e>:8: RuntimeWarning: Limited 1 annotation(s) that were expanding outside the data range.\n",
      "  raw = mne.io.read_raw_eeglab('sub-0' + str(10000 + i) + j + '.set')\n",
      "<ipython-input-3-eddedfb9c70e>:8: RuntimeWarning: The data contains 'boundary' events, indicating data discontinuities. Be cautious of filtering and epoching around these events.\n",
      "  raw = mne.io.read_raw_eeglab('sub-0' + str(10000 + i) + j + '.set')\n"
     ]
    },
    {
     "name": "stdout",
     "output_type": "stream",
     "text": [
      "100% [............................................................................] 720360 / 720360Reading sub-010224_EC.fdt\n"
     ]
    },
    {
     "name": "stderr",
     "output_type": "stream",
     "text": [
      "<ipython-input-3-eddedfb9c70e>:8: RuntimeWarning: Limited 1 annotation(s) that were expanding outside the data range.\n",
      "  raw = mne.io.read_raw_eeglab('sub-0' + str(10000 + i) + j + '.set')\n",
      "<ipython-input-3-eddedfb9c70e>:8: RuntimeWarning: The data contains 'boundary' events, indicating data discontinuities. Be cautious of filtering and epoching around these events.\n",
      "  raw = mne.io.read_raw_eeglab('sub-0' + str(10000 + i) + j + '.set')\n"
     ]
    },
    {
     "name": "stdout",
     "output_type": "stream",
     "text": [
      "100% [..........................................................................] 1198224 / 1198224Reading sub-010224_EO.fdt\n"
     ]
    },
    {
     "name": "stderr",
     "output_type": "stream",
     "text": [
      "<ipython-input-3-eddedfb9c70e>:8: RuntimeWarning: Limited 1 annotation(s) that were expanding outside the data range.\n",
      "  raw = mne.io.read_raw_eeglab('sub-0' + str(10000 + i) + j + '.set')\n",
      "<ipython-input-3-eddedfb9c70e>:8: RuntimeWarning: The data contains 'boundary' events, indicating data discontinuities. Be cautious of filtering and epoching around these events.\n",
      "  raw = mne.io.read_raw_eeglab('sub-0' + str(10000 + i) + j + '.set')\n"
     ]
    },
    {
     "name": "stdout",
     "output_type": "stream",
     "text": [
      "100% [..........................................................................] 1197224 / 1197224Reading sub-010226_EC.fdt\n"
     ]
    },
    {
     "name": "stderr",
     "output_type": "stream",
     "text": [
      "<ipython-input-3-eddedfb9c70e>:8: RuntimeWarning: Limited 1 annotation(s) that were expanding outside the data range.\n",
      "  raw = mne.io.read_raw_eeglab('sub-0' + str(10000 + i) + j + '.set')\n",
      "<ipython-input-3-eddedfb9c70e>:8: RuntimeWarning: The data contains 'boundary' events, indicating data discontinuities. Be cautious of filtering and epoching around these events.\n",
      "  raw = mne.io.read_raw_eeglab('sub-0' + str(10000 + i) + j + '.set')\n"
     ]
    },
    {
     "name": "stdout",
     "output_type": "stream",
     "text": [
      "100% [..........................................................................] 1188712 / 1188712Reading sub-010226_EO.fdt\n"
     ]
    },
    {
     "name": "stderr",
     "output_type": "stream",
     "text": [
      "<ipython-input-3-eddedfb9c70e>:8: RuntimeWarning: Limited 1 annotation(s) that were expanding outside the data range.\n",
      "  raw = mne.io.read_raw_eeglab('sub-0' + str(10000 + i) + j + '.set')\n",
      "<ipython-input-3-eddedfb9c70e>:8: RuntimeWarning: The data contains 'boundary' events, indicating data discontinuities. Be cautious of filtering and epoching around these events.\n",
      "  raw = mne.io.read_raw_eeglab('sub-0' + str(10000 + i) + j + '.set')\n"
     ]
    },
    {
     "name": "stdout",
     "output_type": "stream",
     "text": [
      "100% [..........................................................................] 1205784 / 1205784Reading sub-010227_EC.fdt\n"
     ]
    },
    {
     "name": "stderr",
     "output_type": "stream",
     "text": [
      "<ipython-input-3-eddedfb9c70e>:8: RuntimeWarning: Limited 1 annotation(s) that were expanding outside the data range.\n",
      "  raw = mne.io.read_raw_eeglab('sub-0' + str(10000 + i) + j + '.set')\n",
      "<ipython-input-3-eddedfb9c70e>:8: RuntimeWarning: The data contains 'boundary' events, indicating data discontinuities. Be cautious of filtering and epoching around these events.\n",
      "  raw = mne.io.read_raw_eeglab('sub-0' + str(10000 + i) + j + '.set')\n"
     ]
    },
    {
     "name": "stdout",
     "output_type": "stream",
     "text": [
      "100% [............................................................................] 723448 / 723448Reading sub-010227_EO.fdt\n"
     ]
    },
    {
     "name": "stderr",
     "output_type": "stream",
     "text": [
      "<ipython-input-3-eddedfb9c70e>:8: RuntimeWarning: Limited 1 annotation(s) that were expanding outside the data range.\n",
      "  raw = mne.io.read_raw_eeglab('sub-0' + str(10000 + i) + j + '.set')\n",
      "<ipython-input-3-eddedfb9c70e>:8: RuntimeWarning: The data contains 'boundary' events, indicating data discontinuities. Be cautious of filtering and epoching around these events.\n",
      "  raw = mne.io.read_raw_eeglab('sub-0' + str(10000 + i) + j + '.set')\n"
     ]
    },
    {
     "name": "stdout",
     "output_type": "stream",
     "text": [
      "100% [..........................................................................] 1180104 / 1180104Reading sub-010228_EC.fdt\n"
     ]
    },
    {
     "name": "stderr",
     "output_type": "stream",
     "text": [
      "<ipython-input-3-eddedfb9c70e>:8: RuntimeWarning: Limited 1 annotation(s) that were expanding outside the data range.\n",
      "  raw = mne.io.read_raw_eeglab('sub-0' + str(10000 + i) + j + '.set')\n",
      "<ipython-input-3-eddedfb9c70e>:8: RuntimeWarning: The data contains 'boundary' events, indicating data discontinuities. Be cautious of filtering and epoching around these events.\n",
      "  raw = mne.io.read_raw_eeglab('sub-0' + str(10000 + i) + j + '.set')\n"
     ]
    },
    {
     "name": "stdout",
     "output_type": "stream",
     "text": [
      "100% [..........................................................................] 1173656 / 1173656Reading sub-010228_EO.fdt\n"
     ]
    },
    {
     "name": "stderr",
     "output_type": "stream",
     "text": [
      "<ipython-input-3-eddedfb9c70e>:8: RuntimeWarning: Limited 1 annotation(s) that were expanding outside the data range.\n",
      "  raw = mne.io.read_raw_eeglab('sub-0' + str(10000 + i) + j + '.set')\n",
      "<ipython-input-3-eddedfb9c70e>:8: RuntimeWarning: The data contains 'boundary' events, indicating data discontinuities. Be cautious of filtering and epoching around these events.\n",
      "  raw = mne.io.read_raw_eeglab('sub-0' + str(10000 + i) + j + '.set')\n"
     ]
    },
    {
     "name": "stdout",
     "output_type": "stream",
     "text": [
      "100% [............................................................................] 725120 / 725120Reading sub-010229_EC.fdt\n"
     ]
    },
    {
     "name": "stderr",
     "output_type": "stream",
     "text": [
      "<ipython-input-3-eddedfb9c70e>:8: RuntimeWarning: Limited 1 annotation(s) that were expanding outside the data range.\n",
      "  raw = mne.io.read_raw_eeglab('sub-0' + str(10000 + i) + j + '.set')\n",
      "<ipython-input-3-eddedfb9c70e>:8: RuntimeWarning: The data contains 'boundary' events, indicating data discontinuities. Be cautious of filtering and epoching around these events.\n",
      "  raw = mne.io.read_raw_eeglab('sub-0' + str(10000 + i) + j + '.set')\n"
     ]
    },
    {
     "name": "stdout",
     "output_type": "stream",
     "text": [
      "100% [............................................................................] 723168 / 723168Reading sub-010230_EC.fdt\n"
     ]
    },
    {
     "name": "stderr",
     "output_type": "stream",
     "text": [
      "<ipython-input-3-eddedfb9c70e>:8: RuntimeWarning: Limited 1 annotation(s) that were expanding outside the data range.\n",
      "  raw = mne.io.read_raw_eeglab('sub-0' + str(10000 + i) + j + '.set')\n",
      "<ipython-input-3-eddedfb9c70e>:8: RuntimeWarning: The data contains 'boundary' events, indicating data discontinuities. Be cautious of filtering and epoching around these events.\n",
      "  raw = mne.io.read_raw_eeglab('sub-0' + str(10000 + i) + j + '.set')\n"
     ]
    },
    {
     "name": "stdout",
     "output_type": "stream",
     "text": [
      "100% [..........................................................................] 1185408 / 1185408Reading sub-010230_EO.fdt\n"
     ]
    },
    {
     "name": "stderr",
     "output_type": "stream",
     "text": [
      "<ipython-input-3-eddedfb9c70e>:8: RuntimeWarning: Limited 1 annotation(s) that were expanding outside the data range.\n",
      "  raw = mne.io.read_raw_eeglab('sub-0' + str(10000 + i) + j + '.set')\n",
      "<ipython-input-3-eddedfb9c70e>:8: RuntimeWarning: The data contains 'boundary' events, indicating data discontinuities. Be cautious of filtering and epoching around these events.\n",
      "  raw = mne.io.read_raw_eeglab('sub-0' + str(10000 + i) + j + '.set')\n"
     ]
    },
    {
     "name": "stdout",
     "output_type": "stream",
     "text": [
      "100% [..........................................................................] 1218328 / 1218328Reading sub-010231_EC.fdt\n"
     ]
    },
    {
     "name": "stderr",
     "output_type": "stream",
     "text": [
      "<ipython-input-3-eddedfb9c70e>:8: RuntimeWarning: Limited 1 annotation(s) that were expanding outside the data range.\n",
      "  raw = mne.io.read_raw_eeglab('sub-0' + str(10000 + i) + j + '.set')\n",
      "<ipython-input-3-eddedfb9c70e>:8: RuntimeWarning: The data contains 'boundary' events, indicating data discontinuities. Be cautious of filtering and epoching around these events.\n",
      "  raw = mne.io.read_raw_eeglab('sub-0' + str(10000 + i) + j + '.set')\n"
     ]
    },
    {
     "name": "stdout",
     "output_type": "stream",
     "text": [
      "100% [..........................................................................] 1190736 / 1190736Reading sub-010231_EO.fdt\n"
     ]
    },
    {
     "name": "stderr",
     "output_type": "stream",
     "text": [
      "<ipython-input-3-eddedfb9c70e>:8: RuntimeWarning: Limited 1 annotation(s) that were expanding outside the data range.\n",
      "  raw = mne.io.read_raw_eeglab('sub-0' + str(10000 + i) + j + '.set')\n",
      "<ipython-input-3-eddedfb9c70e>:8: RuntimeWarning: The data contains 'boundary' events, indicating data discontinuities. Be cautious of filtering and epoching around these events.\n",
      "  raw = mne.io.read_raw_eeglab('sub-0' + str(10000 + i) + j + '.set')\n"
     ]
    },
    {
     "name": "stdout",
     "output_type": "stream",
     "text": [
      "100% [..........................................................................] 1223496 / 1223496Reading sub-010232_EC.fdt\n"
     ]
    },
    {
     "name": "stderr",
     "output_type": "stream",
     "text": [
      "<ipython-input-3-eddedfb9c70e>:8: RuntimeWarning: Limited 1 annotation(s) that were expanding outside the data range.\n",
      "  raw = mne.io.read_raw_eeglab('sub-0' + str(10000 + i) + j + '.set')\n",
      "<ipython-input-3-eddedfb9c70e>:8: RuntimeWarning: The data contains 'boundary' events, indicating data discontinuities. Be cautious of filtering and epoching around these events.\n",
      "  raw = mne.io.read_raw_eeglab('sub-0' + str(10000 + i) + j + '.set')\n"
     ]
    },
    {
     "name": "stdout",
     "output_type": "stream",
     "text": [
      "100% [..........................................................................] 1174272 / 1174272Reading sub-010232_EO.fdt\n"
     ]
    },
    {
     "name": "stderr",
     "output_type": "stream",
     "text": [
      "<ipython-input-3-eddedfb9c70e>:8: RuntimeWarning: Limited 1 annotation(s) that were expanding outside the data range.\n",
      "  raw = mne.io.read_raw_eeglab('sub-0' + str(10000 + i) + j + '.set')\n",
      "<ipython-input-3-eddedfb9c70e>:8: RuntimeWarning: The data contains 'boundary' events, indicating data discontinuities. Be cautious of filtering and epoching around these events.\n",
      "  raw = mne.io.read_raw_eeglab('sub-0' + str(10000 + i) + j + '.set')\n"
     ]
    },
    {
     "name": "stdout",
     "output_type": "stream",
     "text": [
      "100% [............................................................................] 719640 / 719640Reading sub-010233_EC.fdt\n"
     ]
    },
    {
     "name": "stderr",
     "output_type": "stream",
     "text": [
      "<ipython-input-3-eddedfb9c70e>:8: RuntimeWarning: Limited 1 annotation(s) that were expanding outside the data range.\n",
      "  raw = mne.io.read_raw_eeglab('sub-0' + str(10000 + i) + j + '.set')\n",
      "<ipython-input-3-eddedfb9c70e>:8: RuntimeWarning: The data contains 'boundary' events, indicating data discontinuities. Be cautious of filtering and epoching around these events.\n",
      "  raw = mne.io.read_raw_eeglab('sub-0' + str(10000 + i) + j + '.set')\n"
     ]
    },
    {
     "name": "stdout",
     "output_type": "stream",
     "text": [
      "100% [..........................................................................] 1186480 / 1186480Reading sub-010233_EO.fdt\n"
     ]
    },
    {
     "name": "stderr",
     "output_type": "stream",
     "text": [
      "<ipython-input-3-eddedfb9c70e>:8: RuntimeWarning: Limited 1 annotation(s) that were expanding outside the data range.\n",
      "  raw = mne.io.read_raw_eeglab('sub-0' + str(10000 + i) + j + '.set')\n",
      "<ipython-input-3-eddedfb9c70e>:8: RuntimeWarning: The data contains 'boundary' events, indicating data discontinuities. Be cautious of filtering and epoching around these events.\n",
      "  raw = mne.io.read_raw_eeglab('sub-0' + str(10000 + i) + j + '.set')\n"
     ]
    },
    {
     "name": "stdout",
     "output_type": "stream",
     "text": [
      "100% [..........................................................................] 1180336 / 1180336Reading sub-010234_EC.fdt\n"
     ]
    },
    {
     "name": "stderr",
     "output_type": "stream",
     "text": [
      "<ipython-input-3-eddedfb9c70e>:8: RuntimeWarning: Limited 1 annotation(s) that were expanding outside the data range.\n",
      "  raw = mne.io.read_raw_eeglab('sub-0' + str(10000 + i) + j + '.set')\n",
      "<ipython-input-3-eddedfb9c70e>:8: RuntimeWarning: The data contains 'boundary' events, indicating data discontinuities. Be cautious of filtering and epoching around these events.\n",
      "  raw = mne.io.read_raw_eeglab('sub-0' + str(10000 + i) + j + '.set')\n"
     ]
    },
    {
     "name": "stdout",
     "output_type": "stream",
     "text": [
      "100% [..........................................................................] 1197648 / 1197648Reading sub-010234_EO.fdt\n"
     ]
    },
    {
     "name": "stderr",
     "output_type": "stream",
     "text": [
      "<ipython-input-3-eddedfb9c70e>:8: RuntimeWarning: Limited 1 annotation(s) that were expanding outside the data range.\n",
      "  raw = mne.io.read_raw_eeglab('sub-0' + str(10000 + i) + j + '.set')\n",
      "<ipython-input-3-eddedfb9c70e>:8: RuntimeWarning: The data contains 'boundary' events, indicating data discontinuities. Be cautious of filtering and epoching around these events.\n",
      "  raw = mne.io.read_raw_eeglab('sub-0' + str(10000 + i) + j + '.set')\n"
     ]
    },
    {
     "name": "stdout",
     "output_type": "stream",
     "text": [
      "100% [..........................................................................] 1197600 / 1197600Reading sub-010236_EC.fdt\n"
     ]
    },
    {
     "name": "stderr",
     "output_type": "stream",
     "text": [
      "<ipython-input-3-eddedfb9c70e>:8: RuntimeWarning: Limited 1 annotation(s) that were expanding outside the data range.\n",
      "  raw = mne.io.read_raw_eeglab('sub-0' + str(10000 + i) + j + '.set')\n",
      "<ipython-input-3-eddedfb9c70e>:8: RuntimeWarning: The data contains 'boundary' events, indicating data discontinuities. Be cautious of filtering and epoching around these events.\n",
      "  raw = mne.io.read_raw_eeglab('sub-0' + str(10000 + i) + j + '.set')\n"
     ]
    },
    {
     "name": "stdout",
     "output_type": "stream",
     "text": [
      "100% [..........................................................................] 1194592 / 1194592Reading sub-010236_EO.fdt\n"
     ]
    },
    {
     "name": "stderr",
     "output_type": "stream",
     "text": [
      "<ipython-input-3-eddedfb9c70e>:8: RuntimeWarning: Limited 1 annotation(s) that were expanding outside the data range.\n",
      "  raw = mne.io.read_raw_eeglab('sub-0' + str(10000 + i) + j + '.set')\n",
      "<ipython-input-3-eddedfb9c70e>:8: RuntimeWarning: The data contains 'boundary' events, indicating data discontinuities. Be cautious of filtering and epoching around these events.\n",
      "  raw = mne.io.read_raw_eeglab('sub-0' + str(10000 + i) + j + '.set')\n"
     ]
    },
    {
     "name": "stdout",
     "output_type": "stream",
     "text": [
      "100% [..........................................................................] 1189544 / 1189544Reading sub-010238_EC.fdt\n"
     ]
    },
    {
     "name": "stderr",
     "output_type": "stream",
     "text": [
      "<ipython-input-3-eddedfb9c70e>:8: RuntimeWarning: Limited 1 annotation(s) that were expanding outside the data range.\n",
      "  raw = mne.io.read_raw_eeglab('sub-0' + str(10000 + i) + j + '.set')\n",
      "<ipython-input-3-eddedfb9c70e>:8: RuntimeWarning: The data contains 'boundary' events, indicating data discontinuities. Be cautious of filtering and epoching around these events.\n",
      "  raw = mne.io.read_raw_eeglab('sub-0' + str(10000 + i) + j + '.set')\n"
     ]
    },
    {
     "name": "stdout",
     "output_type": "stream",
     "text": [
      "100% [..........................................................................] 1182784 / 1182784Reading sub-010238_EO.fdt\n"
     ]
    },
    {
     "name": "stderr",
     "output_type": "stream",
     "text": [
      "<ipython-input-3-eddedfb9c70e>:8: RuntimeWarning: Limited 1 annotation(s) that were expanding outside the data range.\n",
      "  raw = mne.io.read_raw_eeglab('sub-0' + str(10000 + i) + j + '.set')\n",
      "<ipython-input-3-eddedfb9c70e>:8: RuntimeWarning: The data contains 'boundary' events, indicating data discontinuities. Be cautious of filtering and epoching around these events.\n",
      "  raw = mne.io.read_raw_eeglab('sub-0' + str(10000 + i) + j + '.set')\n"
     ]
    },
    {
     "name": "stdout",
     "output_type": "stream",
     "text": [
      "100% [..........................................................................] 1185824 / 1185824Reading sub-010239_EC.fdt\n"
     ]
    },
    {
     "name": "stderr",
     "output_type": "stream",
     "text": [
      "<ipython-input-3-eddedfb9c70e>:8: RuntimeWarning: Limited 1 annotation(s) that were expanding outside the data range.\n",
      "  raw = mne.io.read_raw_eeglab('sub-0' + str(10000 + i) + j + '.set')\n",
      "<ipython-input-3-eddedfb9c70e>:8: RuntimeWarning: The data contains 'boundary' events, indicating data discontinuities. Be cautious of filtering and epoching around these events.\n",
      "  raw = mne.io.read_raw_eeglab('sub-0' + str(10000 + i) + j + '.set')\n"
     ]
    },
    {
     "name": "stdout",
     "output_type": "stream",
     "text": [
      "100% [..........................................................................] 1165232 / 1165232Reading sub-010239_EO.fdt\n"
     ]
    },
    {
     "name": "stderr",
     "output_type": "stream",
     "text": [
      "<ipython-input-3-eddedfb9c70e>:8: RuntimeWarning: Limited 1 annotation(s) that were expanding outside the data range.\n",
      "  raw = mne.io.read_raw_eeglab('sub-0' + str(10000 + i) + j + '.set')\n",
      "<ipython-input-3-eddedfb9c70e>:8: RuntimeWarning: The data contains 'boundary' events, indicating data discontinuities. Be cautious of filtering and epoching around these events.\n",
      "  raw = mne.io.read_raw_eeglab('sub-0' + str(10000 + i) + j + '.set')\n"
     ]
    },
    {
     "name": "stdout",
     "output_type": "stream",
     "text": [
      "100% [..........................................................................] 1199464 / 1199464Reading sub-010240_EC.fdt\n"
     ]
    },
    {
     "name": "stderr",
     "output_type": "stream",
     "text": [
      "<ipython-input-3-eddedfb9c70e>:8: RuntimeWarning: Limited 1 annotation(s) that were expanding outside the data range.\n",
      "  raw = mne.io.read_raw_eeglab('sub-0' + str(10000 + i) + j + '.set')\n",
      "<ipython-input-3-eddedfb9c70e>:8: RuntimeWarning: The data contains 'boundary' events, indicating data discontinuities. Be cautious of filtering and epoching around these events.\n",
      "  raw = mne.io.read_raw_eeglab('sub-0' + str(10000 + i) + j + '.set')\n"
     ]
    },
    {
     "name": "stdout",
     "output_type": "stream",
     "text": [
      "100% [..........................................................................] 1198952 / 1198952Reading sub-010240_EO.fdt\n"
     ]
    },
    {
     "name": "stderr",
     "output_type": "stream",
     "text": [
      "<ipython-input-3-eddedfb9c70e>:8: RuntimeWarning: Limited 1 annotation(s) that were expanding outside the data range.\n",
      "  raw = mne.io.read_raw_eeglab('sub-0' + str(10000 + i) + j + '.set')\n",
      "<ipython-input-3-eddedfb9c70e>:8: RuntimeWarning: The data contains 'boundary' events, indicating data discontinuities. Be cautious of filtering and epoching around these events.\n",
      "  raw = mne.io.read_raw_eeglab('sub-0' + str(10000 + i) + j + '.set')\n"
     ]
    },
    {
     "name": "stdout",
     "output_type": "stream",
     "text": [
      "100% [..........................................................................] 1195952 / 1195952Reading sub-010241_EC.fdt\n"
     ]
    },
    {
     "name": "stderr",
     "output_type": "stream",
     "text": [
      "<ipython-input-3-eddedfb9c70e>:8: RuntimeWarning: Limited 1 annotation(s) that were expanding outside the data range.\n",
      "  raw = mne.io.read_raw_eeglab('sub-0' + str(10000 + i) + j + '.set')\n",
      "<ipython-input-3-eddedfb9c70e>:8: RuntimeWarning: The data contains 'boundary' events, indicating data discontinuities. Be cautious of filtering and epoching around these events.\n",
      "  raw = mne.io.read_raw_eeglab('sub-0' + str(10000 + i) + j + '.set')\n"
     ]
    },
    {
     "name": "stdout",
     "output_type": "stream",
     "text": [
      "100% [..........................................................................] 1180912 / 1180912Reading sub-010241_EO.fdt\n"
     ]
    },
    {
     "name": "stderr",
     "output_type": "stream",
     "text": [
      "<ipython-input-3-eddedfb9c70e>:8: RuntimeWarning: Limited 1 annotation(s) that were expanding outside the data range.\n",
      "  raw = mne.io.read_raw_eeglab('sub-0' + str(10000 + i) + j + '.set')\n",
      "<ipython-input-3-eddedfb9c70e>:8: RuntimeWarning: The data contains 'boundary' events, indicating data discontinuities. Be cautious of filtering and epoching around these events.\n",
      "  raw = mne.io.read_raw_eeglab('sub-0' + str(10000 + i) + j + '.set')\n"
     ]
    },
    {
     "name": "stdout",
     "output_type": "stream",
     "text": [
      "100% [..........................................................................] 1192096 / 1192096Reading sub-010242_EC.fdt\n"
     ]
    },
    {
     "name": "stderr",
     "output_type": "stream",
     "text": [
      "<ipython-input-3-eddedfb9c70e>:8: RuntimeWarning: Limited 1 annotation(s) that were expanding outside the data range.\n",
      "  raw = mne.io.read_raw_eeglab('sub-0' + str(10000 + i) + j + '.set')\n",
      "<ipython-input-3-eddedfb9c70e>:8: RuntimeWarning: The data contains 'boundary' events, indicating data discontinuities. Be cautious of filtering and epoching around these events.\n",
      "  raw = mne.io.read_raw_eeglab('sub-0' + str(10000 + i) + j + '.set')\n"
     ]
    },
    {
     "name": "stdout",
     "output_type": "stream",
     "text": [
      "100% [..........................................................................] 1161224 / 1161224Reading sub-010242_EO.fdt\n"
     ]
    },
    {
     "name": "stderr",
     "output_type": "stream",
     "text": [
      "<ipython-input-3-eddedfb9c70e>:8: RuntimeWarning: Limited 1 annotation(s) that were expanding outside the data range.\n",
      "  raw = mne.io.read_raw_eeglab('sub-0' + str(10000 + i) + j + '.set')\n",
      "<ipython-input-3-eddedfb9c70e>:8: RuntimeWarning: The data contains 'boundary' events, indicating data discontinuities. Be cautious of filtering and epoching around these events.\n",
      "  raw = mne.io.read_raw_eeglab('sub-0' + str(10000 + i) + j + '.set')\n"
     ]
    },
    {
     "name": "stdout",
     "output_type": "stream",
     "text": [
      "100% [..........................................................................] 1200648 / 1200648Reading sub-010243_EC.fdt\n"
     ]
    },
    {
     "name": "stderr",
     "output_type": "stream",
     "text": [
      "<ipython-input-3-eddedfb9c70e>:8: RuntimeWarning: Limited 1 annotation(s) that were expanding outside the data range.\n",
      "  raw = mne.io.read_raw_eeglab('sub-0' + str(10000 + i) + j + '.set')\n",
      "<ipython-input-3-eddedfb9c70e>:8: RuntimeWarning: The data contains 'boundary' events, indicating data discontinuities. Be cautious of filtering and epoching around these events.\n",
      "  raw = mne.io.read_raw_eeglab('sub-0' + str(10000 + i) + j + '.set')\n"
     ]
    },
    {
     "name": "stdout",
     "output_type": "stream",
     "text": [
      "100% [..........................................................................] 1195456 / 1195456Reading sub-010243_EO.fdt\n"
     ]
    },
    {
     "name": "stderr",
     "output_type": "stream",
     "text": [
      "<ipython-input-3-eddedfb9c70e>:8: RuntimeWarning: Limited 1 annotation(s) that were expanding outside the data range.\n",
      "  raw = mne.io.read_raw_eeglab('sub-0' + str(10000 + i) + j + '.set')\n",
      "<ipython-input-3-eddedfb9c70e>:8: RuntimeWarning: The data contains 'boundary' events, indicating data discontinuities. Be cautious of filtering and epoching around these events.\n",
      "  raw = mne.io.read_raw_eeglab('sub-0' + str(10000 + i) + j + '.set')\n"
     ]
    },
    {
     "name": "stdout",
     "output_type": "stream",
     "text": [
      "100% [............................................................................] 721904 / 721904Reading sub-010244_EC.fdt\n"
     ]
    },
    {
     "name": "stderr",
     "output_type": "stream",
     "text": [
      "<ipython-input-3-eddedfb9c70e>:8: RuntimeWarning: Limited 1 annotation(s) that were expanding outside the data range.\n",
      "  raw = mne.io.read_raw_eeglab('sub-0' + str(10000 + i) + j + '.set')\n",
      "<ipython-input-3-eddedfb9c70e>:8: RuntimeWarning: The data contains 'boundary' events, indicating data discontinuities. Be cautious of filtering and epoching around these events.\n",
      "  raw = mne.io.read_raw_eeglab('sub-0' + str(10000 + i) + j + '.set')\n"
     ]
    },
    {
     "name": "stdout",
     "output_type": "stream",
     "text": [
      "100% [..........................................................................] 1199152 / 1199152Reading sub-010244_EO.fdt\n"
     ]
    },
    {
     "name": "stderr",
     "output_type": "stream",
     "text": [
      "<ipython-input-3-eddedfb9c70e>:8: RuntimeWarning: Limited 1 annotation(s) that were expanding outside the data range.\n",
      "  raw = mne.io.read_raw_eeglab('sub-0' + str(10000 + i) + j + '.set')\n",
      "<ipython-input-3-eddedfb9c70e>:8: RuntimeWarning: The data contains 'boundary' events, indicating data discontinuities. Be cautious of filtering and epoching around these events.\n",
      "  raw = mne.io.read_raw_eeglab('sub-0' + str(10000 + i) + j + '.set')\n"
     ]
    },
    {
     "name": "stdout",
     "output_type": "stream",
     "text": [
      "100% [..........................................................................] 1178032 / 1178032Reading sub-010245_EC.fdt\n"
     ]
    },
    {
     "name": "stderr",
     "output_type": "stream",
     "text": [
      "<ipython-input-3-eddedfb9c70e>:8: RuntimeWarning: Limited 1 annotation(s) that were expanding outside the data range.\n",
      "  raw = mne.io.read_raw_eeglab('sub-0' + str(10000 + i) + j + '.set')\n",
      "<ipython-input-3-eddedfb9c70e>:8: RuntimeWarning: The data contains 'boundary' events, indicating data discontinuities. Be cautious of filtering and epoching around these events.\n",
      "  raw = mne.io.read_raw_eeglab('sub-0' + str(10000 + i) + j + '.set')\n"
     ]
    },
    {
     "name": "stdout",
     "output_type": "stream",
     "text": [
      "100% [..........................................................................] 1155968 / 1155968Reading sub-010245_EO.fdt\n"
     ]
    },
    {
     "name": "stderr",
     "output_type": "stream",
     "text": [
      "<ipython-input-3-eddedfb9c70e>:8: RuntimeWarning: Limited 1 annotation(s) that were expanding outside the data range.\n",
      "  raw = mne.io.read_raw_eeglab('sub-0' + str(10000 + i) + j + '.set')\n",
      "<ipython-input-3-eddedfb9c70e>:8: RuntimeWarning: The data contains 'boundary' events, indicating data discontinuities. Be cautious of filtering and epoching around these events.\n",
      "  raw = mne.io.read_raw_eeglab('sub-0' + str(10000 + i) + j + '.set')\n"
     ]
    },
    {
     "name": "stdout",
     "output_type": "stream",
     "text": [
      "100% [............................................................................] 727592 / 727592Reading sub-010246_EC.fdt\n"
     ]
    },
    {
     "name": "stderr",
     "output_type": "stream",
     "text": [
      "<ipython-input-3-eddedfb9c70e>:8: RuntimeWarning: Limited 1 annotation(s) that were expanding outside the data range.\n",
      "  raw = mne.io.read_raw_eeglab('sub-0' + str(10000 + i) + j + '.set')\n",
      "<ipython-input-3-eddedfb9c70e>:8: RuntimeWarning: The data contains 'boundary' events, indicating data discontinuities. Be cautious of filtering and epoching around these events.\n",
      "  raw = mne.io.read_raw_eeglab('sub-0' + str(10000 + i) + j + '.set')\n"
     ]
    },
    {
     "name": "stdout",
     "output_type": "stream",
     "text": [
      "100% [............................................................................] 722432 / 722432Reading sub-010246_EO.fdt\n"
     ]
    },
    {
     "name": "stderr",
     "output_type": "stream",
     "text": [
      "<ipython-input-3-eddedfb9c70e>:8: RuntimeWarning: Limited 1 annotation(s) that were expanding outside the data range.\n",
      "  raw = mne.io.read_raw_eeglab('sub-0' + str(10000 + i) + j + '.set')\n",
      "<ipython-input-3-eddedfb9c70e>:8: RuntimeWarning: The data contains 'boundary' events, indicating data discontinuities. Be cautious of filtering and epoching around these events.\n",
      "  raw = mne.io.read_raw_eeglab('sub-0' + str(10000 + i) + j + '.set')\n"
     ]
    },
    {
     "name": "stdout",
     "output_type": "stream",
     "text": [
      "100% [............................................................................] 721568 / 721568Reading sub-010247_EC.fdt\n"
     ]
    },
    {
     "name": "stderr",
     "output_type": "stream",
     "text": [
      "<ipython-input-3-eddedfb9c70e>:8: RuntimeWarning: Limited 1 annotation(s) that were expanding outside the data range.\n",
      "  raw = mne.io.read_raw_eeglab('sub-0' + str(10000 + i) + j + '.set')\n",
      "<ipython-input-3-eddedfb9c70e>:8: RuntimeWarning: The data contains 'boundary' events, indicating data discontinuities. Be cautious of filtering and epoching around these events.\n",
      "  raw = mne.io.read_raw_eeglab('sub-0' + str(10000 + i) + j + '.set')\n"
     ]
    },
    {
     "name": "stdout",
     "output_type": "stream",
     "text": [
      "100% [..........................................................................] 1193488 / 1193488Reading sub-010247_EO.fdt\n"
     ]
    },
    {
     "name": "stderr",
     "output_type": "stream",
     "text": [
      "<ipython-input-3-eddedfb9c70e>:8: RuntimeWarning: Limited 1 annotation(s) that were expanding outside the data range.\n",
      "  raw = mne.io.read_raw_eeglab('sub-0' + str(10000 + i) + j + '.set')\n",
      "<ipython-input-3-eddedfb9c70e>:8: RuntimeWarning: The data contains 'boundary' events, indicating data discontinuities. Be cautious of filtering and epoching around these events.\n",
      "  raw = mne.io.read_raw_eeglab('sub-0' + str(10000 + i) + j + '.set')\n"
     ]
    },
    {
     "name": "stdout",
     "output_type": "stream",
     "text": [
      "100% [............................................................................] 724456 / 724456Reading sub-010248_EC.fdt\n"
     ]
    },
    {
     "name": "stderr",
     "output_type": "stream",
     "text": [
      "<ipython-input-3-eddedfb9c70e>:8: RuntimeWarning: Limited 1 annotation(s) that were expanding outside the data range.\n",
      "  raw = mne.io.read_raw_eeglab('sub-0' + str(10000 + i) + j + '.set')\n",
      "<ipython-input-3-eddedfb9c70e>:8: RuntimeWarning: The data contains 'boundary' events, indicating data discontinuities. Be cautious of filtering and epoching around these events.\n",
      "  raw = mne.io.read_raw_eeglab('sub-0' + str(10000 + i) + j + '.set')\n"
     ]
    },
    {
     "name": "stdout",
     "output_type": "stream",
     "text": [
      "100% [..........................................................................] 1201872 / 1201872Reading sub-010248_EO.fdt\n"
     ]
    },
    {
     "name": "stderr",
     "output_type": "stream",
     "text": [
      "<ipython-input-3-eddedfb9c70e>:8: RuntimeWarning: Limited 1 annotation(s) that were expanding outside the data range.\n",
      "  raw = mne.io.read_raw_eeglab('sub-0' + str(10000 + i) + j + '.set')\n",
      "<ipython-input-3-eddedfb9c70e>:8: RuntimeWarning: The data contains 'boundary' events, indicating data discontinuities. Be cautious of filtering and epoching around these events.\n",
      "  raw = mne.io.read_raw_eeglab('sub-0' + str(10000 + i) + j + '.set')\n"
     ]
    },
    {
     "name": "stdout",
     "output_type": "stream",
     "text": [
      "100% [..........................................................................] 1196432 / 1196432Reading sub-010249_EC.fdt\n"
     ]
    },
    {
     "name": "stderr",
     "output_type": "stream",
     "text": [
      "<ipython-input-3-eddedfb9c70e>:8: RuntimeWarning: Limited 1 annotation(s) that were expanding outside the data range.\n",
      "  raw = mne.io.read_raw_eeglab('sub-0' + str(10000 + i) + j + '.set')\n",
      "<ipython-input-3-eddedfb9c70e>:8: RuntimeWarning: The data contains 'boundary' events, indicating data discontinuities. Be cautious of filtering and epoching around these events.\n",
      "  raw = mne.io.read_raw_eeglab('sub-0' + str(10000 + i) + j + '.set')\n"
     ]
    },
    {
     "name": "stdout",
     "output_type": "stream",
     "text": [
      "100% [..........................................................................] 1195424 / 1195424Reading sub-010249_EO.fdt\n"
     ]
    },
    {
     "name": "stderr",
     "output_type": "stream",
     "text": [
      "<ipython-input-3-eddedfb9c70e>:8: RuntimeWarning: Limited 1 annotation(s) that were expanding outside the data range.\n",
      "  raw = mne.io.read_raw_eeglab('sub-0' + str(10000 + i) + j + '.set')\n",
      "<ipython-input-3-eddedfb9c70e>:8: RuntimeWarning: The data contains 'boundary' events, indicating data discontinuities. Be cautious of filtering and epoching around these events.\n",
      "  raw = mne.io.read_raw_eeglab('sub-0' + str(10000 + i) + j + '.set')\n"
     ]
    },
    {
     "name": "stdout",
     "output_type": "stream",
     "text": [
      "100% [..........................................................................] 1193576 / 1193576Reading sub-010250_EC.fdt\n"
     ]
    },
    {
     "name": "stderr",
     "output_type": "stream",
     "text": [
      "<ipython-input-3-eddedfb9c70e>:8: RuntimeWarning: Limited 1 annotation(s) that were expanding outside the data range.\n",
      "  raw = mne.io.read_raw_eeglab('sub-0' + str(10000 + i) + j + '.set')\n",
      "<ipython-input-3-eddedfb9c70e>:8: RuntimeWarning: The data contains 'boundary' events, indicating data discontinuities. Be cautious of filtering and epoching around these events.\n",
      "  raw = mne.io.read_raw_eeglab('sub-0' + str(10000 + i) + j + '.set')\n"
     ]
    },
    {
     "name": "stdout",
     "output_type": "stream",
     "text": [
      "100% [..........................................................................] 1140240 / 1140240Reading sub-010250_EO.fdt\n"
     ]
    },
    {
     "name": "stderr",
     "output_type": "stream",
     "text": [
      "<ipython-input-3-eddedfb9c70e>:8: RuntimeWarning: Limited 1 annotation(s) that were expanding outside the data range.\n",
      "  raw = mne.io.read_raw_eeglab('sub-0' + str(10000 + i) + j + '.set')\n",
      "<ipython-input-3-eddedfb9c70e>:8: RuntimeWarning: The data contains 'boundary' events, indicating data discontinuities. Be cautious of filtering and epoching around these events.\n",
      "  raw = mne.io.read_raw_eeglab('sub-0' + str(10000 + i) + j + '.set')\n"
     ]
    },
    {
     "name": "stdout",
     "output_type": "stream",
     "text": [
      "100% [............................................................................] 724000 / 724000Reading sub-010251_EC.fdt\n"
     ]
    },
    {
     "name": "stderr",
     "output_type": "stream",
     "text": [
      "<ipython-input-3-eddedfb9c70e>:8: RuntimeWarning: Limited 1 annotation(s) that were expanding outside the data range.\n",
      "  raw = mne.io.read_raw_eeglab('sub-0' + str(10000 + i) + j + '.set')\n",
      "<ipython-input-3-eddedfb9c70e>:8: RuntimeWarning: The data contains 'boundary' events, indicating data discontinuities. Be cautious of filtering and epoching around these events.\n",
      "  raw = mne.io.read_raw_eeglab('sub-0' + str(10000 + i) + j + '.set')\n"
     ]
    },
    {
     "name": "stdout",
     "output_type": "stream",
     "text": [
      "100% [..........................................................................] 1194696 / 1194696Reading sub-010251_EO.fdt\n"
     ]
    },
    {
     "name": "stderr",
     "output_type": "stream",
     "text": [
      "<ipython-input-3-eddedfb9c70e>:8: RuntimeWarning: Limited 1 annotation(s) that were expanding outside the data range.\n",
      "  raw = mne.io.read_raw_eeglab('sub-0' + str(10000 + i) + j + '.set')\n",
      "<ipython-input-3-eddedfb9c70e>:8: RuntimeWarning: The data contains 'boundary' events, indicating data discontinuities. Be cautious of filtering and epoching around these events.\n",
      "  raw = mne.io.read_raw_eeglab('sub-0' + str(10000 + i) + j + '.set')\n"
     ]
    },
    {
     "name": "stdout",
     "output_type": "stream",
     "text": [
      "100% [..........................................................................] 1198000 / 1198000Reading sub-010252_EC.fdt\n"
     ]
    },
    {
     "name": "stderr",
     "output_type": "stream",
     "text": [
      "<ipython-input-3-eddedfb9c70e>:8: RuntimeWarning: Limited 1 annotation(s) that were expanding outside the data range.\n",
      "  raw = mne.io.read_raw_eeglab('sub-0' + str(10000 + i) + j + '.set')\n",
      "<ipython-input-3-eddedfb9c70e>:8: RuntimeWarning: The data contains 'boundary' events, indicating data discontinuities. Be cautious of filtering and epoching around these events.\n",
      "  raw = mne.io.read_raw_eeglab('sub-0' + str(10000 + i) + j + '.set')\n"
     ]
    },
    {
     "name": "stdout",
     "output_type": "stream",
     "text": [
      "100% [..........................................................................] 1189696 / 1189696Reading sub-010252_EO.fdt\n"
     ]
    },
    {
     "name": "stderr",
     "output_type": "stream",
     "text": [
      "<ipython-input-3-eddedfb9c70e>:8: RuntimeWarning: Limited 1 annotation(s) that were expanding outside the data range.\n",
      "  raw = mne.io.read_raw_eeglab('sub-0' + str(10000 + i) + j + '.set')\n",
      "<ipython-input-3-eddedfb9c70e>:8: RuntimeWarning: The data contains 'boundary' events, indicating data discontinuities. Be cautious of filtering and epoching around these events.\n",
      "  raw = mne.io.read_raw_eeglab('sub-0' + str(10000 + i) + j + '.set')\n"
     ]
    },
    {
     "name": "stdout",
     "output_type": "stream",
     "text": [
      "100% [..........................................................................] 1209656 / 1209656Reading sub-010254_EC.fdt\n"
     ]
    },
    {
     "name": "stderr",
     "output_type": "stream",
     "text": [
      "<ipython-input-3-eddedfb9c70e>:8: RuntimeWarning: Limited 1 annotation(s) that were expanding outside the data range.\n",
      "  raw = mne.io.read_raw_eeglab('sub-0' + str(10000 + i) + j + '.set')\n",
      "<ipython-input-3-eddedfb9c70e>:8: RuntimeWarning: The data contains 'boundary' events, indicating data discontinuities. Be cautious of filtering and epoching around these events.\n",
      "  raw = mne.io.read_raw_eeglab('sub-0' + str(10000 + i) + j + '.set')\n"
     ]
    },
    {
     "name": "stdout",
     "output_type": "stream",
     "text": [
      "100% [............................................................................] 723120 / 723120Reading sub-010254_EO.fdt\n"
     ]
    },
    {
     "name": "stderr",
     "output_type": "stream",
     "text": [
      "<ipython-input-3-eddedfb9c70e>:8: RuntimeWarning: Limited 1 annotation(s) that were expanding outside the data range.\n",
      "  raw = mne.io.read_raw_eeglab('sub-0' + str(10000 + i) + j + '.set')\n",
      "<ipython-input-3-eddedfb9c70e>:8: RuntimeWarning: The data contains 'boundary' events, indicating data discontinuities. Be cautious of filtering and epoching around these events.\n",
      "  raw = mne.io.read_raw_eeglab('sub-0' + str(10000 + i) + j + '.set')\n"
     ]
    },
    {
     "name": "stdout",
     "output_type": "stream",
     "text": [
      "100% [..........................................................................] 1210920 / 1210920Reading sub-010255_EC.fdt\n"
     ]
    },
    {
     "name": "stderr",
     "output_type": "stream",
     "text": [
      "<ipython-input-3-eddedfb9c70e>:8: RuntimeWarning: Limited 1 annotation(s) that were expanding outside the data range.\n",
      "  raw = mne.io.read_raw_eeglab('sub-0' + str(10000 + i) + j + '.set')\n",
      "<ipython-input-3-eddedfb9c70e>:8: RuntimeWarning: The data contains 'boundary' events, indicating data discontinuities. Be cautious of filtering and epoching around these events.\n",
      "  raw = mne.io.read_raw_eeglab('sub-0' + str(10000 + i) + j + '.set')\n"
     ]
    },
    {
     "name": "stdout",
     "output_type": "stream",
     "text": [
      "100% [..........................................................................] 1173832 / 1173832Reading sub-010255_EO.fdt\n"
     ]
    },
    {
     "name": "stderr",
     "output_type": "stream",
     "text": [
      "<ipython-input-3-eddedfb9c70e>:8: RuntimeWarning: Limited 1 annotation(s) that were expanding outside the data range.\n",
      "  raw = mne.io.read_raw_eeglab('sub-0' + str(10000 + i) + j + '.set')\n",
      "<ipython-input-3-eddedfb9c70e>:8: RuntimeWarning: The data contains 'boundary' events, indicating data discontinuities. Be cautious of filtering and epoching around these events.\n",
      "  raw = mne.io.read_raw_eeglab('sub-0' + str(10000 + i) + j + '.set')\n"
     ]
    },
    {
     "name": "stdout",
     "output_type": "stream",
     "text": [
      "100% [............................................................................] 743544 / 743544Reading sub-010256_EC.fdt\n"
     ]
    },
    {
     "name": "stderr",
     "output_type": "stream",
     "text": [
      "<ipython-input-3-eddedfb9c70e>:8: RuntimeWarning: Limited 1 annotation(s) that were expanding outside the data range.\n",
      "  raw = mne.io.read_raw_eeglab('sub-0' + str(10000 + i) + j + '.set')\n",
      "<ipython-input-3-eddedfb9c70e>:8: RuntimeWarning: The data contains 'boundary' events, indicating data discontinuities. Be cautious of filtering and epoching around these events.\n",
      "  raw = mne.io.read_raw_eeglab('sub-0' + str(10000 + i) + j + '.set')\n"
     ]
    },
    {
     "name": "stdout",
     "output_type": "stream",
     "text": [
      "100% [..........................................................................] 1201552 / 1201552Reading sub-010256_EO.fdt\n"
     ]
    },
    {
     "name": "stderr",
     "output_type": "stream",
     "text": [
      "<ipython-input-3-eddedfb9c70e>:8: RuntimeWarning: Limited 1 annotation(s) that were expanding outside the data range.\n",
      "  raw = mne.io.read_raw_eeglab('sub-0' + str(10000 + i) + j + '.set')\n",
      "<ipython-input-3-eddedfb9c70e>:8: RuntimeWarning: The data contains 'boundary' events, indicating data discontinuities. Be cautious of filtering and epoching around these events.\n",
      "  raw = mne.io.read_raw_eeglab('sub-0' + str(10000 + i) + j + '.set')\n"
     ]
    },
    {
     "name": "stdout",
     "output_type": "stream",
     "text": [
      "100% [..........................................................................] 1192968 / 1192968Reading sub-010257_EC.fdt\n"
     ]
    },
    {
     "name": "stderr",
     "output_type": "stream",
     "text": [
      "<ipython-input-3-eddedfb9c70e>:8: RuntimeWarning: Limited 1 annotation(s) that were expanding outside the data range.\n",
      "  raw = mne.io.read_raw_eeglab('sub-0' + str(10000 + i) + j + '.set')\n",
      "<ipython-input-3-eddedfb9c70e>:8: RuntimeWarning: The data contains 'boundary' events, indicating data discontinuities. Be cautious of filtering and epoching around these events.\n",
      "  raw = mne.io.read_raw_eeglab('sub-0' + str(10000 + i) + j + '.set')\n"
     ]
    },
    {
     "name": "stdout",
     "output_type": "stream",
     "text": [
      "100% [..........................................................................] 1145664 / 1145664Reading sub-010257_EO.fdt\n"
     ]
    },
    {
     "name": "stderr",
     "output_type": "stream",
     "text": [
      "<ipython-input-3-eddedfb9c70e>:8: RuntimeWarning: Limited 1 annotation(s) that were expanding outside the data range.\n",
      "  raw = mne.io.read_raw_eeglab('sub-0' + str(10000 + i) + j + '.set')\n",
      "<ipython-input-3-eddedfb9c70e>:8: RuntimeWarning: The data contains 'boundary' events, indicating data discontinuities. Be cautious of filtering and epoching around these events.\n",
      "  raw = mne.io.read_raw_eeglab('sub-0' + str(10000 + i) + j + '.set')\n"
     ]
    },
    {
     "name": "stdout",
     "output_type": "stream",
     "text": [
      "100% [..........................................................................] 1184904 / 1184904Reading sub-010258_EC.fdt\n"
     ]
    },
    {
     "name": "stderr",
     "output_type": "stream",
     "text": [
      "<ipython-input-3-eddedfb9c70e>:8: RuntimeWarning: Limited 1 annotation(s) that were expanding outside the data range.\n",
      "  raw = mne.io.read_raw_eeglab('sub-0' + str(10000 + i) + j + '.set')\n",
      "<ipython-input-3-eddedfb9c70e>:8: RuntimeWarning: The data contains 'boundary' events, indicating data discontinuities. Be cautious of filtering and epoching around these events.\n",
      "  raw = mne.io.read_raw_eeglab('sub-0' + str(10000 + i) + j + '.set')\n"
     ]
    },
    {
     "name": "stdout",
     "output_type": "stream",
     "text": [
      "100% [..........................................................................] 1157712 / 1157712Reading sub-010258_EO.fdt\n"
     ]
    },
    {
     "name": "stderr",
     "output_type": "stream",
     "text": [
      "<ipython-input-3-eddedfb9c70e>:8: RuntimeWarning: Limited 1 annotation(s) that were expanding outside the data range.\n",
      "  raw = mne.io.read_raw_eeglab('sub-0' + str(10000 + i) + j + '.set')\n",
      "<ipython-input-3-eddedfb9c70e>:8: RuntimeWarning: The data contains 'boundary' events, indicating data discontinuities. Be cautious of filtering and epoching around these events.\n",
      "  raw = mne.io.read_raw_eeglab('sub-0' + str(10000 + i) + j + '.set')\n"
     ]
    },
    {
     "name": "stdout",
     "output_type": "stream",
     "text": [
      "100% [..........................................................................] 1194648 / 1194648Reading sub-010260_EC.fdt\n"
     ]
    },
    {
     "name": "stderr",
     "output_type": "stream",
     "text": [
      "<ipython-input-3-eddedfb9c70e>:8: RuntimeWarning: Limited 1 annotation(s) that were expanding outside the data range.\n",
      "  raw = mne.io.read_raw_eeglab('sub-0' + str(10000 + i) + j + '.set')\n",
      "<ipython-input-3-eddedfb9c70e>:8: RuntimeWarning: The data contains 'boundary' events, indicating data discontinuities. Be cautious of filtering and epoching around these events.\n",
      "  raw = mne.io.read_raw_eeglab('sub-0' + str(10000 + i) + j + '.set')\n"
     ]
    },
    {
     "name": "stdout",
     "output_type": "stream",
     "text": [
      "100% [..........................................................................] 1176104 / 1176104Reading sub-010260_EO.fdt\n"
     ]
    },
    {
     "name": "stderr",
     "output_type": "stream",
     "text": [
      "<ipython-input-3-eddedfb9c70e>:8: RuntimeWarning: Limited 1 annotation(s) that were expanding outside the data range.\n",
      "  raw = mne.io.read_raw_eeglab('sub-0' + str(10000 + i) + j + '.set')\n",
      "<ipython-input-3-eddedfb9c70e>:8: RuntimeWarning: The data contains 'boundary' events, indicating data discontinuities. Be cautious of filtering and epoching around these events.\n",
      "  raw = mne.io.read_raw_eeglab('sub-0' + str(10000 + i) + j + '.set')\n"
     ]
    },
    {
     "name": "stdout",
     "output_type": "stream",
     "text": [
      "100% [..........................................................................] 1180248 / 1180248Reading sub-010261_EC.fdt\n"
     ]
    },
    {
     "name": "stderr",
     "output_type": "stream",
     "text": [
      "<ipython-input-3-eddedfb9c70e>:8: RuntimeWarning: Limited 1 annotation(s) that were expanding outside the data range.\n",
      "  raw = mne.io.read_raw_eeglab('sub-0' + str(10000 + i) + j + '.set')\n",
      "<ipython-input-3-eddedfb9c70e>:8: RuntimeWarning: The data contains 'boundary' events, indicating data discontinuities. Be cautious of filtering and epoching around these events.\n",
      "  raw = mne.io.read_raw_eeglab('sub-0' + str(10000 + i) + j + '.set')\n"
     ]
    },
    {
     "name": "stdout",
     "output_type": "stream",
     "text": [
      "100% [..........................................................................] 1195008 / 1195008Reading sub-010261_EO.fdt\n"
     ]
    },
    {
     "name": "stderr",
     "output_type": "stream",
     "text": [
      "<ipython-input-3-eddedfb9c70e>:8: RuntimeWarning: Limited 1 annotation(s) that were expanding outside the data range.\n",
      "  raw = mne.io.read_raw_eeglab('sub-0' + str(10000 + i) + j + '.set')\n",
      "<ipython-input-3-eddedfb9c70e>:8: RuntimeWarning: The data contains 'boundary' events, indicating data discontinuities. Be cautious of filtering and epoching around these events.\n",
      "  raw = mne.io.read_raw_eeglab('sub-0' + str(10000 + i) + j + '.set')\n"
     ]
    },
    {
     "name": "stdout",
     "output_type": "stream",
     "text": [
      "100% [..........................................................................] 1182568 / 1182568Reading sub-010262_EC.fdt\n"
     ]
    },
    {
     "name": "stderr",
     "output_type": "stream",
     "text": [
      "<ipython-input-3-eddedfb9c70e>:8: RuntimeWarning: Limited 1 annotation(s) that were expanding outside the data range.\n",
      "  raw = mne.io.read_raw_eeglab('sub-0' + str(10000 + i) + j + '.set')\n",
      "<ipython-input-3-eddedfb9c70e>:8: RuntimeWarning: The data contains 'boundary' events, indicating data discontinuities. Be cautious of filtering and epoching around these events.\n",
      "  raw = mne.io.read_raw_eeglab('sub-0' + str(10000 + i) + j + '.set')\n"
     ]
    },
    {
     "name": "stdout",
     "output_type": "stream",
     "text": [
      "100% [..........................................................................] 1151912 / 1151912Reading sub-010262_EO.fdt\n"
     ]
    },
    {
     "name": "stderr",
     "output_type": "stream",
     "text": [
      "<ipython-input-3-eddedfb9c70e>:8: RuntimeWarning: Limited 1 annotation(s) that were expanding outside the data range.\n",
      "  raw = mne.io.read_raw_eeglab('sub-0' + str(10000 + i) + j + '.set')\n",
      "<ipython-input-3-eddedfb9c70e>:8: RuntimeWarning: The data contains 'boundary' events, indicating data discontinuities. Be cautious of filtering and epoching around these events.\n",
      "  raw = mne.io.read_raw_eeglab('sub-0' + str(10000 + i) + j + '.set')\n"
     ]
    },
    {
     "name": "stdout",
     "output_type": "stream",
     "text": [
      "100% [..........................................................................] 1161800 / 1161800Reading sub-010263_EC.fdt\n"
     ]
    },
    {
     "name": "stderr",
     "output_type": "stream",
     "text": [
      "<ipython-input-3-eddedfb9c70e>:8: RuntimeWarning: Limited 1 annotation(s) that were expanding outside the data range.\n",
      "  raw = mne.io.read_raw_eeglab('sub-0' + str(10000 + i) + j + '.set')\n",
      "<ipython-input-3-eddedfb9c70e>:8: RuntimeWarning: The data contains 'boundary' events, indicating data discontinuities. Be cautious of filtering and epoching around these events.\n",
      "  raw = mne.io.read_raw_eeglab('sub-0' + str(10000 + i) + j + '.set')\n"
     ]
    },
    {
     "name": "stdout",
     "output_type": "stream",
     "text": [
      "100% [..........................................................................] 1150264 / 1150264Reading sub-010263_EO.fdt\n"
     ]
    },
    {
     "name": "stderr",
     "output_type": "stream",
     "text": [
      "<ipython-input-3-eddedfb9c70e>:8: RuntimeWarning: Limited 1 annotation(s) that were expanding outside the data range.\n",
      "  raw = mne.io.read_raw_eeglab('sub-0' + str(10000 + i) + j + '.set')\n",
      "<ipython-input-3-eddedfb9c70e>:8: RuntimeWarning: The data contains 'boundary' events, indicating data discontinuities. Be cautious of filtering and epoching around these events.\n",
      "  raw = mne.io.read_raw_eeglab('sub-0' + str(10000 + i) + j + '.set')\n"
     ]
    },
    {
     "name": "stdout",
     "output_type": "stream",
     "text": [
      "100% [............................................................................] 722504 / 722504Reading sub-010264_EC.fdt\n"
     ]
    },
    {
     "name": "stderr",
     "output_type": "stream",
     "text": [
      "<ipython-input-3-eddedfb9c70e>:8: RuntimeWarning: Limited 1 annotation(s) that were expanding outside the data range.\n",
      "  raw = mne.io.read_raw_eeglab('sub-0' + str(10000 + i) + j + '.set')\n",
      "<ipython-input-3-eddedfb9c70e>:8: RuntimeWarning: The data contains 'boundary' events, indicating data discontinuities. Be cautious of filtering and epoching around these events.\n",
      "  raw = mne.io.read_raw_eeglab('sub-0' + str(10000 + i) + j + '.set')\n"
     ]
    },
    {
     "name": "stdout",
     "output_type": "stream",
     "text": [
      "100% [..........................................................................] 1130392 / 1130392Reading sub-010264_EO.fdt\n"
     ]
    },
    {
     "name": "stderr",
     "output_type": "stream",
     "text": [
      "<ipython-input-3-eddedfb9c70e>:8: RuntimeWarning: Limited 1 annotation(s) that were expanding outside the data range.\n",
      "  raw = mne.io.read_raw_eeglab('sub-0' + str(10000 + i) + j + '.set')\n",
      "<ipython-input-3-eddedfb9c70e>:8: RuntimeWarning: The data contains 'boundary' events, indicating data discontinuities. Be cautious of filtering and epoching around these events.\n",
      "  raw = mne.io.read_raw_eeglab('sub-0' + str(10000 + i) + j + '.set')\n"
     ]
    },
    {
     "name": "stdout",
     "output_type": "stream",
     "text": [
      "100% [..........................................................................] 1204096 / 1204096Reading sub-010265_EC.fdt\n"
     ]
    },
    {
     "name": "stderr",
     "output_type": "stream",
     "text": [
      "<ipython-input-3-eddedfb9c70e>:8: RuntimeWarning: Limited 1 annotation(s) that were expanding outside the data range.\n",
      "  raw = mne.io.read_raw_eeglab('sub-0' + str(10000 + i) + j + '.set')\n",
      "<ipython-input-3-eddedfb9c70e>:8: RuntimeWarning: The data contains 'boundary' events, indicating data discontinuities. Be cautious of filtering and epoching around these events.\n",
      "  raw = mne.io.read_raw_eeglab('sub-0' + str(10000 + i) + j + '.set')\n"
     ]
    },
    {
     "name": "stdout",
     "output_type": "stream",
     "text": [
      "100% [..........................................................................] 1201600 / 1201600Reading sub-010265_EO.fdt\n"
     ]
    },
    {
     "name": "stderr",
     "output_type": "stream",
     "text": [
      "<ipython-input-3-eddedfb9c70e>:8: RuntimeWarning: Limited 1 annotation(s) that were expanding outside the data range.\n",
      "  raw = mne.io.read_raw_eeglab('sub-0' + str(10000 + i) + j + '.set')\n",
      "<ipython-input-3-eddedfb9c70e>:8: RuntimeWarning: The data contains 'boundary' events, indicating data discontinuities. Be cautious of filtering and epoching around these events.\n",
      "  raw = mne.io.read_raw_eeglab('sub-0' + str(10000 + i) + j + '.set')\n"
     ]
    },
    {
     "name": "stdout",
     "output_type": "stream",
     "text": [
      "100% [..........................................................................] 1186976 / 1186976Reading sub-010266_EC.fdt\n"
     ]
    },
    {
     "name": "stderr",
     "output_type": "stream",
     "text": [
      "<ipython-input-3-eddedfb9c70e>:8: RuntimeWarning: Limited 1 annotation(s) that were expanding outside the data range.\n",
      "  raw = mne.io.read_raw_eeglab('sub-0' + str(10000 + i) + j + '.set')\n",
      "<ipython-input-3-eddedfb9c70e>:8: RuntimeWarning: The data contains 'boundary' events, indicating data discontinuities. Be cautious of filtering and epoching around these events.\n",
      "  raw = mne.io.read_raw_eeglab('sub-0' + str(10000 + i) + j + '.set')\n"
     ]
    },
    {
     "name": "stdout",
     "output_type": "stream",
     "text": [
      "100% [..........................................................................] 1195488 / 1195488Reading sub-010266_EO.fdt\n"
     ]
    },
    {
     "name": "stderr",
     "output_type": "stream",
     "text": [
      "<ipython-input-3-eddedfb9c70e>:8: RuntimeWarning: Limited 1 annotation(s) that were expanding outside the data range.\n",
      "  raw = mne.io.read_raw_eeglab('sub-0' + str(10000 + i) + j + '.set')\n",
      "<ipython-input-3-eddedfb9c70e>:8: RuntimeWarning: The data contains 'boundary' events, indicating data discontinuities. Be cautious of filtering and epoching around these events.\n",
      "  raw = mne.io.read_raw_eeglab('sub-0' + str(10000 + i) + j + '.set')\n"
     ]
    },
    {
     "name": "stdout",
     "output_type": "stream",
     "text": [
      "100% [..........................................................................] 1195304 / 1195304Reading sub-010267_EC.fdt\n"
     ]
    },
    {
     "name": "stderr",
     "output_type": "stream",
     "text": [
      "<ipython-input-3-eddedfb9c70e>:8: RuntimeWarning: Limited 1 annotation(s) that were expanding outside the data range.\n",
      "  raw = mne.io.read_raw_eeglab('sub-0' + str(10000 + i) + j + '.set')\n",
      "<ipython-input-3-eddedfb9c70e>:8: RuntimeWarning: The data contains 'boundary' events, indicating data discontinuities. Be cautious of filtering and epoching around these events.\n",
      "  raw = mne.io.read_raw_eeglab('sub-0' + str(10000 + i) + j + '.set')\n"
     ]
    },
    {
     "name": "stdout",
     "output_type": "stream",
     "text": [
      "100% [..........................................................................] 1170344 / 1170344Reading sub-010267_EO.fdt\n"
     ]
    },
    {
     "name": "stderr",
     "output_type": "stream",
     "text": [
      "<ipython-input-3-eddedfb9c70e>:8: RuntimeWarning: Limited 1 annotation(s) that were expanding outside the data range.\n",
      "  raw = mne.io.read_raw_eeglab('sub-0' + str(10000 + i) + j + '.set')\n",
      "<ipython-input-3-eddedfb9c70e>:8: RuntimeWarning: The data contains 'boundary' events, indicating data discontinuities. Be cautious of filtering and epoching around these events.\n",
      "  raw = mne.io.read_raw_eeglab('sub-0' + str(10000 + i) + j + '.set')\n"
     ]
    },
    {
     "name": "stdout",
     "output_type": "stream",
     "text": [
      "100% [..........................................................................] 1191168 / 1191168Reading sub-010268_EC.fdt\n"
     ]
    },
    {
     "name": "stderr",
     "output_type": "stream",
     "text": [
      "<ipython-input-3-eddedfb9c70e>:8: RuntimeWarning: Limited 1 annotation(s) that were expanding outside the data range.\n",
      "  raw = mne.io.read_raw_eeglab('sub-0' + str(10000 + i) + j + '.set')\n",
      "<ipython-input-3-eddedfb9c70e>:8: RuntimeWarning: The data contains 'boundary' events, indicating data discontinuities. Be cautious of filtering and epoching around these events.\n",
      "  raw = mne.io.read_raw_eeglab('sub-0' + str(10000 + i) + j + '.set')\n"
     ]
    },
    {
     "name": "stdout",
     "output_type": "stream",
     "text": [
      "100% [..........................................................................] 1175272 / 1175272Reading sub-010268_EO.fdt\n"
     ]
    },
    {
     "name": "stderr",
     "output_type": "stream",
     "text": [
      "<ipython-input-3-eddedfb9c70e>:8: RuntimeWarning: Limited 1 annotation(s) that were expanding outside the data range.\n",
      "  raw = mne.io.read_raw_eeglab('sub-0' + str(10000 + i) + j + '.set')\n",
      "<ipython-input-3-eddedfb9c70e>:8: RuntimeWarning: The data contains 'boundary' events, indicating data discontinuities. Be cautious of filtering and epoching around these events.\n",
      "  raw = mne.io.read_raw_eeglab('sub-0' + str(10000 + i) + j + '.set')\n"
     ]
    },
    {
     "name": "stdout",
     "output_type": "stream",
     "text": [
      "100% [............................................................................] 720600 / 720600Reading sub-010269_EC.fdt\n"
     ]
    },
    {
     "name": "stderr",
     "output_type": "stream",
     "text": [
      "<ipython-input-3-eddedfb9c70e>:8: RuntimeWarning: Limited 1 annotation(s) that were expanding outside the data range.\n",
      "  raw = mne.io.read_raw_eeglab('sub-0' + str(10000 + i) + j + '.set')\n",
      "<ipython-input-3-eddedfb9c70e>:8: RuntimeWarning: The data contains 'boundary' events, indicating data discontinuities. Be cautious of filtering and epoching around these events.\n",
      "  raw = mne.io.read_raw_eeglab('sub-0' + str(10000 + i) + j + '.set')\n"
     ]
    },
    {
     "name": "stdout",
     "output_type": "stream",
     "text": [
      "100% [............................................................................] 720512 / 720512Reading sub-010269_EO.fdt\n"
     ]
    },
    {
     "name": "stderr",
     "output_type": "stream",
     "text": [
      "<ipython-input-3-eddedfb9c70e>:8: RuntimeWarning: Limited 1 annotation(s) that were expanding outside the data range.\n",
      "  raw = mne.io.read_raw_eeglab('sub-0' + str(10000 + i) + j + '.set')\n",
      "<ipython-input-3-eddedfb9c70e>:8: RuntimeWarning: The data contains 'boundary' events, indicating data discontinuities. Be cautious of filtering and epoching around these events.\n",
      "  raw = mne.io.read_raw_eeglab('sub-0' + str(10000 + i) + j + '.set')\n"
     ]
    },
    {
     "name": "stdout",
     "output_type": "stream",
     "text": [
      "100% [..........................................................................] 1196464 / 1196464Reading sub-010270_EC.fdt\n"
     ]
    },
    {
     "name": "stderr",
     "output_type": "stream",
     "text": [
      "<ipython-input-3-eddedfb9c70e>:8: RuntimeWarning: Limited 1 annotation(s) that were expanding outside the data range.\n",
      "  raw = mne.io.read_raw_eeglab('sub-0' + str(10000 + i) + j + '.set')\n",
      "<ipython-input-3-eddedfb9c70e>:8: RuntimeWarning: The data contains 'boundary' events, indicating data discontinuities. Be cautious of filtering and epoching around these events.\n",
      "  raw = mne.io.read_raw_eeglab('sub-0' + str(10000 + i) + j + '.set')\n"
     ]
    },
    {
     "name": "stdout",
     "output_type": "stream",
     "text": [
      "100% [..........................................................................] 1194760 / 1194760Reading sub-010270_EO.fdt\n"
     ]
    },
    {
     "name": "stderr",
     "output_type": "stream",
     "text": [
      "<ipython-input-3-eddedfb9c70e>:8: RuntimeWarning: Limited 1 annotation(s) that were expanding outside the data range.\n",
      "  raw = mne.io.read_raw_eeglab('sub-0' + str(10000 + i) + j + '.set')\n",
      "<ipython-input-3-eddedfb9c70e>:8: RuntimeWarning: The data contains 'boundary' events, indicating data discontinuities. Be cautious of filtering and epoching around these events.\n",
      "  raw = mne.io.read_raw_eeglab('sub-0' + str(10000 + i) + j + '.set')\n"
     ]
    },
    {
     "name": "stdout",
     "output_type": "stream",
     "text": [
      "100% [..........................................................................] 1190056 / 1190056Reading sub-010271_EC.fdt\n"
     ]
    },
    {
     "name": "stderr",
     "output_type": "stream",
     "text": [
      "<ipython-input-3-eddedfb9c70e>:8: RuntimeWarning: Limited 1 annotation(s) that were expanding outside the data range.\n",
      "  raw = mne.io.read_raw_eeglab('sub-0' + str(10000 + i) + j + '.set')\n",
      "<ipython-input-3-eddedfb9c70e>:8: RuntimeWarning: The data contains 'boundary' events, indicating data discontinuities. Be cautious of filtering and epoching around these events.\n",
      "  raw = mne.io.read_raw_eeglab('sub-0' + str(10000 + i) + j + '.set')\n"
     ]
    },
    {
     "name": "stdout",
     "output_type": "stream",
     "text": [
      "100% [..........................................................................] 1168632 / 1168632Reading sub-010271_EO.fdt\n"
     ]
    },
    {
     "name": "stderr",
     "output_type": "stream",
     "text": [
      "<ipython-input-3-eddedfb9c70e>:8: RuntimeWarning: Limited 1 annotation(s) that were expanding outside the data range.\n",
      "  raw = mne.io.read_raw_eeglab('sub-0' + str(10000 + i) + j + '.set')\n",
      "<ipython-input-3-eddedfb9c70e>:8: RuntimeWarning: The data contains 'boundary' events, indicating data discontinuities. Be cautious of filtering and epoching around these events.\n",
      "  raw = mne.io.read_raw_eeglab('sub-0' + str(10000 + i) + j + '.set')\n"
     ]
    },
    {
     "name": "stdout",
     "output_type": "stream",
     "text": [
      "100% [..........................................................................] 1162640 / 1162640Reading sub-010272_EC.fdt\n"
     ]
    },
    {
     "name": "stderr",
     "output_type": "stream",
     "text": [
      "<ipython-input-3-eddedfb9c70e>:8: RuntimeWarning: Limited 1 annotation(s) that were expanding outside the data range.\n",
      "  raw = mne.io.read_raw_eeglab('sub-0' + str(10000 + i) + j + '.set')\n",
      "<ipython-input-3-eddedfb9c70e>:8: RuntimeWarning: The data contains 'boundary' events, indicating data discontinuities. Be cautious of filtering and epoching around these events.\n",
      "  raw = mne.io.read_raw_eeglab('sub-0' + str(10000 + i) + j + '.set')\n"
     ]
    },
    {
     "name": "stdout",
     "output_type": "stream",
     "text": [
      "100% [..........................................................................] 1127952 / 1127952Reading sub-010272_EO.fdt\n"
     ]
    },
    {
     "name": "stderr",
     "output_type": "stream",
     "text": [
      "<ipython-input-3-eddedfb9c70e>:8: RuntimeWarning: Limited 1 annotation(s) that were expanding outside the data range.\n",
      "  raw = mne.io.read_raw_eeglab('sub-0' + str(10000 + i) + j + '.set')\n",
      "<ipython-input-3-eddedfb9c70e>:8: RuntimeWarning: The data contains 'boundary' events, indicating data discontinuities. Be cautious of filtering and epoching around these events.\n",
      "  raw = mne.io.read_raw_eeglab('sub-0' + str(10000 + i) + j + '.set')\n"
     ]
    },
    {
     "name": "stdout",
     "output_type": "stream",
     "text": [
      "100% [..........................................................................] 1194560 / 1194560Reading sub-010273_EC.fdt\n"
     ]
    },
    {
     "name": "stderr",
     "output_type": "stream",
     "text": [
      "<ipython-input-3-eddedfb9c70e>:8: RuntimeWarning: Limited 1 annotation(s) that were expanding outside the data range.\n",
      "  raw = mne.io.read_raw_eeglab('sub-0' + str(10000 + i) + j + '.set')\n",
      "<ipython-input-3-eddedfb9c70e>:8: RuntimeWarning: The data contains 'boundary' events, indicating data discontinuities. Be cautious of filtering and epoching around these events.\n",
      "  raw = mne.io.read_raw_eeglab('sub-0' + str(10000 + i) + j + '.set')\n"
     ]
    },
    {
     "name": "stdout",
     "output_type": "stream",
     "text": [
      "100% [..........................................................................] 1172992 / 1172992Reading sub-010273_EO.fdt\n"
     ]
    },
    {
     "name": "stderr",
     "output_type": "stream",
     "text": [
      "<ipython-input-3-eddedfb9c70e>:8: RuntimeWarning: Limited 1 annotation(s) that were expanding outside the data range.\n",
      "  raw = mne.io.read_raw_eeglab('sub-0' + str(10000 + i) + j + '.set')\n",
      "<ipython-input-3-eddedfb9c70e>:8: RuntimeWarning: The data contains 'boundary' events, indicating data discontinuities. Be cautious of filtering and epoching around these events.\n",
      "  raw = mne.io.read_raw_eeglab('sub-0' + str(10000 + i) + j + '.set')\n"
     ]
    },
    {
     "name": "stdout",
     "output_type": "stream",
     "text": [
      "100% [..........................................................................] 1191408 / 1191408Reading sub-010274_EC.fdt\n"
     ]
    },
    {
     "name": "stderr",
     "output_type": "stream",
     "text": [
      "<ipython-input-3-eddedfb9c70e>:8: RuntimeWarning: Limited 1 annotation(s) that were expanding outside the data range.\n",
      "  raw = mne.io.read_raw_eeglab('sub-0' + str(10000 + i) + j + '.set')\n",
      "<ipython-input-3-eddedfb9c70e>:8: RuntimeWarning: The data contains 'boundary' events, indicating data discontinuities. Be cautious of filtering and epoching around these events.\n",
      "  raw = mne.io.read_raw_eeglab('sub-0' + str(10000 + i) + j + '.set')\n"
     ]
    },
    {
     "name": "stdout",
     "output_type": "stream",
     "text": [
      "100% [..........................................................................] 1167168 / 1167168Reading sub-010274_EO.fdt\n"
     ]
    },
    {
     "name": "stderr",
     "output_type": "stream",
     "text": [
      "<ipython-input-3-eddedfb9c70e>:8: RuntimeWarning: Limited 1 annotation(s) that were expanding outside the data range.\n",
      "  raw = mne.io.read_raw_eeglab('sub-0' + str(10000 + i) + j + '.set')\n",
      "<ipython-input-3-eddedfb9c70e>:8: RuntimeWarning: The data contains 'boundary' events, indicating data discontinuities. Be cautious of filtering and epoching around these events.\n",
      "  raw = mne.io.read_raw_eeglab('sub-0' + str(10000 + i) + j + '.set')\n"
     ]
    },
    {
     "name": "stdout",
     "output_type": "stream",
     "text": [
      "100% [..........................................................................] 1212248 / 1212248Reading sub-010275_EC.fdt\n"
     ]
    },
    {
     "name": "stderr",
     "output_type": "stream",
     "text": [
      "<ipython-input-3-eddedfb9c70e>:8: RuntimeWarning: Limited 1 annotation(s) that were expanding outside the data range.\n",
      "  raw = mne.io.read_raw_eeglab('sub-0' + str(10000 + i) + j + '.set')\n",
      "<ipython-input-3-eddedfb9c70e>:8: RuntimeWarning: The data contains 'boundary' events, indicating data discontinuities. Be cautious of filtering and epoching around these events.\n",
      "  raw = mne.io.read_raw_eeglab('sub-0' + str(10000 + i) + j + '.set')\n"
     ]
    },
    {
     "name": "stdout",
     "output_type": "stream",
     "text": [
      "100% [..........................................................................] 1192928 / 1192928Reading sub-010275_EO.fdt\n"
     ]
    },
    {
     "name": "stderr",
     "output_type": "stream",
     "text": [
      "<ipython-input-3-eddedfb9c70e>:8: RuntimeWarning: Limited 1 annotation(s) that were expanding outside the data range.\n",
      "  raw = mne.io.read_raw_eeglab('sub-0' + str(10000 + i) + j + '.set')\n",
      "<ipython-input-3-eddedfb9c70e>:8: RuntimeWarning: The data contains 'boundary' events, indicating data discontinuities. Be cautious of filtering and epoching around these events.\n",
      "  raw = mne.io.read_raw_eeglab('sub-0' + str(10000 + i) + j + '.set')\n"
     ]
    },
    {
     "name": "stdout",
     "output_type": "stream",
     "text": [
      "100% [............................................................................] 640328 / 640328Reading sub-010276_EC.fdt\n"
     ]
    },
    {
     "name": "stderr",
     "output_type": "stream",
     "text": [
      "<ipython-input-3-eddedfb9c70e>:8: RuntimeWarning: Limited 1 annotation(s) that were expanding outside the data range.\n",
      "  raw = mne.io.read_raw_eeglab('sub-0' + str(10000 + i) + j + '.set')\n",
      "<ipython-input-3-eddedfb9c70e>:8: RuntimeWarning: The data contains 'boundary' events, indicating data discontinuities. Be cautious of filtering and epoching around these events.\n",
      "  raw = mne.io.read_raw_eeglab('sub-0' + str(10000 + i) + j + '.set')\n"
     ]
    },
    {
     "name": "stdout",
     "output_type": "stream",
     "text": [
      "100% [............................................................................] 602104 / 602104Reading sub-010276_EO.fdt\n"
     ]
    },
    {
     "name": "stderr",
     "output_type": "stream",
     "text": [
      "<ipython-input-3-eddedfb9c70e>:8: RuntimeWarning: Limited 1 annotation(s) that were expanding outside the data range.\n",
      "  raw = mne.io.read_raw_eeglab('sub-0' + str(10000 + i) + j + '.set')\n",
      "<ipython-input-3-eddedfb9c70e>:8: RuntimeWarning: The data contains 'boundary' events, indicating data discontinuities. Be cautious of filtering and epoching around these events.\n",
      "  raw = mne.io.read_raw_eeglab('sub-0' + str(10000 + i) + j + '.set')\n"
     ]
    },
    {
     "name": "stdout",
     "output_type": "stream",
     "text": [
      "100% [............................................................................] 647136 / 647136Reading sub-010277_EC.fdt\n"
     ]
    },
    {
     "name": "stderr",
     "output_type": "stream",
     "text": [
      "<ipython-input-3-eddedfb9c70e>:8: RuntimeWarning: Limited 1 annotation(s) that were expanding outside the data range.\n",
      "  raw = mne.io.read_raw_eeglab('sub-0' + str(10000 + i) + j + '.set')\n",
      "<ipython-input-3-eddedfb9c70e>:8: RuntimeWarning: The data contains 'boundary' events, indicating data discontinuities. Be cautious of filtering and epoching around these events.\n",
      "  raw = mne.io.read_raw_eeglab('sub-0' + str(10000 + i) + j + '.set')\n"
     ]
    },
    {
     "name": "stdout",
     "output_type": "stream",
     "text": [
      "100% [............................................................................] 633552 / 633552Reading sub-010277_EO.fdt\n"
     ]
    },
    {
     "name": "stderr",
     "output_type": "stream",
     "text": [
      "<ipython-input-3-eddedfb9c70e>:8: RuntimeWarning: Limited 1 annotation(s) that were expanding outside the data range.\n",
      "  raw = mne.io.read_raw_eeglab('sub-0' + str(10000 + i) + j + '.set')\n",
      "<ipython-input-3-eddedfb9c70e>:8: RuntimeWarning: The data contains 'boundary' events, indicating data discontinuities. Be cautious of filtering and epoching around these events.\n",
      "  raw = mne.io.read_raw_eeglab('sub-0' + str(10000 + i) + j + '.set')\n"
     ]
    },
    {
     "name": "stdout",
     "output_type": "stream",
     "text": [
      "100% [..........................................................................] 1191936 / 1191936Reading sub-010283_EC.fdt\n"
     ]
    },
    {
     "name": "stderr",
     "output_type": "stream",
     "text": [
      "<ipython-input-3-eddedfb9c70e>:8: RuntimeWarning: Limited 1 annotation(s) that were expanding outside the data range.\n",
      "  raw = mne.io.read_raw_eeglab('sub-0' + str(10000 + i) + j + '.set')\n",
      "<ipython-input-3-eddedfb9c70e>:8: RuntimeWarning: The data contains 'boundary' events, indicating data discontinuities. Be cautious of filtering and epoching around these events.\n",
      "  raw = mne.io.read_raw_eeglab('sub-0' + str(10000 + i) + j + '.set')\n"
     ]
    },
    {
     "name": "stdout",
     "output_type": "stream",
     "text": [
      "100% [..........................................................................] 1140864 / 1140864Reading sub-010283_EO.fdt\n"
     ]
    },
    {
     "name": "stderr",
     "output_type": "stream",
     "text": [
      "<ipython-input-3-eddedfb9c70e>:8: RuntimeWarning: Limited 1 annotation(s) that were expanding outside the data range.\n",
      "  raw = mne.io.read_raw_eeglab('sub-0' + str(10000 + i) + j + '.set')\n",
      "<ipython-input-3-eddedfb9c70e>:8: RuntimeWarning: The data contains 'boundary' events, indicating data discontinuities. Be cautious of filtering and epoching around these events.\n",
      "  raw = mne.io.read_raw_eeglab('sub-0' + str(10000 + i) + j + '.set')\n"
     ]
    },
    {
     "name": "stdout",
     "output_type": "stream",
     "text": [
      "100% [..........................................................................] 1187816 / 1187816Reading sub-010284_EC.fdt\n"
     ]
    },
    {
     "name": "stderr",
     "output_type": "stream",
     "text": [
      "<ipython-input-3-eddedfb9c70e>:8: RuntimeWarning: Limited 1 annotation(s) that were expanding outside the data range.\n",
      "  raw = mne.io.read_raw_eeglab('sub-0' + str(10000 + i) + j + '.set')\n",
      "<ipython-input-3-eddedfb9c70e>:8: RuntimeWarning: The data contains 'boundary' events, indicating data discontinuities. Be cautious of filtering and epoching around these events.\n",
      "  raw = mne.io.read_raw_eeglab('sub-0' + str(10000 + i) + j + '.set')\n"
     ]
    },
    {
     "name": "stdout",
     "output_type": "stream",
     "text": [
      "100% [..........................................................................] 1185136 / 1185136Reading sub-010284_EO.fdt\n"
     ]
    },
    {
     "name": "stderr",
     "output_type": "stream",
     "text": [
      "<ipython-input-3-eddedfb9c70e>:8: RuntimeWarning: Limited 1 annotation(s) that were expanding outside the data range.\n",
      "  raw = mne.io.read_raw_eeglab('sub-0' + str(10000 + i) + j + '.set')\n",
      "<ipython-input-3-eddedfb9c70e>:8: RuntimeWarning: The data contains 'boundary' events, indicating data discontinuities. Be cautious of filtering and epoching around these events.\n",
      "  raw = mne.io.read_raw_eeglab('sub-0' + str(10000 + i) + j + '.set')\n"
     ]
    },
    {
     "name": "stdout",
     "output_type": "stream",
     "text": [
      "100% [..........................................................................] 1187576 / 1187576Reading sub-010286_EC.fdt\n"
     ]
    },
    {
     "name": "stderr",
     "output_type": "stream",
     "text": [
      "<ipython-input-3-eddedfb9c70e>:8: RuntimeWarning: Limited 1 annotation(s) that were expanding outside the data range.\n",
      "  raw = mne.io.read_raw_eeglab('sub-0' + str(10000 + i) + j + '.set')\n",
      "<ipython-input-3-eddedfb9c70e>:8: RuntimeWarning: The data contains 'boundary' events, indicating data discontinuities. Be cautious of filtering and epoching around these events.\n",
      "  raw = mne.io.read_raw_eeglab('sub-0' + str(10000 + i) + j + '.set')\n"
     ]
    },
    {
     "name": "stdout",
     "output_type": "stream",
     "text": [
      "100% [..........................................................................] 1167984 / 1167984Reading sub-010286_EO.fdt\n"
     ]
    },
    {
     "name": "stderr",
     "output_type": "stream",
     "text": [
      "<ipython-input-3-eddedfb9c70e>:8: RuntimeWarning: Limited 1 annotation(s) that were expanding outside the data range.\n",
      "  raw = mne.io.read_raw_eeglab('sub-0' + str(10000 + i) + j + '.set')\n",
      "<ipython-input-3-eddedfb9c70e>:8: RuntimeWarning: The data contains 'boundary' events, indicating data discontinuities. Be cautious of filtering and epoching around these events.\n",
      "  raw = mne.io.read_raw_eeglab('sub-0' + str(10000 + i) + j + '.set')\n"
     ]
    },
    {
     "name": "stdout",
     "output_type": "stream",
     "text": [
      "100% [..........................................................................] 1193536 / 1193536Reading sub-010287_EC.fdt\n"
     ]
    },
    {
     "name": "stderr",
     "output_type": "stream",
     "text": [
      "<ipython-input-3-eddedfb9c70e>:8: RuntimeWarning: Limited 1 annotation(s) that were expanding outside the data range.\n",
      "  raw = mne.io.read_raw_eeglab('sub-0' + str(10000 + i) + j + '.set')\n",
      "<ipython-input-3-eddedfb9c70e>:8: RuntimeWarning: The data contains 'boundary' events, indicating data discontinuities. Be cautious of filtering and epoching around these events.\n",
      "  raw = mne.io.read_raw_eeglab('sub-0' + str(10000 + i) + j + '.set')\n"
     ]
    },
    {
     "name": "stdout",
     "output_type": "stream",
     "text": [
      "100% [..........................................................................] 1181048 / 1181048Reading sub-010287_EO.fdt\n"
     ]
    },
    {
     "name": "stderr",
     "output_type": "stream",
     "text": [
      "<ipython-input-3-eddedfb9c70e>:8: RuntimeWarning: Limited 1 annotation(s) that were expanding outside the data range.\n",
      "  raw = mne.io.read_raw_eeglab('sub-0' + str(10000 + i) + j + '.set')\n",
      "<ipython-input-3-eddedfb9c70e>:8: RuntimeWarning: The data contains 'boundary' events, indicating data discontinuities. Be cautious of filtering and epoching around these events.\n",
      "  raw = mne.io.read_raw_eeglab('sub-0' + str(10000 + i) + j + '.set')\n"
     ]
    },
    {
     "name": "stdout",
     "output_type": "stream",
     "text": [
      "100% [..........................................................................] 1167512 / 1167512Reading sub-010288_EC.fdt\n"
     ]
    },
    {
     "name": "stderr",
     "output_type": "stream",
     "text": [
      "<ipython-input-3-eddedfb9c70e>:8: RuntimeWarning: Limited 1 annotation(s) that were expanding outside the data range.\n",
      "  raw = mne.io.read_raw_eeglab('sub-0' + str(10000 + i) + j + '.set')\n",
      "<ipython-input-3-eddedfb9c70e>:8: RuntimeWarning: The data contains 'boundary' events, indicating data discontinuities. Be cautious of filtering and epoching around these events.\n",
      "  raw = mne.io.read_raw_eeglab('sub-0' + str(10000 + i) + j + '.set')\n"
     ]
    },
    {
     "name": "stdout",
     "output_type": "stream",
     "text": [
      "100% [..........................................................................] 1145784 / 1145784Reading sub-010288_EO.fdt\n"
     ]
    },
    {
     "name": "stderr",
     "output_type": "stream",
     "text": [
      "<ipython-input-3-eddedfb9c70e>:8: RuntimeWarning: Limited 1 annotation(s) that were expanding outside the data range.\n",
      "  raw = mne.io.read_raw_eeglab('sub-0' + str(10000 + i) + j + '.set')\n",
      "<ipython-input-3-eddedfb9c70e>:8: RuntimeWarning: The data contains 'boundary' events, indicating data discontinuities. Be cautious of filtering and epoching around these events.\n",
      "  raw = mne.io.read_raw_eeglab('sub-0' + str(10000 + i) + j + '.set')\n"
     ]
    },
    {
     "name": "stdout",
     "output_type": "stream",
     "text": [
      "100% [............................................................................] 721256 / 721256Reading sub-010289_EC.fdt\n"
     ]
    },
    {
     "name": "stderr",
     "output_type": "stream",
     "text": [
      "<ipython-input-3-eddedfb9c70e>:8: RuntimeWarning: Limited 1 annotation(s) that were expanding outside the data range.\n",
      "  raw = mne.io.read_raw_eeglab('sub-0' + str(10000 + i) + j + '.set')\n",
      "<ipython-input-3-eddedfb9c70e>:8: RuntimeWarning: The data contains 'boundary' events, indicating data discontinuities. Be cautious of filtering and epoching around these events.\n",
      "  raw = mne.io.read_raw_eeglab('sub-0' + str(10000 + i) + j + '.set')\n"
     ]
    },
    {
     "name": "stdout",
     "output_type": "stream",
     "text": [
      "100% [..........................................................................] 1162568 / 1162568Reading sub-010289_EO.fdt\n"
     ]
    },
    {
     "name": "stderr",
     "output_type": "stream",
     "text": [
      "<ipython-input-3-eddedfb9c70e>:8: RuntimeWarning: Limited 1 annotation(s) that were expanding outside the data range.\n",
      "  raw = mne.io.read_raw_eeglab('sub-0' + str(10000 + i) + j + '.set')\n",
      "<ipython-input-3-eddedfb9c70e>:8: RuntimeWarning: The data contains 'boundary' events, indicating data discontinuities. Be cautious of filtering and epoching around these events.\n",
      "  raw = mne.io.read_raw_eeglab('sub-0' + str(10000 + i) + j + '.set')\n"
     ]
    },
    {
     "name": "stdout",
     "output_type": "stream",
     "text": [
      "100% [..........................................................................] 1193792 / 1193792Reading sub-010290_EC.fdt\n"
     ]
    },
    {
     "name": "stderr",
     "output_type": "stream",
     "text": [
      "<ipython-input-3-eddedfb9c70e>:8: RuntimeWarning: Limited 1 annotation(s) that were expanding outside the data range.\n",
      "  raw = mne.io.read_raw_eeglab('sub-0' + str(10000 + i) + j + '.set')\n",
      "<ipython-input-3-eddedfb9c70e>:8: RuntimeWarning: The data contains 'boundary' events, indicating data discontinuities. Be cautious of filtering and epoching around these events.\n",
      "  raw = mne.io.read_raw_eeglab('sub-0' + str(10000 + i) + j + '.set')\n"
     ]
    },
    {
     "name": "stdout",
     "output_type": "stream",
     "text": [
      "100% [..........................................................................] 1183144 / 1183144Reading sub-010290_EO.fdt\n"
     ]
    },
    {
     "name": "stderr",
     "output_type": "stream",
     "text": [
      "<ipython-input-3-eddedfb9c70e>:8: RuntimeWarning: Limited 1 annotation(s) that were expanding outside the data range.\n",
      "  raw = mne.io.read_raw_eeglab('sub-0' + str(10000 + i) + j + '.set')\n",
      "<ipython-input-3-eddedfb9c70e>:8: RuntimeWarning: The data contains 'boundary' events, indicating data discontinuities. Be cautious of filtering and epoching around these events.\n",
      "  raw = mne.io.read_raw_eeglab('sub-0' + str(10000 + i) + j + '.set')\n"
     ]
    },
    {
     "name": "stdout",
     "output_type": "stream",
     "text": [
      "100% [..........................................................................] 1185000 / 1185000Reading sub-010291_EC.fdt\n"
     ]
    },
    {
     "name": "stderr",
     "output_type": "stream",
     "text": [
      "<ipython-input-3-eddedfb9c70e>:8: RuntimeWarning: Limited 1 annotation(s) that were expanding outside the data range.\n",
      "  raw = mne.io.read_raw_eeglab('sub-0' + str(10000 + i) + j + '.set')\n",
      "<ipython-input-3-eddedfb9c70e>:8: RuntimeWarning: The data contains 'boundary' events, indicating data discontinuities. Be cautious of filtering and epoching around these events.\n",
      "  raw = mne.io.read_raw_eeglab('sub-0' + str(10000 + i) + j + '.set')\n"
     ]
    },
    {
     "name": "stdout",
     "output_type": "stream",
     "text": [
      "100% [..........................................................................] 1180664 / 1180664Reading sub-010291_EO.fdt\n"
     ]
    },
    {
     "name": "stderr",
     "output_type": "stream",
     "text": [
      "<ipython-input-3-eddedfb9c70e>:8: RuntimeWarning: Limited 1 annotation(s) that were expanding outside the data range.\n",
      "  raw = mne.io.read_raw_eeglab('sub-0' + str(10000 + i) + j + '.set')\n",
      "<ipython-input-3-eddedfb9c70e>:8: RuntimeWarning: The data contains 'boundary' events, indicating data discontinuities. Be cautious of filtering and epoching around these events.\n",
      "  raw = mne.io.read_raw_eeglab('sub-0' + str(10000 + i) + j + '.set')\n"
     ]
    },
    {
     "name": "stdout",
     "output_type": "stream",
     "text": [
      "100% [..........................................................................] 1196888 / 1196888Reading sub-010292_EC.fdt\n"
     ]
    },
    {
     "name": "stderr",
     "output_type": "stream",
     "text": [
      "<ipython-input-3-eddedfb9c70e>:8: RuntimeWarning: Limited 1 annotation(s) that were expanding outside the data range.\n",
      "  raw = mne.io.read_raw_eeglab('sub-0' + str(10000 + i) + j + '.set')\n",
      "<ipython-input-3-eddedfb9c70e>:8: RuntimeWarning: The data contains 'boundary' events, indicating data discontinuities. Be cautious of filtering and epoching around these events.\n",
      "  raw = mne.io.read_raw_eeglab('sub-0' + str(10000 + i) + j + '.set')\n"
     ]
    },
    {
     "name": "stdout",
     "output_type": "stream",
     "text": [
      "100% [..........................................................................] 1201608 / 1201608Reading sub-010292_EO.fdt\n"
     ]
    },
    {
     "name": "stderr",
     "output_type": "stream",
     "text": [
      "<ipython-input-3-eddedfb9c70e>:8: RuntimeWarning: Limited 1 annotation(s) that were expanding outside the data range.\n",
      "  raw = mne.io.read_raw_eeglab('sub-0' + str(10000 + i) + j + '.set')\n",
      "<ipython-input-3-eddedfb9c70e>:8: RuntimeWarning: The data contains 'boundary' events, indicating data discontinuities. Be cautious of filtering and epoching around these events.\n",
      "  raw = mne.io.read_raw_eeglab('sub-0' + str(10000 + i) + j + '.set')\n"
     ]
    },
    {
     "name": "stdout",
     "output_type": "stream",
     "text": [
      "100% [............................................................................] 722984 / 722984Reading sub-010294_EC.fdt\n"
     ]
    },
    {
     "name": "stderr",
     "output_type": "stream",
     "text": [
      "<ipython-input-3-eddedfb9c70e>:8: RuntimeWarning: Limited 1 annotation(s) that were expanding outside the data range.\n",
      "  raw = mne.io.read_raw_eeglab('sub-0' + str(10000 + i) + j + '.set')\n",
      "<ipython-input-3-eddedfb9c70e>:8: RuntimeWarning: The data contains 'boundary' events, indicating data discontinuities. Be cautious of filtering and epoching around these events.\n",
      "  raw = mne.io.read_raw_eeglab('sub-0' + str(10000 + i) + j + '.set')\n"
     ]
    },
    {
     "name": "stdout",
     "output_type": "stream",
     "text": [
      "100% [..........................................................................] 1118800 / 1118800Reading sub-010294_EO.fdt\n"
     ]
    },
    {
     "name": "stderr",
     "output_type": "stream",
     "text": [
      "<ipython-input-3-eddedfb9c70e>:8: RuntimeWarning: Limited 1 annotation(s) that were expanding outside the data range.\n",
      "  raw = mne.io.read_raw_eeglab('sub-0' + str(10000 + i) + j + '.set')\n",
      "<ipython-input-3-eddedfb9c70e>:8: RuntimeWarning: The data contains 'boundary' events, indicating data discontinuities. Be cautious of filtering and epoching around these events.\n",
      "  raw = mne.io.read_raw_eeglab('sub-0' + str(10000 + i) + j + '.set')\n"
     ]
    },
    {
     "name": "stdout",
     "output_type": "stream",
     "text": [
      "100% [............................................................................] 724880 / 724880Reading sub-010295_EC.fdt\n"
     ]
    },
    {
     "name": "stderr",
     "output_type": "stream",
     "text": [
      "<ipython-input-3-eddedfb9c70e>:8: RuntimeWarning: Limited 1 annotation(s) that were expanding outside the data range.\n",
      "  raw = mne.io.read_raw_eeglab('sub-0' + str(10000 + i) + j + '.set')\n",
      "<ipython-input-3-eddedfb9c70e>:8: RuntimeWarning: The data contains 'boundary' events, indicating data discontinuities. Be cautious of filtering and epoching around these events.\n",
      "  raw = mne.io.read_raw_eeglab('sub-0' + str(10000 + i) + j + '.set')\n"
     ]
    },
    {
     "name": "stdout",
     "output_type": "stream",
     "text": [
      "100% [............................................................................] 724184 / 724184Reading sub-010295_EO.fdt\n"
     ]
    },
    {
     "name": "stderr",
     "output_type": "stream",
     "text": [
      "<ipython-input-3-eddedfb9c70e>:8: RuntimeWarning: Limited 1 annotation(s) that were expanding outside the data range.\n",
      "  raw = mne.io.read_raw_eeglab('sub-0' + str(10000 + i) + j + '.set')\n",
      "<ipython-input-3-eddedfb9c70e>:8: RuntimeWarning: The data contains 'boundary' events, indicating data discontinuities. Be cautious of filtering and epoching around these events.\n",
      "  raw = mne.io.read_raw_eeglab('sub-0' + str(10000 + i) + j + '.set')\n"
     ]
    },
    {
     "name": "stdout",
     "output_type": "stream",
     "text": [
      "100% [............................................................................] 722272 / 722272Reading sub-010296_EC.fdt\n"
     ]
    },
    {
     "name": "stderr",
     "output_type": "stream",
     "text": [
      "<ipython-input-3-eddedfb9c70e>:8: RuntimeWarning: Limited 1 annotation(s) that were expanding outside the data range.\n",
      "  raw = mne.io.read_raw_eeglab('sub-0' + str(10000 + i) + j + '.set')\n",
      "<ipython-input-3-eddedfb9c70e>:8: RuntimeWarning: The data contains 'boundary' events, indicating data discontinuities. Be cautious of filtering and epoching around these events.\n",
      "  raw = mne.io.read_raw_eeglab('sub-0' + str(10000 + i) + j + '.set')\n"
     ]
    },
    {
     "name": "stdout",
     "output_type": "stream",
     "text": [
      "100% [..........................................................................] 1190120 / 1190120Reading sub-010296_EO.fdt\n"
     ]
    },
    {
     "name": "stderr",
     "output_type": "stream",
     "text": [
      "<ipython-input-3-eddedfb9c70e>:8: RuntimeWarning: Limited 1 annotation(s) that were expanding outside the data range.\n",
      "  raw = mne.io.read_raw_eeglab('sub-0' + str(10000 + i) + j + '.set')\n",
      "<ipython-input-3-eddedfb9c70e>:8: RuntimeWarning: The data contains 'boundary' events, indicating data discontinuities. Be cautious of filtering and epoching around these events.\n",
      "  raw = mne.io.read_raw_eeglab('sub-0' + str(10000 + i) + j + '.set')\n"
     ]
    },
    {
     "name": "stdout",
     "output_type": "stream",
     "text": [
      "100% [............................................................................] 723392 / 723392Reading sub-010297_EC.fdt\n"
     ]
    },
    {
     "name": "stderr",
     "output_type": "stream",
     "text": [
      "<ipython-input-3-eddedfb9c70e>:8: RuntimeWarning: Limited 1 annotation(s) that were expanding outside the data range.\n",
      "  raw = mne.io.read_raw_eeglab('sub-0' + str(10000 + i) + j + '.set')\n",
      "<ipython-input-3-eddedfb9c70e>:8: RuntimeWarning: The data contains 'boundary' events, indicating data discontinuities. Be cautious of filtering and epoching around these events.\n",
      "  raw = mne.io.read_raw_eeglab('sub-0' + str(10000 + i) + j + '.set')\n"
     ]
    },
    {
     "name": "stdout",
     "output_type": "stream",
     "text": [
      "100% [............................................................................] 725184 / 725184Reading sub-010297_EO.fdt\n"
     ]
    },
    {
     "name": "stderr",
     "output_type": "stream",
     "text": [
      "<ipython-input-3-eddedfb9c70e>:8: RuntimeWarning: Limited 1 annotation(s) that were expanding outside the data range.\n",
      "  raw = mne.io.read_raw_eeglab('sub-0' + str(10000 + i) + j + '.set')\n",
      "<ipython-input-3-eddedfb9c70e>:8: RuntimeWarning: The data contains 'boundary' events, indicating data discontinuities. Be cautious of filtering and epoching around these events.\n",
      "  raw = mne.io.read_raw_eeglab('sub-0' + str(10000 + i) + j + '.set')\n"
     ]
    },
    {
     "name": "stdout",
     "output_type": "stream",
     "text": [
      "100% [..........................................................................] 1185392 / 1185392Reading sub-010298_EC.fdt\n"
     ]
    },
    {
     "name": "stderr",
     "output_type": "stream",
     "text": [
      "<ipython-input-3-eddedfb9c70e>:8: RuntimeWarning: Limited 1 annotation(s) that were expanding outside the data range.\n",
      "  raw = mne.io.read_raw_eeglab('sub-0' + str(10000 + i) + j + '.set')\n",
      "<ipython-input-3-eddedfb9c70e>:8: RuntimeWarning: The data contains 'boundary' events, indicating data discontinuities. Be cautious of filtering and epoching around these events.\n",
      "  raw = mne.io.read_raw_eeglab('sub-0' + str(10000 + i) + j + '.set')\n"
     ]
    },
    {
     "name": "stdout",
     "output_type": "stream",
     "text": [
      "100% [..........................................................................] 1170736 / 1170736Reading sub-010298_EO.fdt\n"
     ]
    },
    {
     "name": "stderr",
     "output_type": "stream",
     "text": [
      "<ipython-input-3-eddedfb9c70e>:8: RuntimeWarning: Limited 1 annotation(s) that were expanding outside the data range.\n",
      "  raw = mne.io.read_raw_eeglab('sub-0' + str(10000 + i) + j + '.set')\n",
      "<ipython-input-3-eddedfb9c70e>:8: RuntimeWarning: The data contains 'boundary' events, indicating data discontinuities. Be cautious of filtering and epoching around these events.\n",
      "  raw = mne.io.read_raw_eeglab('sub-0' + str(10000 + i) + j + '.set')\n"
     ]
    },
    {
     "name": "stdout",
     "output_type": "stream",
     "text": [
      "100% [..........................................................................] 1193512 / 1193512Reading sub-010299_EC.fdt\n"
     ]
    },
    {
     "name": "stderr",
     "output_type": "stream",
     "text": [
      "<ipython-input-3-eddedfb9c70e>:8: RuntimeWarning: Limited 1 annotation(s) that were expanding outside the data range.\n",
      "  raw = mne.io.read_raw_eeglab('sub-0' + str(10000 + i) + j + '.set')\n",
      "<ipython-input-3-eddedfb9c70e>:8: RuntimeWarning: The data contains 'boundary' events, indicating data discontinuities. Be cautious of filtering and epoching around these events.\n",
      "  raw = mne.io.read_raw_eeglab('sub-0' + str(10000 + i) + j + '.set')\n"
     ]
    },
    {
     "name": "stdout",
     "output_type": "stream",
     "text": [
      "100% [..........................................................................] 1189040 / 1189040Reading sub-010299_EO.fdt\n"
     ]
    },
    {
     "name": "stderr",
     "output_type": "stream",
     "text": [
      "<ipython-input-3-eddedfb9c70e>:8: RuntimeWarning: Limited 1 annotation(s) that were expanding outside the data range.\n",
      "  raw = mne.io.read_raw_eeglab('sub-0' + str(10000 + i) + j + '.set')\n",
      "<ipython-input-3-eddedfb9c70e>:8: RuntimeWarning: The data contains 'boundary' events, indicating data discontinuities. Be cautious of filtering and epoching around these events.\n",
      "  raw = mne.io.read_raw_eeglab('sub-0' + str(10000 + i) + j + '.set')\n"
     ]
    },
    {
     "name": "stdout",
     "output_type": "stream",
     "text": [
      "100% [..........................................................................] 1183152 / 1183152Reading sub-010300_EC.fdt\n"
     ]
    },
    {
     "name": "stderr",
     "output_type": "stream",
     "text": [
      "<ipython-input-3-eddedfb9c70e>:8: RuntimeWarning: Limited 1 annotation(s) that were expanding outside the data range.\n",
      "  raw = mne.io.read_raw_eeglab('sub-0' + str(10000 + i) + j + '.set')\n",
      "<ipython-input-3-eddedfb9c70e>:8: RuntimeWarning: The data contains 'boundary' events, indicating data discontinuities. Be cautious of filtering and epoching around these events.\n",
      "  raw = mne.io.read_raw_eeglab('sub-0' + str(10000 + i) + j + '.set')\n"
     ]
    },
    {
     "name": "stdout",
     "output_type": "stream",
     "text": [
      "100% [..........................................................................] 1182184 / 1182184Reading sub-010300_EO.fdt\n"
     ]
    },
    {
     "name": "stderr",
     "output_type": "stream",
     "text": [
      "<ipython-input-3-eddedfb9c70e>:8: RuntimeWarning: Limited 1 annotation(s) that were expanding outside the data range.\n",
      "  raw = mne.io.read_raw_eeglab('sub-0' + str(10000 + i) + j + '.set')\n",
      "<ipython-input-3-eddedfb9c70e>:8: RuntimeWarning: The data contains 'boundary' events, indicating data discontinuities. Be cautious of filtering and epoching around these events.\n",
      "  raw = mne.io.read_raw_eeglab('sub-0' + str(10000 + i) + j + '.set')\n"
     ]
    },
    {
     "name": "stdout",
     "output_type": "stream",
     "text": [
      "100% [............................................................................] 744688 / 744688Reading sub-010301_EC.fdt\n"
     ]
    },
    {
     "name": "stderr",
     "output_type": "stream",
     "text": [
      "<ipython-input-3-eddedfb9c70e>:8: RuntimeWarning: Limited 1 annotation(s) that were expanding outside the data range.\n",
      "  raw = mne.io.read_raw_eeglab('sub-0' + str(10000 + i) + j + '.set')\n",
      "<ipython-input-3-eddedfb9c70e>:8: RuntimeWarning: The data contains 'boundary' events, indicating data discontinuities. Be cautious of filtering and epoching around these events.\n",
      "  raw = mne.io.read_raw_eeglab('sub-0' + str(10000 + i) + j + '.set')\n"
     ]
    },
    {
     "name": "stdout",
     "output_type": "stream",
     "text": [
      "100% [..........................................................................] 1200760 / 1200760Reading sub-010301_EO.fdt\n"
     ]
    },
    {
     "name": "stderr",
     "output_type": "stream",
     "text": [
      "<ipython-input-3-eddedfb9c70e>:8: RuntimeWarning: Limited 1 annotation(s) that were expanding outside the data range.\n",
      "  raw = mne.io.read_raw_eeglab('sub-0' + str(10000 + i) + j + '.set')\n",
      "<ipython-input-3-eddedfb9c70e>:8: RuntimeWarning: The data contains 'boundary' events, indicating data discontinuities. Be cautious of filtering and epoching around these events.\n",
      "  raw = mne.io.read_raw_eeglab('sub-0' + str(10000 + i) + j + '.set')\n"
     ]
    },
    {
     "name": "stdout",
     "output_type": "stream",
     "text": [
      "100% [..........................................................................] 1058128 / 1058128Reading sub-010302_EC.fdt\n"
     ]
    },
    {
     "name": "stderr",
     "output_type": "stream",
     "text": [
      "<ipython-input-3-eddedfb9c70e>:8: RuntimeWarning: Limited 2 annotation(s) that were expanding outside the data range.\n",
      "  raw = mne.io.read_raw_eeglab('sub-0' + str(10000 + i) + j + '.set')\n",
      "<ipython-input-3-eddedfb9c70e>:8: RuntimeWarning: The data contains 'boundary' events, indicating data discontinuities. Be cautious of filtering and epoching around these events.\n",
      "  raw = mne.io.read_raw_eeglab('sub-0' + str(10000 + i) + j + '.set')\n"
     ]
    },
    {
     "name": "stdout",
     "output_type": "stream",
     "text": [
      "100% [..........................................................................] 1035432 / 1035432Reading sub-010302_EO.fdt\n"
     ]
    },
    {
     "name": "stderr",
     "output_type": "stream",
     "text": [
      "<ipython-input-3-eddedfb9c70e>:8: RuntimeWarning: Limited 1 annotation(s) that were expanding outside the data range.\n",
      "  raw = mne.io.read_raw_eeglab('sub-0' + str(10000 + i) + j + '.set')\n",
      "<ipython-input-3-eddedfb9c70e>:8: RuntimeWarning: The data contains 'boundary' events, indicating data discontinuities. Be cautious of filtering and epoching around these events.\n",
      "  raw = mne.io.read_raw_eeglab('sub-0' + str(10000 + i) + j + '.set')\n"
     ]
    },
    {
     "name": "stdout",
     "output_type": "stream",
     "text": [
      "100% [..........................................................................] 1196536 / 1196536Reading sub-010303_EC.fdt\n"
     ]
    },
    {
     "name": "stderr",
     "output_type": "stream",
     "text": [
      "<ipython-input-3-eddedfb9c70e>:8: RuntimeWarning: Limited 1 annotation(s) that were expanding outside the data range.\n",
      "  raw = mne.io.read_raw_eeglab('sub-0' + str(10000 + i) + j + '.set')\n",
      "<ipython-input-3-eddedfb9c70e>:8: RuntimeWarning: The data contains 'boundary' events, indicating data discontinuities. Be cautious of filtering and epoching around these events.\n",
      "  raw = mne.io.read_raw_eeglab('sub-0' + str(10000 + i) + j + '.set')\n"
     ]
    },
    {
     "name": "stdout",
     "output_type": "stream",
     "text": [
      "100% [..........................................................................] 1179496 / 1179496Reading sub-010303_EO.fdt\n"
     ]
    },
    {
     "name": "stderr",
     "output_type": "stream",
     "text": [
      "<ipython-input-3-eddedfb9c70e>:8: RuntimeWarning: Limited 1 annotation(s) that were expanding outside the data range.\n",
      "  raw = mne.io.read_raw_eeglab('sub-0' + str(10000 + i) + j + '.set')\n",
      "<ipython-input-3-eddedfb9c70e>:8: RuntimeWarning: The data contains 'boundary' events, indicating data discontinuities. Be cautious of filtering and epoching around these events.\n",
      "  raw = mne.io.read_raw_eeglab('sub-0' + str(10000 + i) + j + '.set')\n"
     ]
    },
    {
     "name": "stdout",
     "output_type": "stream",
     "text": [
      "100% [..........................................................................] 1189256 / 1189256Reading sub-010304_EC.fdt\n"
     ]
    },
    {
     "name": "stderr",
     "output_type": "stream",
     "text": [
      "<ipython-input-3-eddedfb9c70e>:8: RuntimeWarning: Limited 1 annotation(s) that were expanding outside the data range.\n",
      "  raw = mne.io.read_raw_eeglab('sub-0' + str(10000 + i) + j + '.set')\n",
      "<ipython-input-3-eddedfb9c70e>:8: RuntimeWarning: The data contains 'boundary' events, indicating data discontinuities. Be cautious of filtering and epoching around these events.\n",
      "  raw = mne.io.read_raw_eeglab('sub-0' + str(10000 + i) + j + '.set')\n"
     ]
    },
    {
     "name": "stdout",
     "output_type": "stream",
     "text": [
      "100% [..........................................................................] 1196712 / 1196712Reading sub-010304_EO.fdt\n"
     ]
    },
    {
     "name": "stderr",
     "output_type": "stream",
     "text": [
      "<ipython-input-3-eddedfb9c70e>:8: RuntimeWarning: Limited 1 annotation(s) that were expanding outside the data range.\n",
      "  raw = mne.io.read_raw_eeglab('sub-0' + str(10000 + i) + j + '.set')\n",
      "<ipython-input-3-eddedfb9c70e>:8: RuntimeWarning: The data contains 'boundary' events, indicating data discontinuities. Be cautious of filtering and epoching around these events.\n",
      "  raw = mne.io.read_raw_eeglab('sub-0' + str(10000 + i) + j + '.set')\n"
     ]
    },
    {
     "name": "stdout",
     "output_type": "stream",
     "text": [
      "100% [..........................................................................] 1201208 / 1201208Reading sub-010305_EC.fdt\n"
     ]
    },
    {
     "name": "stderr",
     "output_type": "stream",
     "text": [
      "<ipython-input-3-eddedfb9c70e>:8: RuntimeWarning: Limited 1 annotation(s) that were expanding outside the data range.\n",
      "  raw = mne.io.read_raw_eeglab('sub-0' + str(10000 + i) + j + '.set')\n",
      "<ipython-input-3-eddedfb9c70e>:8: RuntimeWarning: The data contains 'boundary' events, indicating data discontinuities. Be cautious of filtering and epoching around these events.\n",
      "  raw = mne.io.read_raw_eeglab('sub-0' + str(10000 + i) + j + '.set')\n"
     ]
    },
    {
     "name": "stdout",
     "output_type": "stream",
     "text": [
      "100% [..........................................................................] 1190840 / 1190840Reading sub-010305_EO.fdt\n"
     ]
    },
    {
     "name": "stderr",
     "output_type": "stream",
     "text": [
      "<ipython-input-3-eddedfb9c70e>:8: RuntimeWarning: Limited 1 annotation(s) that were expanding outside the data range.\n",
      "  raw = mne.io.read_raw_eeglab('sub-0' + str(10000 + i) + j + '.set')\n",
      "<ipython-input-3-eddedfb9c70e>:8: RuntimeWarning: The data contains 'boundary' events, indicating data discontinuities. Be cautious of filtering and epoching around these events.\n",
      "  raw = mne.io.read_raw_eeglab('sub-0' + str(10000 + i) + j + '.set')\n"
     ]
    },
    {
     "name": "stdout",
     "output_type": "stream",
     "text": [
      "100% [..........................................................................] 1194512 / 1194512Reading sub-010306_EC.fdt\n"
     ]
    },
    {
     "name": "stderr",
     "output_type": "stream",
     "text": [
      "<ipython-input-3-eddedfb9c70e>:8: RuntimeWarning: Limited 1 annotation(s) that were expanding outside the data range.\n",
      "  raw = mne.io.read_raw_eeglab('sub-0' + str(10000 + i) + j + '.set')\n",
      "<ipython-input-3-eddedfb9c70e>:8: RuntimeWarning: The data contains 'boundary' events, indicating data discontinuities. Be cautious of filtering and epoching around these events.\n",
      "  raw = mne.io.read_raw_eeglab('sub-0' + str(10000 + i) + j + '.set')\n"
     ]
    },
    {
     "name": "stdout",
     "output_type": "stream",
     "text": [
      "100% [..........................................................................] 1194704 / 1194704Reading sub-010306_EO.fdt\n"
     ]
    },
    {
     "name": "stderr",
     "output_type": "stream",
     "text": [
      "<ipython-input-3-eddedfb9c70e>:8: RuntimeWarning: Limited 1 annotation(s) that were expanding outside the data range.\n",
      "  raw = mne.io.read_raw_eeglab('sub-0' + str(10000 + i) + j + '.set')\n",
      "<ipython-input-3-eddedfb9c70e>:8: RuntimeWarning: The data contains 'boundary' events, indicating data discontinuities. Be cautious of filtering and epoching around these events.\n",
      "  raw = mne.io.read_raw_eeglab('sub-0' + str(10000 + i) + j + '.set')\n"
     ]
    },
    {
     "name": "stdout",
     "output_type": "stream",
     "text": [
      "100% [..........................................................................] 1198072 / 1198072Reading sub-010307_EC.fdt\n"
     ]
    },
    {
     "name": "stderr",
     "output_type": "stream",
     "text": [
      "<ipython-input-3-eddedfb9c70e>:8: RuntimeWarning: Limited 1 annotation(s) that were expanding outside the data range.\n",
      "  raw = mne.io.read_raw_eeglab('sub-0' + str(10000 + i) + j + '.set')\n",
      "<ipython-input-3-eddedfb9c70e>:8: RuntimeWarning: The data contains 'boundary' events, indicating data discontinuities. Be cautious of filtering and epoching around these events.\n",
      "  raw = mne.io.read_raw_eeglab('sub-0' + str(10000 + i) + j + '.set')\n"
     ]
    },
    {
     "name": "stdout",
     "output_type": "stream",
     "text": [
      "100% [..........................................................................] 1197088 / 1197088Reading sub-010307_EO.fdt\n"
     ]
    },
    {
     "name": "stderr",
     "output_type": "stream",
     "text": [
      "<ipython-input-3-eddedfb9c70e>:8: RuntimeWarning: Limited 1 annotation(s) that were expanding outside the data range.\n",
      "  raw = mne.io.read_raw_eeglab('sub-0' + str(10000 + i) + j + '.set')\n",
      "<ipython-input-3-eddedfb9c70e>:8: RuntimeWarning: The data contains 'boundary' events, indicating data discontinuities. Be cautious of filtering and epoching around these events.\n",
      "  raw = mne.io.read_raw_eeglab('sub-0' + str(10000 + i) + j + '.set')\n"
     ]
    },
    {
     "name": "stdout",
     "output_type": "stream",
     "text": [
      "100% [............................................................................] 721576 / 721576Reading sub-010308_EC.fdt\n"
     ]
    },
    {
     "name": "stderr",
     "output_type": "stream",
     "text": [
      "<ipython-input-3-eddedfb9c70e>:8: RuntimeWarning: Limited 1 annotation(s) that were expanding outside the data range.\n",
      "  raw = mne.io.read_raw_eeglab('sub-0' + str(10000 + i) + j + '.set')\n",
      "<ipython-input-3-eddedfb9c70e>:8: RuntimeWarning: The data contains 'boundary' events, indicating data discontinuities. Be cautious of filtering and epoching around these events.\n",
      "  raw = mne.io.read_raw_eeglab('sub-0' + str(10000 + i) + j + '.set')\n"
     ]
    },
    {
     "name": "stdout",
     "output_type": "stream",
     "text": [
      "100% [..........................................................................] 1190040 / 1190040Reading sub-010308_EO.fdt\n"
     ]
    },
    {
     "name": "stderr",
     "output_type": "stream",
     "text": [
      "<ipython-input-3-eddedfb9c70e>:8: RuntimeWarning: Limited 1 annotation(s) that were expanding outside the data range.\n",
      "  raw = mne.io.read_raw_eeglab('sub-0' + str(10000 + i) + j + '.set')\n",
      "<ipython-input-3-eddedfb9c70e>:8: RuntimeWarning: The data contains 'boundary' events, indicating data discontinuities. Be cautious of filtering and epoching around these events.\n",
      "  raw = mne.io.read_raw_eeglab('sub-0' + str(10000 + i) + j + '.set')\n"
     ]
    },
    {
     "name": "stdout",
     "output_type": "stream",
     "text": [
      "100% [............................................................................] 721056 / 721056Reading sub-010309_EC.fdt\n"
     ]
    },
    {
     "name": "stderr",
     "output_type": "stream",
     "text": [
      "<ipython-input-3-eddedfb9c70e>:8: RuntimeWarning: Limited 1 annotation(s) that were expanding outside the data range.\n",
      "  raw = mne.io.read_raw_eeglab('sub-0' + str(10000 + i) + j + '.set')\n",
      "<ipython-input-3-eddedfb9c70e>:8: RuntimeWarning: The data contains 'boundary' events, indicating data discontinuities. Be cautious of filtering and epoching around these events.\n",
      "  raw = mne.io.read_raw_eeglab('sub-0' + str(10000 + i) + j + '.set')\n"
     ]
    },
    {
     "name": "stdout",
     "output_type": "stream",
     "text": [
      "100% [..........................................................................] 1159992 / 1159992Reading sub-010309_EO.fdt\n"
     ]
    },
    {
     "name": "stderr",
     "output_type": "stream",
     "text": [
      "<ipython-input-3-eddedfb9c70e>:8: RuntimeWarning: Limited 1 annotation(s) that were expanding outside the data range.\n",
      "  raw = mne.io.read_raw_eeglab('sub-0' + str(10000 + i) + j + '.set')\n",
      "<ipython-input-3-eddedfb9c70e>:8: RuntimeWarning: The data contains 'boundary' events, indicating data discontinuities. Be cautious of filtering and epoching around these events.\n",
      "  raw = mne.io.read_raw_eeglab('sub-0' + str(10000 + i) + j + '.set')\n"
     ]
    },
    {
     "name": "stdout",
     "output_type": "stream",
     "text": [
      "100% [..........................................................................] 1199240 / 1199240Reading sub-010310_EC.fdt\n"
     ]
    },
    {
     "name": "stderr",
     "output_type": "stream",
     "text": [
      "<ipython-input-3-eddedfb9c70e>:8: RuntimeWarning: Limited 1 annotation(s) that were expanding outside the data range.\n",
      "  raw = mne.io.read_raw_eeglab('sub-0' + str(10000 + i) + j + '.set')\n",
      "<ipython-input-3-eddedfb9c70e>:8: RuntimeWarning: The data contains 'boundary' events, indicating data discontinuities. Be cautious of filtering and epoching around these events.\n",
      "  raw = mne.io.read_raw_eeglab('sub-0' + str(10000 + i) + j + '.set')\n"
     ]
    },
    {
     "name": "stdout",
     "output_type": "stream",
     "text": [
      "100% [..........................................................................] 1191488 / 1191488Reading sub-010310_EO.fdt\n"
     ]
    },
    {
     "name": "stderr",
     "output_type": "stream",
     "text": [
      "<ipython-input-3-eddedfb9c70e>:8: RuntimeWarning: Limited 1 annotation(s) that were expanding outside the data range.\n",
      "  raw = mne.io.read_raw_eeglab('sub-0' + str(10000 + i) + j + '.set')\n",
      "<ipython-input-3-eddedfb9c70e>:8: RuntimeWarning: The data contains 'boundary' events, indicating data discontinuities. Be cautious of filtering and epoching around these events.\n",
      "  raw = mne.io.read_raw_eeglab('sub-0' + str(10000 + i) + j + '.set')\n"
     ]
    },
    {
     "name": "stdout",
     "output_type": "stream",
     "text": [
      "100% [..........................................................................] 1152840 / 1152840Reading sub-010311_EC.fdt\n"
     ]
    },
    {
     "name": "stderr",
     "output_type": "stream",
     "text": [
      "<ipython-input-3-eddedfb9c70e>:8: RuntimeWarning: Limited 1 annotation(s) that were expanding outside the data range.\n",
      "  raw = mne.io.read_raw_eeglab('sub-0' + str(10000 + i) + j + '.set')\n",
      "<ipython-input-3-eddedfb9c70e>:8: RuntimeWarning: The data contains 'boundary' events, indicating data discontinuities. Be cautious of filtering and epoching around these events.\n",
      "  raw = mne.io.read_raw_eeglab('sub-0' + str(10000 + i) + j + '.set')\n"
     ]
    },
    {
     "name": "stdout",
     "output_type": "stream",
     "text": [
      "100% [..........................................................................] 1156056 / 1156056Reading sub-010311_EO.fdt\n"
     ]
    },
    {
     "name": "stderr",
     "output_type": "stream",
     "text": [
      "<ipython-input-3-eddedfb9c70e>:8: RuntimeWarning: Limited 1 annotation(s) that were expanding outside the data range.\n",
      "  raw = mne.io.read_raw_eeglab('sub-0' + str(10000 + i) + j + '.set')\n",
      "<ipython-input-3-eddedfb9c70e>:8: RuntimeWarning: The data contains 'boundary' events, indicating data discontinuities. Be cautious of filtering and epoching around these events.\n",
      "  raw = mne.io.read_raw_eeglab('sub-0' + str(10000 + i) + j + '.set')\n"
     ]
    },
    {
     "name": "stdout",
     "output_type": "stream",
     "text": [
      "100% [..........................................................................] 1196744 / 1196744Reading sub-010314_EC.fdt\n"
     ]
    },
    {
     "name": "stderr",
     "output_type": "stream",
     "text": [
      "<ipython-input-3-eddedfb9c70e>:8: RuntimeWarning: Limited 1 annotation(s) that were expanding outside the data range.\n",
      "  raw = mne.io.read_raw_eeglab('sub-0' + str(10000 + i) + j + '.set')\n",
      "<ipython-input-3-eddedfb9c70e>:8: RuntimeWarning: The data contains 'boundary' events, indicating data discontinuities. Be cautious of filtering and epoching around these events.\n",
      "  raw = mne.io.read_raw_eeglab('sub-0' + str(10000 + i) + j + '.set')\n"
     ]
    },
    {
     "name": "stdout",
     "output_type": "stream",
     "text": [
      "100% [..........................................................................] 1202584 / 1202584Reading sub-010314_EO.fdt\n"
     ]
    },
    {
     "name": "stderr",
     "output_type": "stream",
     "text": [
      "<ipython-input-3-eddedfb9c70e>:8: RuntimeWarning: Limited 1 annotation(s) that were expanding outside the data range.\n",
      "  raw = mne.io.read_raw_eeglab('sub-0' + str(10000 + i) + j + '.set')\n",
      "<ipython-input-3-eddedfb9c70e>:8: RuntimeWarning: The data contains 'boundary' events, indicating data discontinuities. Be cautious of filtering and epoching around these events.\n",
      "  raw = mne.io.read_raw_eeglab('sub-0' + str(10000 + i) + j + '.set')\n"
     ]
    },
    {
     "name": "stdout",
     "output_type": "stream",
     "text": [
      "100% [..........................................................................] 1197672 / 1197672Reading sub-010315_EC.fdt\n"
     ]
    },
    {
     "name": "stderr",
     "output_type": "stream",
     "text": [
      "<ipython-input-3-eddedfb9c70e>:8: RuntimeWarning: Limited 1 annotation(s) that were expanding outside the data range.\n",
      "  raw = mne.io.read_raw_eeglab('sub-0' + str(10000 + i) + j + '.set')\n",
      "<ipython-input-3-eddedfb9c70e>:8: RuntimeWarning: The data contains 'boundary' events, indicating data discontinuities. Be cautious of filtering and epoching around these events.\n",
      "  raw = mne.io.read_raw_eeglab('sub-0' + str(10000 + i) + j + '.set')\n"
     ]
    },
    {
     "name": "stdout",
     "output_type": "stream",
     "text": [
      "100% [..........................................................................] 1189744 / 1189744Reading sub-010315_EO.fdt\n"
     ]
    },
    {
     "name": "stderr",
     "output_type": "stream",
     "text": [
      "<ipython-input-3-eddedfb9c70e>:8: RuntimeWarning: Limited 1 annotation(s) that were expanding outside the data range.\n",
      "  raw = mne.io.read_raw_eeglab('sub-0' + str(10000 + i) + j + '.set')\n",
      "<ipython-input-3-eddedfb9c70e>:8: RuntimeWarning: The data contains 'boundary' events, indicating data discontinuities. Be cautious of filtering and epoching around these events.\n",
      "  raw = mne.io.read_raw_eeglab('sub-0' + str(10000 + i) + j + '.set')\n"
     ]
    },
    {
     "name": "stdout",
     "output_type": "stream",
     "text": [
      "100% [..........................................................................] 1185056 / 1185056Reading sub-010316_EC.fdt\n"
     ]
    },
    {
     "name": "stderr",
     "output_type": "stream",
     "text": [
      "<ipython-input-3-eddedfb9c70e>:8: RuntimeWarning: Limited 1 annotation(s) that were expanding outside the data range.\n",
      "  raw = mne.io.read_raw_eeglab('sub-0' + str(10000 + i) + j + '.set')\n",
      "<ipython-input-3-eddedfb9c70e>:8: RuntimeWarning: The data contains 'boundary' events, indicating data discontinuities. Be cautious of filtering and epoching around these events.\n",
      "  raw = mne.io.read_raw_eeglab('sub-0' + str(10000 + i) + j + '.set')\n"
     ]
    },
    {
     "name": "stdout",
     "output_type": "stream",
     "text": [
      "100% [..........................................................................] 1175016 / 1175016Reading sub-010316_EO.fdt\n"
     ]
    },
    {
     "name": "stderr",
     "output_type": "stream",
     "text": [
      "<ipython-input-3-eddedfb9c70e>:8: RuntimeWarning: Limited 1 annotation(s) that were expanding outside the data range.\n",
      "  raw = mne.io.read_raw_eeglab('sub-0' + str(10000 + i) + j + '.set')\n",
      "<ipython-input-3-eddedfb9c70e>:8: RuntimeWarning: The data contains 'boundary' events, indicating data discontinuities. Be cautious of filtering and epoching around these events.\n",
      "  raw = mne.io.read_raw_eeglab('sub-0' + str(10000 + i) + j + '.set')\n"
     ]
    },
    {
     "name": "stdout",
     "output_type": "stream",
     "text": [
      "100% [..........................................................................] 1199216 / 1199216Reading sub-010317_EC.fdt\n"
     ]
    },
    {
     "name": "stderr",
     "output_type": "stream",
     "text": [
      "<ipython-input-3-eddedfb9c70e>:8: RuntimeWarning: Limited 1 annotation(s) that were expanding outside the data range.\n",
      "  raw = mne.io.read_raw_eeglab('sub-0' + str(10000 + i) + j + '.set')\n",
      "<ipython-input-3-eddedfb9c70e>:8: RuntimeWarning: The data contains 'boundary' events, indicating data discontinuities. Be cautious of filtering and epoching around these events.\n",
      "  raw = mne.io.read_raw_eeglab('sub-0' + str(10000 + i) + j + '.set')\n"
     ]
    },
    {
     "name": "stdout",
     "output_type": "stream",
     "text": [
      "100% [..........................................................................] 1156256 / 1156256Reading sub-010317_EO.fdt\n"
     ]
    },
    {
     "name": "stderr",
     "output_type": "stream",
     "text": [
      "<ipython-input-3-eddedfb9c70e>:8: RuntimeWarning: Limited 1 annotation(s) that were expanding outside the data range.\n",
      "  raw = mne.io.read_raw_eeglab('sub-0' + str(10000 + i) + j + '.set')\n",
      "<ipython-input-3-eddedfb9c70e>:8: RuntimeWarning: The data contains 'boundary' events, indicating data discontinuities. Be cautious of filtering and epoching around these events.\n",
      "  raw = mne.io.read_raw_eeglab('sub-0' + str(10000 + i) + j + '.set')\n"
     ]
    },
    {
     "name": "stdout",
     "output_type": "stream",
     "text": [
      "100% [..........................................................................] 1197072 / 1197072Reading sub-010318_EC.fdt\n"
     ]
    },
    {
     "name": "stderr",
     "output_type": "stream",
     "text": [
      "<ipython-input-3-eddedfb9c70e>:8: RuntimeWarning: Limited 1 annotation(s) that were expanding outside the data range.\n",
      "  raw = mne.io.read_raw_eeglab('sub-0' + str(10000 + i) + j + '.set')\n",
      "<ipython-input-3-eddedfb9c70e>:8: RuntimeWarning: The data contains 'boundary' events, indicating data discontinuities. Be cautious of filtering and epoching around these events.\n",
      "  raw = mne.io.read_raw_eeglab('sub-0' + str(10000 + i) + j + '.set')\n"
     ]
    },
    {
     "name": "stdout",
     "output_type": "stream",
     "text": [
      "100% [..........................................................................] 1190384 / 1190384Reading sub-010318_EO.fdt\n"
     ]
    },
    {
     "name": "stderr",
     "output_type": "stream",
     "text": [
      "<ipython-input-3-eddedfb9c70e>:8: RuntimeWarning: Limited 1 annotation(s) that were expanding outside the data range.\n",
      "  raw = mne.io.read_raw_eeglab('sub-0' + str(10000 + i) + j + '.set')\n",
      "<ipython-input-3-eddedfb9c70e>:8: RuntimeWarning: The data contains 'boundary' events, indicating data discontinuities. Be cautious of filtering and epoching around these events.\n",
      "  raw = mne.io.read_raw_eeglab('sub-0' + str(10000 + i) + j + '.set')\n"
     ]
    },
    {
     "name": "stdout",
     "output_type": "stream",
     "text": [
      "100% [..........................................................................] 1199728 / 1199728Reading sub-010319_EC.fdt\n"
     ]
    },
    {
     "name": "stderr",
     "output_type": "stream",
     "text": [
      "<ipython-input-3-eddedfb9c70e>:8: RuntimeWarning: Limited 1 annotation(s) that were expanding outside the data range.\n",
      "  raw = mne.io.read_raw_eeglab('sub-0' + str(10000 + i) + j + '.set')\n",
      "<ipython-input-3-eddedfb9c70e>:8: RuntimeWarning: The data contains 'boundary' events, indicating data discontinuities. Be cautious of filtering and epoching around these events.\n",
      "  raw = mne.io.read_raw_eeglab('sub-0' + str(10000 + i) + j + '.set')\n"
     ]
    },
    {
     "name": "stdout",
     "output_type": "stream",
     "text": [
      "100% [..........................................................................] 1197952 / 1197952Reading sub-010319_EO.fdt\n"
     ]
    },
    {
     "name": "stderr",
     "output_type": "stream",
     "text": [
      "<ipython-input-3-eddedfb9c70e>:8: RuntimeWarning: Limited 1 annotation(s) that were expanding outside the data range.\n",
      "  raw = mne.io.read_raw_eeglab('sub-0' + str(10000 + i) + j + '.set')\n",
      "<ipython-input-3-eddedfb9c70e>:8: RuntimeWarning: The data contains 'boundary' events, indicating data discontinuities. Be cautious of filtering and epoching around these events.\n",
      "  raw = mne.io.read_raw_eeglab('sub-0' + str(10000 + i) + j + '.set')\n"
     ]
    },
    {
     "name": "stdout",
     "output_type": "stream",
     "text": [
      "100% [..........................................................................] 1207456 / 1207456Reading sub-010321_EC.fdt\n"
     ]
    },
    {
     "name": "stderr",
     "output_type": "stream",
     "text": [
      "<ipython-input-3-eddedfb9c70e>:8: RuntimeWarning: Limited 1 annotation(s) that were expanding outside the data range.\n",
      "  raw = mne.io.read_raw_eeglab('sub-0' + str(10000 + i) + j + '.set')\n",
      "<ipython-input-3-eddedfb9c70e>:8: RuntimeWarning: The data contains 'boundary' events, indicating data discontinuities. Be cautious of filtering and epoching around these events.\n",
      "  raw = mne.io.read_raw_eeglab('sub-0' + str(10000 + i) + j + '.set')\n"
     ]
    },
    {
     "name": "stdout",
     "output_type": "stream",
     "text": [
      "100% [..........................................................................] 1195160 / 1195160Reading sub-010321_EO.fdt\n"
     ]
    },
    {
     "name": "stderr",
     "output_type": "stream",
     "text": [
      "<ipython-input-3-eddedfb9c70e>:8: RuntimeWarning: Limited 1 annotation(s) that were expanding outside the data range.\n",
      "  raw = mne.io.read_raw_eeglab('sub-0' + str(10000 + i) + j + '.set')\n",
      "<ipython-input-3-eddedfb9c70e>:8: RuntimeWarning: The data contains 'boundary' events, indicating data discontinuities. Be cautious of filtering and epoching around these events.\n",
      "  raw = mne.io.read_raw_eeglab('sub-0' + str(10000 + i) + j + '.set')\n"
     ]
    }
   ],
   "source": [
    "for i in range(322):\n",
    "    for j in [\"_EC\", \"_EO\"]:\n",
    "        fileurlfdt = \"https://ftp.gwdg.de/pub/misc/MPI-Leipzig_Mind-Brain-Body-LEMON/EEG_MPILMBB_LEMON/EEG_Preprocessed_BIDS_ID/EEG_Preprocessed/sub-0\" + str(10000 + i) + j + \".fdt\"\n",
    "        fileurlset = \"https://ftp.gwdg.de/pub/misc/MPI-Leipzig_Mind-Brain-Body-LEMON/EEG_MPILMBB_LEMON/EEG_Preprocessed_BIDS_ID/EEG_Preprocessed/sub-0\" + str(10000 + i) + j + \".set\"\n",
    "        try:\n",
    "            wget.download(fileurlfdt, 'sub-0' + str(10000 + i) + j + '.fdt')\n",
    "            wget.download(fileurlset, 'sub-0' + str(10000 + i) + j + '.set')\n",
    "            raw = mne.io.read_raw_eeglab('sub-0' + str(10000 + i) + j + '.set')\n",
    "            subject = \"0\" + str(10000 + i)\n",
    "            df_r = pd.DataFrame(index=idces, columns=band_dict.keys())\n",
    "            df_a = pd.DataFrame(index=channels, columns=band_dict.keys())\n",
    "            for channel in channels:\n",
    "                spectra, freqs = psd_welch(raw, fmin=1.5, fmax=45, n_fft=int(raw.info['sfreq']*4), picks=channel, verbose=False)\n",
    "                for band, lims in band_dict.items():\n",
    "                    low, high = lims\n",
    "                    idx_band = np.logical_and(freqs > low, freqs <= high)\n",
    "                    freq_res = freqs[1] - freqs[0]\n",
    "                    total_power = simps(spectra[0], dx=freq_res)\n",
    "                    abs_power = simps(spectra[0][idx_band], dx=freq_res)\n",
    "                    df_a[band][channel] = abs_power * 10**12\n",
    "                    rel_power = abs_power / total_power\n",
    "                    df_r[band][channel] = rel_power\n",
    "            for pair in pairs:\n",
    "                left, right = pair\n",
    "                for band in band_dict.keys():\n",
    "                    df_r[band][left + \"/\" + right] = df_a[band][left] / (df_a[band][left] + df_a[band][right])\n",
    "            subjects.append(subject)\n",
    "            df = pd.DataFrame(index=[subject], columns=idces1)\n",
    "            for band in band_dict.keys():\n",
    "                for channel in channels:\n",
    "                    df[channel + \"a \" + band][subject] = df_a[band][channel]\n",
    "                    df[channel + \"r \" + band][subject] = df_r[band][channel]\n",
    "                for channel in idces[12:]:\n",
    "                        df[channel + \" \" + band][subject] = df_r[band][channel]\n",
    "            os.remove('sub-0' + str(10000 + i) + j + '.fdt')\n",
    "            os.remove('sub-0' + str(10000 + i) + j + '.set')\n",
    "            if j == \"_EC\":\n",
    "                df1ec = df1ec.append(df)\n",
    "            elif j == \"_EO\":\n",
    "                df1eo = df1eo.append(df)\n",
    "        except:\n",
    "            pass"
   ]
  },
  {
   "cell_type": "code",
   "execution_count": 4,
   "metadata": {},
   "outputs": [
    {
     "data": {
      "text/html": [
       "<div>\n",
       "<style scoped>\n",
       "    .dataframe tbody tr th:only-of-type {\n",
       "        vertical-align: middle;\n",
       "    }\n",
       "\n",
       "    .dataframe tbody tr th {\n",
       "        vertical-align: top;\n",
       "    }\n",
       "\n",
       "    .dataframe thead th {\n",
       "        text-align: right;\n",
       "    }\n",
       "</style>\n",
       "<table border=\"1\" class=\"dataframe\">\n",
       "  <thead>\n",
       "    <tr style=\"text-align: right;\">\n",
       "      <th></th>\n",
       "      <th>Fp1a delta</th>\n",
       "      <th>Fp1a theta</th>\n",
       "      <th>Fp1a alpha</th>\n",
       "      <th>Fp1a beta</th>\n",
       "      <th>Fp1a gamma</th>\n",
       "      <th>Fp2a delta</th>\n",
       "      <th>Fp2a theta</th>\n",
       "      <th>Fp2a alpha</th>\n",
       "      <th>Fp2a beta</th>\n",
       "      <th>Fp2a gamma</th>\n",
       "      <th>...</th>\n",
       "      <th>P3/P4 delta</th>\n",
       "      <th>P3/P4 theta</th>\n",
       "      <th>P3/P4 alpha</th>\n",
       "      <th>P3/P4 beta</th>\n",
       "      <th>P3/P4 gamma</th>\n",
       "      <th>O1/O2 delta</th>\n",
       "      <th>O1/O2 theta</th>\n",
       "      <th>O1/O2 alpha</th>\n",
       "      <th>O1/O2 beta</th>\n",
       "      <th>O1/O2 gamma</th>\n",
       "    </tr>\n",
       "  </thead>\n",
       "  <tbody>\n",
       "    <tr>\n",
       "      <th>010002</th>\n",
       "      <td>2.47537</td>\n",
       "      <td>1.63864</td>\n",
       "      <td>3.01564</td>\n",
       "      <td>11.5988</td>\n",
       "      <td>3.48337</td>\n",
       "      <td>2.28259</td>\n",
       "      <td>1.55222</td>\n",
       "      <td>2.66411</td>\n",
       "      <td>7.49358</td>\n",
       "      <td>1.58842</td>\n",
       "      <td>...</td>\n",
       "      <td>0.478741</td>\n",
       "      <td>0.500657</td>\n",
       "      <td>0.550677</td>\n",
       "      <td>0.566536</td>\n",
       "      <td>0.580211</td>\n",
       "      <td>0.495397</td>\n",
       "      <td>0.495227</td>\n",
       "      <td>0.520955</td>\n",
       "      <td>0.557818</td>\n",
       "      <td>0.472947</td>\n",
       "    </tr>\n",
       "    <tr>\n",
       "      <th>010003</th>\n",
       "      <td>19.9222</td>\n",
       "      <td>21.1276</td>\n",
       "      <td>39.0193</td>\n",
       "      <td>6.42745</td>\n",
       "      <td>0.734595</td>\n",
       "      <td>21.0734</td>\n",
       "      <td>22.0507</td>\n",
       "      <td>37.8635</td>\n",
       "      <td>6.99701</td>\n",
       "      <td>0.901528</td>\n",
       "      <td>...</td>\n",
       "      <td>0.467111</td>\n",
       "      <td>0.462132</td>\n",
       "      <td>0.490572</td>\n",
       "      <td>0.481299</td>\n",
       "      <td>0.49005</td>\n",
       "      <td>0.480509</td>\n",
       "      <td>0.4949</td>\n",
       "      <td>0.492222</td>\n",
       "      <td>0.510392</td>\n",
       "      <td>0.61586</td>\n",
       "    </tr>\n",
       "    <tr>\n",
       "      <th>010004</th>\n",
       "      <td>7.44159</td>\n",
       "      <td>7.14334</td>\n",
       "      <td>11.5542</td>\n",
       "      <td>6.02234</td>\n",
       "      <td>0.700233</td>\n",
       "      <td>7.538</td>\n",
       "      <td>6.6857</td>\n",
       "      <td>9.01654</td>\n",
       "      <td>6.24996</td>\n",
       "      <td>0.932831</td>\n",
       "      <td>...</td>\n",
       "      <td>0.523174</td>\n",
       "      <td>0.535934</td>\n",
       "      <td>0.554881</td>\n",
       "      <td>0.513354</td>\n",
       "      <td>0.50912</td>\n",
       "      <td>0.502332</td>\n",
       "      <td>0.495862</td>\n",
       "      <td>0.46425</td>\n",
       "      <td>0.479605</td>\n",
       "      <td>0.473999</td>\n",
       "    </tr>\n",
       "    <tr>\n",
       "      <th>010005</th>\n",
       "      <td>9.80876</td>\n",
       "      <td>6.9681</td>\n",
       "      <td>11.1188</td>\n",
       "      <td>10.1388</td>\n",
       "      <td>0.35858</td>\n",
       "      <td>9.05805</td>\n",
       "      <td>6.6107</td>\n",
       "      <td>10.779</td>\n",
       "      <td>9.74515</td>\n",
       "      <td>0.350154</td>\n",
       "      <td>...</td>\n",
       "      <td>0.465592</td>\n",
       "      <td>0.500293</td>\n",
       "      <td>0.470638</td>\n",
       "      <td>0.482173</td>\n",
       "      <td>0.483798</td>\n",
       "      <td>0.516039</td>\n",
       "      <td>0.523242</td>\n",
       "      <td>0.544121</td>\n",
       "      <td>0.498107</td>\n",
       "      <td>0.504212</td>\n",
       "    </tr>\n",
       "    <tr>\n",
       "      <th>010006</th>\n",
       "      <td>3.14293</td>\n",
       "      <td>4.25457</td>\n",
       "      <td>8.85225</td>\n",
       "      <td>7.04499</td>\n",
       "      <td>0.569409</td>\n",
       "      <td>3.26639</td>\n",
       "      <td>4.24416</td>\n",
       "      <td>8.76698</td>\n",
       "      <td>7.11489</td>\n",
       "      <td>0.524147</td>\n",
       "      <td>...</td>\n",
       "      <td>0.515464</td>\n",
       "      <td>0.507248</td>\n",
       "      <td>0.411856</td>\n",
       "      <td>0.471365</td>\n",
       "      <td>0.498517</td>\n",
       "      <td>0.514724</td>\n",
       "      <td>0.508148</td>\n",
       "      <td>0.471631</td>\n",
       "      <td>0.503539</td>\n",
       "      <td>0.503567</td>\n",
       "    </tr>\n",
       "    <tr>\n",
       "      <th>...</th>\n",
       "      <td>...</td>\n",
       "      <td>...</td>\n",
       "      <td>...</td>\n",
       "      <td>...</td>\n",
       "      <td>...</td>\n",
       "      <td>...</td>\n",
       "      <td>...</td>\n",
       "      <td>...</td>\n",
       "      <td>...</td>\n",
       "      <td>...</td>\n",
       "      <td>...</td>\n",
       "      <td>...</td>\n",
       "      <td>...</td>\n",
       "      <td>...</td>\n",
       "      <td>...</td>\n",
       "      <td>...</td>\n",
       "      <td>...</td>\n",
       "      <td>...</td>\n",
       "      <td>...</td>\n",
       "      <td>...</td>\n",
       "      <td>...</td>\n",
       "    </tr>\n",
       "    <tr>\n",
       "      <th>010316</th>\n",
       "      <td>4.77519</td>\n",
       "      <td>3.58725</td>\n",
       "      <td>3.62605</td>\n",
       "      <td>1.9754</td>\n",
       "      <td>0.432544</td>\n",
       "      <td>5.34542</td>\n",
       "      <td>3.56078</td>\n",
       "      <td>4.09701</td>\n",
       "      <td>4.05123</td>\n",
       "      <td>1.23694</td>\n",
       "      <td>...</td>\n",
       "      <td>0.470399</td>\n",
       "      <td>0.479859</td>\n",
       "      <td>0.370586</td>\n",
       "      <td>0.459771</td>\n",
       "      <td>0.481945</td>\n",
       "      <td>0.513476</td>\n",
       "      <td>0.508598</td>\n",
       "      <td>0.381715</td>\n",
       "      <td>0.44799</td>\n",
       "      <td>0.487156</td>\n",
       "    </tr>\n",
       "    <tr>\n",
       "      <th>010317</th>\n",
       "      <td>1.74882</td>\n",
       "      <td>1.18847</td>\n",
       "      <td>2.27361</td>\n",
       "      <td>1.12804</td>\n",
       "      <td>0.296815</td>\n",
       "      <td>2.04289</td>\n",
       "      <td>1.33041</td>\n",
       "      <td>2.42732</td>\n",
       "      <td>1.01091</td>\n",
       "      <td>0.228158</td>\n",
       "      <td>...</td>\n",
       "      <td>0.448729</td>\n",
       "      <td>0.4446</td>\n",
       "      <td>0.402036</td>\n",
       "      <td>0.434526</td>\n",
       "      <td>0.475279</td>\n",
       "      <td>0.512463</td>\n",
       "      <td>0.512346</td>\n",
       "      <td>0.489442</td>\n",
       "      <td>0.532473</td>\n",
       "      <td>0.602015</td>\n",
       "    </tr>\n",
       "    <tr>\n",
       "      <th>010318</th>\n",
       "      <td>7.09551</td>\n",
       "      <td>3.90635</td>\n",
       "      <td>4.30373</td>\n",
       "      <td>6.29743</td>\n",
       "      <td>0.758554</td>\n",
       "      <td>8.31703</td>\n",
       "      <td>4.40364</td>\n",
       "      <td>4.70112</td>\n",
       "      <td>7.39119</td>\n",
       "      <td>0.949698</td>\n",
       "      <td>...</td>\n",
       "      <td>0.453108</td>\n",
       "      <td>0.409012</td>\n",
       "      <td>0.34304</td>\n",
       "      <td>0.410707</td>\n",
       "      <td>0.478306</td>\n",
       "      <td>0.511121</td>\n",
       "      <td>0.488979</td>\n",
       "      <td>0.555404</td>\n",
       "      <td>0.515656</td>\n",
       "      <td>0.510222</td>\n",
       "    </tr>\n",
       "    <tr>\n",
       "      <th>010319</th>\n",
       "      <td>10.9183</td>\n",
       "      <td>5.05063</td>\n",
       "      <td>23.6351</td>\n",
       "      <td>10.075</td>\n",
       "      <td>0.655482</td>\n",
       "      <td>11.343</td>\n",
       "      <td>5.36051</td>\n",
       "      <td>27.1462</td>\n",
       "      <td>11.4445</td>\n",
       "      <td>0.700679</td>\n",
       "      <td>...</td>\n",
       "      <td>0.480541</td>\n",
       "      <td>0.488522</td>\n",
       "      <td>0.421483</td>\n",
       "      <td>0.440575</td>\n",
       "      <td>0.439214</td>\n",
       "      <td>0.517001</td>\n",
       "      <td>0.51532</td>\n",
       "      <td>0.514562</td>\n",
       "      <td>0.506926</td>\n",
       "      <td>0.504901</td>\n",
       "    </tr>\n",
       "    <tr>\n",
       "      <th>010321</th>\n",
       "      <td>18.9104</td>\n",
       "      <td>24.3518</td>\n",
       "      <td>51.9332</td>\n",
       "      <td>21.0327</td>\n",
       "      <td>1.32158</td>\n",
       "      <td>17.4605</td>\n",
       "      <td>21.8344</td>\n",
       "      <td>46.6416</td>\n",
       "      <td>19.3016</td>\n",
       "      <td>1.21288</td>\n",
       "      <td>...</td>\n",
       "      <td>0.425205</td>\n",
       "      <td>0.470059</td>\n",
       "      <td>0.442103</td>\n",
       "      <td>0.494231</td>\n",
       "      <td>0.538763</td>\n",
       "      <td>0.463741</td>\n",
       "      <td>0.482795</td>\n",
       "      <td>0.495554</td>\n",
       "      <td>0.493646</td>\n",
       "      <td>0.514279</td>\n",
       "    </tr>\n",
       "  </tbody>\n",
       "</table>\n",
       "<p>176 rows × 150 columns</p>\n",
       "</div>"
      ],
      "text/plain": [
       "       Fp1a delta Fp1a theta Fp1a alpha Fp1a beta Fp1a gamma Fp2a delta  \\\n",
       "010002    2.47537    1.63864    3.01564   11.5988    3.48337    2.28259   \n",
       "010003    19.9222    21.1276    39.0193   6.42745   0.734595    21.0734   \n",
       "010004    7.44159    7.14334    11.5542   6.02234   0.700233      7.538   \n",
       "010005    9.80876     6.9681    11.1188   10.1388    0.35858    9.05805   \n",
       "010006    3.14293    4.25457    8.85225   7.04499   0.569409    3.26639   \n",
       "...           ...        ...        ...       ...        ...        ...   \n",
       "010316    4.77519    3.58725    3.62605    1.9754   0.432544    5.34542   \n",
       "010317    1.74882    1.18847    2.27361   1.12804   0.296815    2.04289   \n",
       "010318    7.09551    3.90635    4.30373   6.29743   0.758554    8.31703   \n",
       "010319    10.9183    5.05063    23.6351    10.075   0.655482     11.343   \n",
       "010321    18.9104    24.3518    51.9332   21.0327    1.32158    17.4605   \n",
       "\n",
       "       Fp2a theta Fp2a alpha Fp2a beta Fp2a gamma  ... P3/P4 delta  \\\n",
       "010002    1.55222    2.66411   7.49358    1.58842  ...    0.478741   \n",
       "010003    22.0507    37.8635   6.99701   0.901528  ...    0.467111   \n",
       "010004     6.6857    9.01654   6.24996   0.932831  ...    0.523174   \n",
       "010005     6.6107     10.779   9.74515   0.350154  ...    0.465592   \n",
       "010006    4.24416    8.76698   7.11489   0.524147  ...    0.515464   \n",
       "...           ...        ...       ...        ...  ...         ...   \n",
       "010316    3.56078    4.09701   4.05123    1.23694  ...    0.470399   \n",
       "010317    1.33041    2.42732   1.01091   0.228158  ...    0.448729   \n",
       "010318    4.40364    4.70112   7.39119   0.949698  ...    0.453108   \n",
       "010319    5.36051    27.1462   11.4445   0.700679  ...    0.480541   \n",
       "010321    21.8344    46.6416   19.3016    1.21288  ...    0.425205   \n",
       "\n",
       "       P3/P4 theta P3/P4 alpha P3/P4 beta P3/P4 gamma O1/O2 delta O1/O2 theta  \\\n",
       "010002    0.500657    0.550677   0.566536    0.580211    0.495397    0.495227   \n",
       "010003    0.462132    0.490572   0.481299     0.49005    0.480509      0.4949   \n",
       "010004    0.535934    0.554881   0.513354     0.50912    0.502332    0.495862   \n",
       "010005    0.500293    0.470638   0.482173    0.483798    0.516039    0.523242   \n",
       "010006    0.507248    0.411856   0.471365    0.498517    0.514724    0.508148   \n",
       "...            ...         ...        ...         ...         ...         ...   \n",
       "010316    0.479859    0.370586   0.459771    0.481945    0.513476    0.508598   \n",
       "010317      0.4446    0.402036   0.434526    0.475279    0.512463    0.512346   \n",
       "010318    0.409012     0.34304   0.410707    0.478306    0.511121    0.488979   \n",
       "010319    0.488522    0.421483   0.440575    0.439214    0.517001     0.51532   \n",
       "010321    0.470059    0.442103   0.494231    0.538763    0.463741    0.482795   \n",
       "\n",
       "       O1/O2 alpha O1/O2 beta O1/O2 gamma  \n",
       "010002    0.520955   0.557818    0.472947  \n",
       "010003    0.492222   0.510392     0.61586  \n",
       "010004     0.46425   0.479605    0.473999  \n",
       "010005    0.544121   0.498107    0.504212  \n",
       "010006    0.471631   0.503539    0.503567  \n",
       "...            ...        ...         ...  \n",
       "010316    0.381715    0.44799    0.487156  \n",
       "010317    0.489442   0.532473    0.602015  \n",
       "010318    0.555404   0.515656    0.510222  \n",
       "010319    0.514562   0.506926    0.504901  \n",
       "010321    0.495554   0.493646    0.514279  \n",
       "\n",
       "[176 rows x 150 columns]"
      ]
     },
     "execution_count": 4,
     "metadata": {},
     "output_type": "execute_result"
    }
   ],
   "source": [
    "df1ec"
   ]
  },
  {
   "cell_type": "code",
   "execution_count": 5,
   "metadata": {},
   "outputs": [],
   "source": [
    "df1ec.to_csv('EEG_MPIL_dataset_powers_EC.csv', index=True)"
   ]
  },
  {
   "cell_type": "code",
   "execution_count": 6,
   "metadata": {},
   "outputs": [
    {
     "data": {
      "text/html": [
       "<div>\n",
       "<style scoped>\n",
       "    .dataframe tbody tr th:only-of-type {\n",
       "        vertical-align: middle;\n",
       "    }\n",
       "\n",
       "    .dataframe tbody tr th {\n",
       "        vertical-align: top;\n",
       "    }\n",
       "\n",
       "    .dataframe thead th {\n",
       "        text-align: right;\n",
       "    }\n",
       "</style>\n",
       "<table border=\"1\" class=\"dataframe\">\n",
       "  <thead>\n",
       "    <tr style=\"text-align: right;\">\n",
       "      <th></th>\n",
       "      <th>Fp1a delta</th>\n",
       "      <th>Fp1a theta</th>\n",
       "      <th>Fp1a alpha</th>\n",
       "      <th>Fp1a beta</th>\n",
       "      <th>Fp1a gamma</th>\n",
       "      <th>Fp2a delta</th>\n",
       "      <th>Fp2a theta</th>\n",
       "      <th>Fp2a alpha</th>\n",
       "      <th>Fp2a beta</th>\n",
       "      <th>Fp2a gamma</th>\n",
       "      <th>...</th>\n",
       "      <th>P3/P4 delta</th>\n",
       "      <th>P3/P4 theta</th>\n",
       "      <th>P3/P4 alpha</th>\n",
       "      <th>P3/P4 beta</th>\n",
       "      <th>P3/P4 gamma</th>\n",
       "      <th>O1/O2 delta</th>\n",
       "      <th>O1/O2 theta</th>\n",
       "      <th>O1/O2 alpha</th>\n",
       "      <th>O1/O2 beta</th>\n",
       "      <th>O1/O2 gamma</th>\n",
       "    </tr>\n",
       "  </thead>\n",
       "  <tbody>\n",
       "    <tr>\n",
       "      <th>010002</th>\n",
       "      <td>2.96329</td>\n",
       "      <td>1.75886</td>\n",
       "      <td>2.74188</td>\n",
       "      <td>14.8829</td>\n",
       "      <td>4.59773</td>\n",
       "      <td>3.04579</td>\n",
       "      <td>1.77287</td>\n",
       "      <td>2.37401</td>\n",
       "      <td>7.50817</td>\n",
       "      <td>1.59238</td>\n",
       "      <td>...</td>\n",
       "      <td>0.473699</td>\n",
       "      <td>0.487901</td>\n",
       "      <td>0.505614</td>\n",
       "      <td>0.567835</td>\n",
       "      <td>0.557093</td>\n",
       "      <td>0.465475</td>\n",
       "      <td>0.468386</td>\n",
       "      <td>0.537042</td>\n",
       "      <td>0.543826</td>\n",
       "      <td>0.463206</td>\n",
       "    </tr>\n",
       "    <tr>\n",
       "      <th>010003</th>\n",
       "      <td>6.51389</td>\n",
       "      <td>5.82957</td>\n",
       "      <td>14.3012</td>\n",
       "      <td>4.51771</td>\n",
       "      <td>0.849736</td>\n",
       "      <td>6.65501</td>\n",
       "      <td>5.80828</td>\n",
       "      <td>13.9324</td>\n",
       "      <td>3.75329</td>\n",
       "      <td>0.50087</td>\n",
       "      <td>...</td>\n",
       "      <td>0.485737</td>\n",
       "      <td>0.458422</td>\n",
       "      <td>0.443813</td>\n",
       "      <td>0.466147</td>\n",
       "      <td>0.500808</td>\n",
       "      <td>0.509675</td>\n",
       "      <td>0.498215</td>\n",
       "      <td>0.478986</td>\n",
       "      <td>0.532515</td>\n",
       "      <td>0.634469</td>\n",
       "    </tr>\n",
       "    <tr>\n",
       "      <th>010004</th>\n",
       "      <td>4.534</td>\n",
       "      <td>4.10381</td>\n",
       "      <td>8.20201</td>\n",
       "      <td>10.9341</td>\n",
       "      <td>3.46816</td>\n",
       "      <td>2.5084</td>\n",
       "      <td>2.68571</td>\n",
       "      <td>4.97799</td>\n",
       "      <td>7.41909</td>\n",
       "      <td>1.73779</td>\n",
       "      <td>...</td>\n",
       "      <td>0.536361</td>\n",
       "      <td>0.531348</td>\n",
       "      <td>0.536021</td>\n",
       "      <td>0.507245</td>\n",
       "      <td>0.510665</td>\n",
       "      <td>0.506654</td>\n",
       "      <td>0.492829</td>\n",
       "      <td>0.484946</td>\n",
       "      <td>0.462731</td>\n",
       "      <td>0.474542</td>\n",
       "    </tr>\n",
       "    <tr>\n",
       "      <th>010005</th>\n",
       "      <td>13.001</td>\n",
       "      <td>6.37637</td>\n",
       "      <td>8.47907</td>\n",
       "      <td>10.9351</td>\n",
       "      <td>1.12015</td>\n",
       "      <td>10.5287</td>\n",
       "      <td>5.09228</td>\n",
       "      <td>7.25741</td>\n",
       "      <td>9.55564</td>\n",
       "      <td>1.14813</td>\n",
       "      <td>...</td>\n",
       "      <td>0.458471</td>\n",
       "      <td>0.484618</td>\n",
       "      <td>0.518575</td>\n",
       "      <td>0.480005</td>\n",
       "      <td>0.473664</td>\n",
       "      <td>0.502523</td>\n",
       "      <td>0.514538</td>\n",
       "      <td>0.537265</td>\n",
       "      <td>0.500549</td>\n",
       "      <td>0.485857</td>\n",
       "    </tr>\n",
       "    <tr>\n",
       "      <th>010006</th>\n",
       "      <td>2.75109</td>\n",
       "      <td>2.15725</td>\n",
       "      <td>4.77844</td>\n",
       "      <td>7.53114</td>\n",
       "      <td>2.04347</td>\n",
       "      <td>2.99856</td>\n",
       "      <td>2.41007</td>\n",
       "      <td>5.31202</td>\n",
       "      <td>11.6799</td>\n",
       "      <td>4.59419</td>\n",
       "      <td>...</td>\n",
       "      <td>0.528464</td>\n",
       "      <td>0.519394</td>\n",
       "      <td>0.478897</td>\n",
       "      <td>0.516</td>\n",
       "      <td>0.495676</td>\n",
       "      <td>0.523968</td>\n",
       "      <td>0.515604</td>\n",
       "      <td>0.505154</td>\n",
       "      <td>0.516178</td>\n",
       "      <td>0.496556</td>\n",
       "    </tr>\n",
       "    <tr>\n",
       "      <th>...</th>\n",
       "      <td>...</td>\n",
       "      <td>...</td>\n",
       "      <td>...</td>\n",
       "      <td>...</td>\n",
       "      <td>...</td>\n",
       "      <td>...</td>\n",
       "      <td>...</td>\n",
       "      <td>...</td>\n",
       "      <td>...</td>\n",
       "      <td>...</td>\n",
       "      <td>...</td>\n",
       "      <td>...</td>\n",
       "      <td>...</td>\n",
       "      <td>...</td>\n",
       "      <td>...</td>\n",
       "      <td>...</td>\n",
       "      <td>...</td>\n",
       "      <td>...</td>\n",
       "      <td>...</td>\n",
       "      <td>...</td>\n",
       "      <td>...</td>\n",
       "    </tr>\n",
       "    <tr>\n",
       "      <th>010315</th>\n",
       "      <td>3.50864</td>\n",
       "      <td>2.24501</td>\n",
       "      <td>2.86695</td>\n",
       "      <td>3.80737</td>\n",
       "      <td>0.41868</td>\n",
       "      <td>4.26623</td>\n",
       "      <td>2.46908</td>\n",
       "      <td>3.21102</td>\n",
       "      <td>4.36911</td>\n",
       "      <td>0.746186</td>\n",
       "      <td>...</td>\n",
       "      <td>0.469807</td>\n",
       "      <td>0.493699</td>\n",
       "      <td>0.523106</td>\n",
       "      <td>0.478229</td>\n",
       "      <td>0.527235</td>\n",
       "      <td>0.465137</td>\n",
       "      <td>0.481502</td>\n",
       "      <td>0.487168</td>\n",
       "      <td>0.478506</td>\n",
       "      <td>0.496092</td>\n",
       "    </tr>\n",
       "    <tr>\n",
       "      <th>010316</th>\n",
       "      <td>5.66838</td>\n",
       "      <td>4.37441</td>\n",
       "      <td>2.16633</td>\n",
       "      <td>1.63037</td>\n",
       "      <td>0.352707</td>\n",
       "      <td>6.15741</td>\n",
       "      <td>4.67368</td>\n",
       "      <td>2.31218</td>\n",
       "      <td>1.82235</td>\n",
       "      <td>0.418161</td>\n",
       "      <td>...</td>\n",
       "      <td>0.496886</td>\n",
       "      <td>0.504561</td>\n",
       "      <td>0.494965</td>\n",
       "      <td>0.491063</td>\n",
       "      <td>0.470268</td>\n",
       "      <td>0.50139</td>\n",
       "      <td>0.504902</td>\n",
       "      <td>0.496936</td>\n",
       "      <td>0.495394</td>\n",
       "      <td>0.482235</td>\n",
       "    </tr>\n",
       "    <tr>\n",
       "      <th>010318</th>\n",
       "      <td>4.3709</td>\n",
       "      <td>2.28835</td>\n",
       "      <td>1.69924</td>\n",
       "      <td>5.64724</td>\n",
       "      <td>0.892734</td>\n",
       "      <td>6.2487</td>\n",
       "      <td>2.95255</td>\n",
       "      <td>2.14379</td>\n",
       "      <td>7.06724</td>\n",
       "      <td>1.24966</td>\n",
       "      <td>...</td>\n",
       "      <td>0.461284</td>\n",
       "      <td>0.459103</td>\n",
       "      <td>0.472405</td>\n",
       "      <td>0.45849</td>\n",
       "      <td>0.47013</td>\n",
       "      <td>0.497453</td>\n",
       "      <td>0.485832</td>\n",
       "      <td>0.499386</td>\n",
       "      <td>0.501177</td>\n",
       "      <td>0.508355</td>\n",
       "    </tr>\n",
       "    <tr>\n",
       "      <th>010319</th>\n",
       "      <td>12.2634</td>\n",
       "      <td>4.8614</td>\n",
       "      <td>13.1688</td>\n",
       "      <td>14.8624</td>\n",
       "      <td>1.86962</td>\n",
       "      <td>11.4096</td>\n",
       "      <td>4.53821</td>\n",
       "      <td>13.7349</td>\n",
       "      <td>10.7702</td>\n",
       "      <td>0.730452</td>\n",
       "      <td>...</td>\n",
       "      <td>0.454806</td>\n",
       "      <td>0.483272</td>\n",
       "      <td>0.509207</td>\n",
       "      <td>0.443675</td>\n",
       "      <td>0.472377</td>\n",
       "      <td>0.49469</td>\n",
       "      <td>0.491955</td>\n",
       "      <td>0.558415</td>\n",
       "      <td>0.510408</td>\n",
       "      <td>0.507811</td>\n",
       "    </tr>\n",
       "    <tr>\n",
       "      <th>010321</th>\n",
       "      <td>8.17724</td>\n",
       "      <td>8.974</td>\n",
       "      <td>28.9021</td>\n",
       "      <td>11.5882</td>\n",
       "      <td>1.03272</td>\n",
       "      <td>7.17407</td>\n",
       "      <td>8.49242</td>\n",
       "      <td>26.9209</td>\n",
       "      <td>10.4563</td>\n",
       "      <td>0.687748</td>\n",
       "      <td>...</td>\n",
       "      <td>0.480289</td>\n",
       "      <td>0.480505</td>\n",
       "      <td>0.443541</td>\n",
       "      <td>0.513097</td>\n",
       "      <td>0.53002</td>\n",
       "      <td>0.469535</td>\n",
       "      <td>0.508491</td>\n",
       "      <td>0.534282</td>\n",
       "      <td>0.48175</td>\n",
       "      <td>0.488286</td>\n",
       "    </tr>\n",
       "  </tbody>\n",
       "</table>\n",
       "<p>170 rows × 150 columns</p>\n",
       "</div>"
      ],
      "text/plain": [
       "       Fp1a delta Fp1a theta Fp1a alpha Fp1a beta Fp1a gamma Fp2a delta  \\\n",
       "010002    2.96329    1.75886    2.74188   14.8829    4.59773    3.04579   \n",
       "010003    6.51389    5.82957    14.3012   4.51771   0.849736    6.65501   \n",
       "010004      4.534    4.10381    8.20201   10.9341    3.46816     2.5084   \n",
       "010005     13.001    6.37637    8.47907   10.9351    1.12015    10.5287   \n",
       "010006    2.75109    2.15725    4.77844   7.53114    2.04347    2.99856   \n",
       "...           ...        ...        ...       ...        ...        ...   \n",
       "010315    3.50864    2.24501    2.86695   3.80737    0.41868    4.26623   \n",
       "010316    5.66838    4.37441    2.16633   1.63037   0.352707    6.15741   \n",
       "010318     4.3709    2.28835    1.69924   5.64724   0.892734     6.2487   \n",
       "010319    12.2634     4.8614    13.1688   14.8624    1.86962    11.4096   \n",
       "010321    8.17724      8.974    28.9021   11.5882    1.03272    7.17407   \n",
       "\n",
       "       Fp2a theta Fp2a alpha Fp2a beta Fp2a gamma  ... P3/P4 delta  \\\n",
       "010002    1.77287    2.37401   7.50817    1.59238  ...    0.473699   \n",
       "010003    5.80828    13.9324   3.75329    0.50087  ...    0.485737   \n",
       "010004    2.68571    4.97799   7.41909    1.73779  ...    0.536361   \n",
       "010005    5.09228    7.25741   9.55564    1.14813  ...    0.458471   \n",
       "010006    2.41007    5.31202   11.6799    4.59419  ...    0.528464   \n",
       "...           ...        ...       ...        ...  ...         ...   \n",
       "010315    2.46908    3.21102   4.36911   0.746186  ...    0.469807   \n",
       "010316    4.67368    2.31218   1.82235   0.418161  ...    0.496886   \n",
       "010318    2.95255    2.14379   7.06724    1.24966  ...    0.461284   \n",
       "010319    4.53821    13.7349   10.7702   0.730452  ...    0.454806   \n",
       "010321    8.49242    26.9209   10.4563   0.687748  ...    0.480289   \n",
       "\n",
       "       P3/P4 theta P3/P4 alpha P3/P4 beta P3/P4 gamma O1/O2 delta O1/O2 theta  \\\n",
       "010002    0.487901    0.505614   0.567835    0.557093    0.465475    0.468386   \n",
       "010003    0.458422    0.443813   0.466147    0.500808    0.509675    0.498215   \n",
       "010004    0.531348    0.536021   0.507245    0.510665    0.506654    0.492829   \n",
       "010005    0.484618    0.518575   0.480005    0.473664    0.502523    0.514538   \n",
       "010006    0.519394    0.478897      0.516    0.495676    0.523968    0.515604   \n",
       "...            ...         ...        ...         ...         ...         ...   \n",
       "010315    0.493699    0.523106   0.478229    0.527235    0.465137    0.481502   \n",
       "010316    0.504561    0.494965   0.491063    0.470268     0.50139    0.504902   \n",
       "010318    0.459103    0.472405    0.45849     0.47013    0.497453    0.485832   \n",
       "010319    0.483272    0.509207   0.443675    0.472377     0.49469    0.491955   \n",
       "010321    0.480505    0.443541   0.513097     0.53002    0.469535    0.508491   \n",
       "\n",
       "       O1/O2 alpha O1/O2 beta O1/O2 gamma  \n",
       "010002    0.537042   0.543826    0.463206  \n",
       "010003    0.478986   0.532515    0.634469  \n",
       "010004    0.484946   0.462731    0.474542  \n",
       "010005    0.537265   0.500549    0.485857  \n",
       "010006    0.505154   0.516178    0.496556  \n",
       "...            ...        ...         ...  \n",
       "010315    0.487168   0.478506    0.496092  \n",
       "010316    0.496936   0.495394    0.482235  \n",
       "010318    0.499386   0.501177    0.508355  \n",
       "010319    0.558415   0.510408    0.507811  \n",
       "010321    0.534282    0.48175    0.488286  \n",
       "\n",
       "[170 rows x 150 columns]"
      ]
     },
     "execution_count": 6,
     "metadata": {},
     "output_type": "execute_result"
    }
   ],
   "source": [
    "df1eo"
   ]
  },
  {
   "cell_type": "code",
   "execution_count": 7,
   "metadata": {},
   "outputs": [],
   "source": [
    "df1eo.to_csv('EEG_MPIL_dataset_powers_EO.csv', index=True)"
   ]
  },
  {
   "cell_type": "code",
   "execution_count": 8,
   "metadata": {},
   "outputs": [
    {
     "name": "stdout",
     "output_type": "stream",
     "text": [
      "100% [..............................................................................] 39364 / 39364"
     ]
    },
    {
     "data": {
      "text/plain": [
       "'MPIL_subject_data (1).csv'"
      ]
     },
     "execution_count": 8,
     "metadata": {},
     "output_type": "execute_result"
    }
   ],
   "source": [
    "wget.download('https://ftp.gwdg.de/pub/misc/MPI-Leipzig_Mind-Brain-Body-LEMON/Behavioural_Data_MPILMBB_LEMON/META_File_IDs_Age_Gender_Education_Drug_Smoke_SKID_LEMON.csv', 'MPIL_subject_data.csv')"
   ]
  },
  {
   "cell_type": "code",
   "execution_count": 9,
   "metadata": {},
   "outputs": [
    {
     "data": {
      "text/html": [
       "<div>\n",
       "<style scoped>\n",
       "    .dataframe tbody tr th:only-of-type {\n",
       "        vertical-align: middle;\n",
       "    }\n",
       "\n",
       "    .dataframe tbody tr th {\n",
       "        vertical-align: top;\n",
       "    }\n",
       "\n",
       "    .dataframe thead th {\n",
       "        text-align: right;\n",
       "    }\n",
       "</style>\n",
       "<table border=\"1\" class=\"dataframe\">\n",
       "  <thead>\n",
       "    <tr style=\"text-align: right;\">\n",
       "      <th></th>\n",
       "      <th>Gender_ 1=female_2=male</th>\n",
       "      <th>Age</th>\n",
       "      <th>Handedness</th>\n",
       "      <th>Education</th>\n",
       "      <th>DRUG</th>\n",
       "      <th>DRUG_0=negative_1=Positive</th>\n",
       "      <th>Unnamed: 7</th>\n",
       "      <th>Smoking</th>\n",
       "      <th>Smoking_num_(Non-smoker=1, Occasional Smoker=2, Smoker=3)</th>\n",
       "      <th>SKID_Diagnoses</th>\n",
       "      <th>SKID_Diagnoses 1</th>\n",
       "      <th>SKID_Diagnoses 2</th>\n",
       "      <th>Comments_SKID_assessment</th>\n",
       "      <th>Hamilton_Scale</th>\n",
       "      <th>BSL23_sumscore</th>\n",
       "      <th>BSL23_behavior</th>\n",
       "      <th>AUDIT</th>\n",
       "      <th>Standard_Alcoholunits_Last_28days</th>\n",
       "      <th>Alcohol_Dependence_In_1st-3rd_Degree_relative</th>\n",
       "      <th>Relationship_Status</th>\n",
       "    </tr>\n",
       "    <tr>\n",
       "      <th>ID</th>\n",
       "      <th></th>\n",
       "      <th></th>\n",
       "      <th></th>\n",
       "      <th></th>\n",
       "      <th></th>\n",
       "      <th></th>\n",
       "      <th></th>\n",
       "      <th></th>\n",
       "      <th></th>\n",
       "      <th></th>\n",
       "      <th></th>\n",
       "      <th></th>\n",
       "      <th></th>\n",
       "      <th></th>\n",
       "      <th></th>\n",
       "      <th></th>\n",
       "      <th></th>\n",
       "      <th></th>\n",
       "      <th></th>\n",
       "      <th></th>\n",
       "    </tr>\n",
       "  </thead>\n",
       "  <tbody>\n",
       "    <tr>\n",
       "      <th>sub-010017</th>\n",
       "      <td>2</td>\n",
       "      <td>20-25</td>\n",
       "      <td>right</td>\n",
       "      <td>Gymnasium</td>\n",
       "      <td>negative</td>\n",
       "      <td>0.0</td>\n",
       "      <td>NaN</td>\n",
       "      <td>non-smoker</td>\n",
       "      <td>1.0</td>\n",
       "      <td>none</td>\n",
       "      <td>#CODE:V71.09  #DESC:No Diagnosis or Condition ...</td>\n",
       "      <td>NaN</td>\n",
       "      <td>NaN</td>\n",
       "      <td>0.0</td>\n",
       "      <td>NaN</td>\n",
       "      <td>NaN</td>\n",
       "      <td>12.0</td>\n",
       "      <td>47</td>\n",
       "      <td>No</td>\n",
       "      <td>No</td>\n",
       "    </tr>\n",
       "    <tr>\n",
       "      <th>sub-010015</th>\n",
       "      <td>2</td>\n",
       "      <td>20-25</td>\n",
       "      <td>right</td>\n",
       "      <td>Gymnasium</td>\n",
       "      <td>negative</td>\n",
       "      <td>0.0</td>\n",
       "      <td>NaN</td>\n",
       "      <td>occasional smoker</td>\n",
       "      <td>2.0</td>\n",
       "      <td>none</td>\n",
       "      <td>#CODE:V71.09  #DESC:No Diagnosis or Condition ...</td>\n",
       "      <td>NaN</td>\n",
       "      <td>NaN</td>\n",
       "      <td>0.0</td>\n",
       "      <td>NaN</td>\n",
       "      <td>NaN</td>\n",
       "      <td>12.0</td>\n",
       "      <td>45</td>\n",
       "      <td>Yes</td>\n",
       "      <td>Yes</td>\n",
       "    </tr>\n",
       "    <tr>\n",
       "      <th>sub-010100</th>\n",
       "      <td>2</td>\n",
       "      <td>25-30</td>\n",
       "      <td>right</td>\n",
       "      <td>Gymnasium</td>\n",
       "      <td>negative</td>\n",
       "      <td>0.0</td>\n",
       "      <td>NaN</td>\n",
       "      <td>occasional smoker</td>\n",
       "      <td>2.0</td>\n",
       "      <td>NaN</td>\n",
       "      <td>NaN</td>\n",
       "      <td>NaN</td>\n",
       "      <td>NaN</td>\n",
       "      <td>2.0</td>\n",
       "      <td>NaN</td>\n",
       "      <td>NaN</td>\n",
       "      <td>0.0</td>\n",
       "      <td>12</td>\n",
       "      <td>unknown</td>\n",
       "      <td>Yes</td>\n",
       "    </tr>\n",
       "    <tr>\n",
       "      <th>sub-010003</th>\n",
       "      <td>1</td>\n",
       "      <td>20-25</td>\n",
       "      <td>right</td>\n",
       "      <td>Gymnasium</td>\n",
       "      <td>negative</td>\n",
       "      <td>0.0</td>\n",
       "      <td>NaN</td>\n",
       "      <td>non-smoker</td>\n",
       "      <td>1.0</td>\n",
       "      <td>none</td>\n",
       "      <td>#CODE:V71.09  #DESC:No Diagnosis or Condition ...</td>\n",
       "      <td>NaN</td>\n",
       "      <td>NaN</td>\n",
       "      <td>3.0</td>\n",
       "      <td>NaN</td>\n",
       "      <td>NaN</td>\n",
       "      <td>1.0</td>\n",
       "      <td>0</td>\n",
       "      <td>No</td>\n",
       "      <td>No</td>\n",
       "    </tr>\n",
       "    <tr>\n",
       "      <th>sub-010022</th>\n",
       "      <td>2</td>\n",
       "      <td>20-25</td>\n",
       "      <td>right</td>\n",
       "      <td>Gymnasium</td>\n",
       "      <td>negative</td>\n",
       "      <td>0.0</td>\n",
       "      <td>NaN</td>\n",
       "      <td>non-smoker</td>\n",
       "      <td>1.0</td>\n",
       "      <td>none</td>\n",
       "      <td>#CODE:V71.09  #DESC:No Diagnosis or Condition ...</td>\n",
       "      <td>NaN</td>\n",
       "      <td>NaN</td>\n",
       "      <td>2.0</td>\n",
       "      <td>NaN</td>\n",
       "      <td>NaN</td>\n",
       "      <td>7.0</td>\n",
       "      <td>22</td>\n",
       "      <td>No</td>\n",
       "      <td>No</td>\n",
       "    </tr>\n",
       "    <tr>\n",
       "      <th>...</th>\n",
       "      <td>...</td>\n",
       "      <td>...</td>\n",
       "      <td>...</td>\n",
       "      <td>...</td>\n",
       "      <td>...</td>\n",
       "      <td>...</td>\n",
       "      <td>...</td>\n",
       "      <td>...</td>\n",
       "      <td>...</td>\n",
       "      <td>...</td>\n",
       "      <td>...</td>\n",
       "      <td>...</td>\n",
       "      <td>...</td>\n",
       "      <td>...</td>\n",
       "      <td>...</td>\n",
       "      <td>...</td>\n",
       "      <td>...</td>\n",
       "      <td>...</td>\n",
       "      <td>...</td>\n",
       "      <td>...</td>\n",
       "    </tr>\n",
       "    <tr>\n",
       "      <th>sub-010005</th>\n",
       "      <td>2</td>\n",
       "      <td>25-30</td>\n",
       "      <td>right</td>\n",
       "      <td>Gymnasium</td>\n",
       "      <td>negative</td>\n",
       "      <td>0.0</td>\n",
       "      <td>NaN</td>\n",
       "      <td>non-smoker</td>\n",
       "      <td>1.0</td>\n",
       "      <td>none</td>\n",
       "      <td>#CODE:V71.09  #DESC:No Diagnosis or Condition ...</td>\n",
       "      <td>NaN</td>\n",
       "      <td>NaN</td>\n",
       "      <td>0.0</td>\n",
       "      <td>4.0</td>\n",
       "      <td>0.0</td>\n",
       "      <td>1.0</td>\n",
       "      <td>1</td>\n",
       "      <td>No</td>\n",
       "      <td>No</td>\n",
       "    </tr>\n",
       "    <tr>\n",
       "      <th>sub-010231</th>\n",
       "      <td>2</td>\n",
       "      <td>20-25</td>\n",
       "      <td>left</td>\n",
       "      <td>Gymnasium</td>\n",
       "      <td>negative</td>\n",
       "      <td>0.0</td>\n",
       "      <td>NaN</td>\n",
       "      <td>non-smoker</td>\n",
       "      <td>1.0</td>\n",
       "      <td>none</td>\n",
       "      <td>#CODE:V71.09  #DESC:No Diagnosis or Condition ...</td>\n",
       "      <td>NaN</td>\n",
       "      <td>suspected diagnosis: panic disorder, alcohol a...</td>\n",
       "      <td>1.0</td>\n",
       "      <td>4.0</td>\n",
       "      <td>1.0</td>\n",
       "      <td>5.0</td>\n",
       "      <td>18</td>\n",
       "      <td>no</td>\n",
       "      <td>no</td>\n",
       "    </tr>\n",
       "    <tr>\n",
       "      <th>sub-010232</th>\n",
       "      <td>2</td>\n",
       "      <td>25-30</td>\n",
       "      <td>left</td>\n",
       "      <td>Gymnasium</td>\n",
       "      <td>negative</td>\n",
       "      <td>0.0</td>\n",
       "      <td>NaN</td>\n",
       "      <td>non-smoker</td>\n",
       "      <td>1.0</td>\n",
       "      <td>none</td>\n",
       "      <td>#CODE:V71.09  #DESC:No Diagnosis or Condition ...</td>\n",
       "      <td>NaN</td>\n",
       "      <td>NaN</td>\n",
       "      <td>5.0</td>\n",
       "      <td>2.0</td>\n",
       "      <td>1.0</td>\n",
       "      <td>3.0</td>\n",
       "      <td>29</td>\n",
       "      <td>no</td>\n",
       "      <td>yes</td>\n",
       "    </tr>\n",
       "    <tr>\n",
       "      <th>sub-010233</th>\n",
       "      <td>2</td>\n",
       "      <td>25-30</td>\n",
       "      <td>right</td>\n",
       "      <td>Gymnasium</td>\n",
       "      <td>negative</td>\n",
       "      <td>0.0</td>\n",
       "      <td>NaN</td>\n",
       "      <td>non-smoker</td>\n",
       "      <td>1.0</td>\n",
       "      <td>none</td>\n",
       "      <td>#CODE:300.29 #DESC: Mild Specific phobia #SPEC...</td>\n",
       "      <td>NaN</td>\n",
       "      <td>subclinical specific phobia</td>\n",
       "      <td>3.0</td>\n",
       "      <td>3.0</td>\n",
       "      <td>1.0</td>\n",
       "      <td>3.0</td>\n",
       "      <td>16,5</td>\n",
       "      <td>no</td>\n",
       "      <td>yes</td>\n",
       "    </tr>\n",
       "    <tr>\n",
       "      <th>sub-010318</th>\n",
       "      <td>2</td>\n",
       "      <td>20-25</td>\n",
       "      <td>right</td>\n",
       "      <td>Gymnasium</td>\n",
       "      <td>negative</td>\n",
       "      <td>0.0</td>\n",
       "      <td>NaN</td>\n",
       "      <td>non-smoker</td>\n",
       "      <td>1.0</td>\n",
       "      <td>none</td>\n",
       "      <td>#CODE:V71.09  #DESC:No Diagnosis or Condition ...</td>\n",
       "      <td>NaN</td>\n",
       "      <td>NaN</td>\n",
       "      <td>2.0</td>\n",
       "      <td>8.0</td>\n",
       "      <td>0.0</td>\n",
       "      <td>2.0</td>\n",
       "      <td>12</td>\n",
       "      <td>yes</td>\n",
       "      <td>yes</td>\n",
       "    </tr>\n",
       "  </tbody>\n",
       "</table>\n",
       "<p>227 rows × 20 columns</p>\n",
       "</div>"
      ],
      "text/plain": [
       "            Gender_ 1=female_2=male    Age Handedness  Education      DRUG  \\\n",
       "ID                                                                           \n",
       "sub-010017                        2  20-25      right  Gymnasium  negative   \n",
       "sub-010015                        2  20-25      right  Gymnasium  negative   \n",
       "sub-010100                        2  25-30      right  Gymnasium  negative   \n",
       "sub-010003                        1  20-25      right  Gymnasium  negative   \n",
       "sub-010022                        2  20-25      right  Gymnasium  negative   \n",
       "...                             ...    ...        ...        ...       ...   \n",
       "sub-010005                        2  25-30      right  Gymnasium  negative   \n",
       "sub-010231                        2  20-25       left  Gymnasium  negative   \n",
       "sub-010232                        2  25-30       left  Gymnasium  negative   \n",
       "sub-010233                        2  25-30      right  Gymnasium  negative   \n",
       "sub-010318                        2  20-25      right  Gymnasium  negative   \n",
       "\n",
       "            DRUG_0=negative_1=Positive Unnamed: 7            Smoking  \\\n",
       "ID                                                                     \n",
       "sub-010017                         0.0        NaN         non-smoker   \n",
       "sub-010015                         0.0        NaN  occasional smoker   \n",
       "sub-010100                         0.0        NaN  occasional smoker   \n",
       "sub-010003                         0.0        NaN         non-smoker   \n",
       "sub-010022                         0.0        NaN         non-smoker   \n",
       "...                                ...        ...                ...   \n",
       "sub-010005                         0.0        NaN         non-smoker   \n",
       "sub-010231                         0.0        NaN         non-smoker   \n",
       "sub-010232                         0.0        NaN         non-smoker   \n",
       "sub-010233                         0.0        NaN         non-smoker   \n",
       "sub-010318                         0.0        NaN         non-smoker   \n",
       "\n",
       "            Smoking_num_(Non-smoker=1, Occasional Smoker=2, Smoker=3)  \\\n",
       "ID                                                                      \n",
       "sub-010017                                                1.0           \n",
       "sub-010015                                                2.0           \n",
       "sub-010100                                                2.0           \n",
       "sub-010003                                                1.0           \n",
       "sub-010022                                                1.0           \n",
       "...                                                       ...           \n",
       "sub-010005                                                1.0           \n",
       "sub-010231                                                1.0           \n",
       "sub-010232                                                1.0           \n",
       "sub-010233                                                1.0           \n",
       "sub-010318                                                1.0           \n",
       "\n",
       "           SKID_Diagnoses                                   SKID_Diagnoses 1  \\\n",
       "ID                                                                             \n",
       "sub-010017           none  #CODE:V71.09  #DESC:No Diagnosis or Condition ...   \n",
       "sub-010015           none  #CODE:V71.09  #DESC:No Diagnosis or Condition ...   \n",
       "sub-010100            NaN                                                NaN   \n",
       "sub-010003           none  #CODE:V71.09  #DESC:No Diagnosis or Condition ...   \n",
       "sub-010022           none  #CODE:V71.09  #DESC:No Diagnosis or Condition ...   \n",
       "...                   ...                                                ...   \n",
       "sub-010005           none  #CODE:V71.09  #DESC:No Diagnosis or Condition ...   \n",
       "sub-010231           none  #CODE:V71.09  #DESC:No Diagnosis or Condition ...   \n",
       "sub-010232           none  #CODE:V71.09  #DESC:No Diagnosis or Condition ...   \n",
       "sub-010233           none  #CODE:300.29 #DESC: Mild Specific phobia #SPEC...   \n",
       "sub-010318           none  #CODE:V71.09  #DESC:No Diagnosis or Condition ...   \n",
       "\n",
       "           SKID_Diagnoses 2  \\\n",
       "ID                            \n",
       "sub-010017              NaN   \n",
       "sub-010015              NaN   \n",
       "sub-010100              NaN   \n",
       "sub-010003              NaN   \n",
       "sub-010022              NaN   \n",
       "...                     ...   \n",
       "sub-010005              NaN   \n",
       "sub-010231              NaN   \n",
       "sub-010232              NaN   \n",
       "sub-010233              NaN   \n",
       "sub-010318              NaN   \n",
       "\n",
       "                                     Comments_SKID_assessment  Hamilton_Scale  \\\n",
       "ID                                                                              \n",
       "sub-010017                                                NaN             0.0   \n",
       "sub-010015                                                NaN             0.0   \n",
       "sub-010100                                                NaN             2.0   \n",
       "sub-010003                                                NaN             3.0   \n",
       "sub-010022                                                NaN             2.0   \n",
       "...                                                       ...             ...   \n",
       "sub-010005                                                NaN             0.0   \n",
       "sub-010231  suspected diagnosis: panic disorder, alcohol a...             1.0   \n",
       "sub-010232                                                NaN             5.0   \n",
       "sub-010233                        subclinical specific phobia             3.0   \n",
       "sub-010318                                                NaN             2.0   \n",
       "\n",
       "            BSL23_sumscore  BSL23_behavior  AUDIT  \\\n",
       "ID                                                  \n",
       "sub-010017             NaN             NaN   12.0   \n",
       "sub-010015             NaN             NaN   12.0   \n",
       "sub-010100             NaN             NaN    0.0   \n",
       "sub-010003             NaN             NaN    1.0   \n",
       "sub-010022             NaN             NaN    7.0   \n",
       "...                    ...             ...    ...   \n",
       "sub-010005             4.0             0.0    1.0   \n",
       "sub-010231             4.0             1.0    5.0   \n",
       "sub-010232             2.0             1.0    3.0   \n",
       "sub-010233             3.0             1.0    3.0   \n",
       "sub-010318             8.0             0.0    2.0   \n",
       "\n",
       "           Standard_Alcoholunits_Last_28days  \\\n",
       "ID                                             \n",
       "sub-010017                                47   \n",
       "sub-010015                                45   \n",
       "sub-010100                                12   \n",
       "sub-010003                                 0   \n",
       "sub-010022                                22   \n",
       "...                                      ...   \n",
       "sub-010005                                 1   \n",
       "sub-010231                                18   \n",
       "sub-010232                                29   \n",
       "sub-010233                              16,5   \n",
       "sub-010318                                12   \n",
       "\n",
       "           Alcohol_Dependence_In_1st-3rd_Degree_relative Relationship_Status  \n",
       "ID                                                                            \n",
       "sub-010017                                            No                  No  \n",
       "sub-010015                                           Yes                 Yes  \n",
       "sub-010100                                       unknown                 Yes  \n",
       "sub-010003                                            No                  No  \n",
       "sub-010022                                            No                  No  \n",
       "...                                                  ...                 ...  \n",
       "sub-010005                                            No                  No  \n",
       "sub-010231                                            no                  no  \n",
       "sub-010232                                            no                 yes  \n",
       "sub-010233                                            no                 yes  \n",
       "sub-010318                                           yes                 yes  \n",
       "\n",
       "[227 rows x 20 columns]"
      ]
     },
     "execution_count": 9,
     "metadata": {},
     "output_type": "execute_result"
    }
   ],
   "source": [
    "df2 = pd.read_csv('MPIL_subject_data.csv', index_col='ID')\n",
    "df2"
   ]
  }
 ],
 "metadata": {
  "kernelspec": {
   "display_name": "Python 3",
   "language": "python",
   "name": "python3"
  },
  "language_info": {
   "codemirror_mode": {
    "name": "ipython",
    "version": 3
   },
   "file_extension": ".py",
   "mimetype": "text/x-python",
   "name": "python",
   "nbconvert_exporter": "python",
   "pygments_lexer": "ipython3",
   "version": "3.7.6"
  }
 },
 "nbformat": 4,
 "nbformat_minor": 4
}
